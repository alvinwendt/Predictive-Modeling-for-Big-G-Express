{
 "cells": [
  {
   "cell_type": "code",
   "execution_count": 1,
   "id": "impossible-valley",
   "metadata": {},
   "outputs": [],
   "source": [
    "import pandas as pd\n",
    "import numpy as np\n",
    "from numpy import arange\n",
    "import datetime as dt\n",
    "\n",
    "from sklearn.model_selection import train_test_split\n",
    "from sklearn.linear_model import LogisticRegression, LinearRegression\n",
    "from sklearn import metrics\n",
    "from sklearn.metrics import classification_report, f1_score, accuracy_score, confusion_matrix\n",
    "\n",
    "from cm import plot_confusion_matrix\n",
    "\n",
    "import tensorflow as tf"
   ]
  },
  {
   "cell_type": "code",
   "execution_count": 2,
   "id": "small-couple",
   "metadata": {},
   "outputs": [],
   "source": [
    "real_codes = pd.read_csv('data/J1939Faults.csv', low_memory = False)\n",
    "onboard = pd.read_csv('data/VehicleDiagnosticOnboardData.csv', low_memory = False)"
   ]
  },
  {
   "cell_type": "markdown",
   "id": "potential-lyric",
   "metadata": {},
   "source": [
    "# Initial data cleaning and filtering"
   ]
  },
  {
   "cell_type": "code",
   "execution_count": 3,
   "id": "surrounded-speaker",
   "metadata": {},
   "outputs": [],
   "source": [
    "#Per the project's instructions: \n",
    "\n",
    "real_codes = real_codes[real_codes['EquipmentID'].str.len() < 6]\n",
    "real_codes = real_codes[real_codes['ecuMake'] == 'CMMNS']\n",
    "real_codes = real_codes[real_codes['active'] == True]"
   ]
  },
  {
   "cell_type": "code",
   "execution_count": 4,
   "id": "fatal-storm",
   "metadata": {},
   "outputs": [],
   "source": [
    "real_codes = real_codes.drop(columns=['actionDescription', 'faultValue', 'MCTNumber'])"
   ]
  },
  {
   "cell_type": "code",
   "execution_count": 5,
   "id": "civilian-american",
   "metadata": {},
   "outputs": [
    {
     "data": {
      "text/html": [
       "<div>\n",
       "<style scoped>\n",
       "    .dataframe tbody tr th:only-of-type {\n",
       "        vertical-align: middle;\n",
       "    }\n",
       "\n",
       "    .dataframe tbody tr th {\n",
       "        vertical-align: top;\n",
       "    }\n",
       "\n",
       "    .dataframe thead th {\n",
       "        text-align: right;\n",
       "    }\n",
       "</style>\n",
       "<table border=\"1\" class=\"dataframe\">\n",
       "  <thead>\n",
       "    <tr style=\"text-align: right;\">\n",
       "      <th></th>\n",
       "      <th>RecordID</th>\n",
       "      <th>ESS_Id</th>\n",
       "      <th>EventTimeStamp</th>\n",
       "      <th>eventDescription</th>\n",
       "      <th>ecuSoftwareVersion</th>\n",
       "      <th>ecuSerialNumber</th>\n",
       "      <th>ecuModel</th>\n",
       "      <th>ecuMake</th>\n",
       "      <th>ecuSource</th>\n",
       "      <th>spn</th>\n",
       "      <th>fmi</th>\n",
       "      <th>active</th>\n",
       "      <th>activeTransitionCount</th>\n",
       "      <th>EquipmentID</th>\n",
       "      <th>Latitude</th>\n",
       "      <th>Longitude</th>\n",
       "      <th>LocationTimeStamp</th>\n",
       "    </tr>\n",
       "  </thead>\n",
       "  <tbody>\n",
       "    <tr>\n",
       "      <th>11438</th>\n",
       "      <td>12321</td>\n",
       "      <td>1514613</td>\n",
       "      <td>2015-03-24 11:07:15.000</td>\n",
       "      <td>Condition Exists Catalyst Dosing Unit Input Lines</td>\n",
       "      <td>04993120*00019058*082113134117*07700053*I0*BBZ*</td>\n",
       "      <td>79461375</td>\n",
       "      <td>6X1u10D1500000000</td>\n",
       "      <td>CMMNS</td>\n",
       "      <td>0</td>\n",
       "      <td>3362</td>\n",
       "      <td>31</td>\n",
       "      <td>True</td>\n",
       "      <td>1</td>\n",
       "      <td>1370</td>\n",
       "      <td>36.876574</td>\n",
       "      <td>-81.397361</td>\n",
       "      <td>2015-03-24 11:07:51.000</td>\n",
       "    </tr>\n",
       "    <tr>\n",
       "      <th>11475</th>\n",
       "      <td>12358</td>\n",
       "      <td>1519318</td>\n",
       "      <td>2015-03-24 14:37:17.000</td>\n",
       "      <td>Condition Exists Catalyst Dosing Unit Input Lines</td>\n",
       "      <td>04993120*00019058*082113134117*07700053*I0*BBZ*</td>\n",
       "      <td>79461375</td>\n",
       "      <td>6X1u10D1500000000</td>\n",
       "      <td>CMMNS</td>\n",
       "      <td>0</td>\n",
       "      <td>3362</td>\n",
       "      <td>31</td>\n",
       "      <td>True</td>\n",
       "      <td>1</td>\n",
       "      <td>1370</td>\n",
       "      <td>36.194861</td>\n",
       "      <td>-83.174768</td>\n",
       "      <td>2015-03-24 14:37:52.000</td>\n",
       "    </tr>\n",
       "    <tr>\n",
       "      <th>11491</th>\n",
       "      <td>12374</td>\n",
       "      <td>1520761</td>\n",
       "      <td>2015-03-24 15:41:08.000</td>\n",
       "      <td>Condition Exists Catalyst Dosing Unit Input Lines</td>\n",
       "      <td>04993120*00019058*082113134117*07700053*I0*BBZ*</td>\n",
       "      <td>79461375</td>\n",
       "      <td>6X1u10D1500000000</td>\n",
       "      <td>CMMNS</td>\n",
       "      <td>0</td>\n",
       "      <td>3362</td>\n",
       "      <td>31</td>\n",
       "      <td>True</td>\n",
       "      <td>1</td>\n",
       "      <td>1370</td>\n",
       "      <td>36.194814</td>\n",
       "      <td>-83.174722</td>\n",
       "      <td>2015-03-24 15:41:45.000</td>\n",
       "    </tr>\n",
       "    <tr>\n",
       "      <th>11646</th>\n",
       "      <td>12529</td>\n",
       "      <td>1531190</td>\n",
       "      <td>2015-03-25 07:58:21.000</td>\n",
       "      <td>Condition Exists Catalyst Dosing Unit Input Lines</td>\n",
       "      <td>04993120*00019058*082113134117*07700053*I0*BBZ*</td>\n",
       "      <td>79461375</td>\n",
       "      <td>6X1u10D1500000000</td>\n",
       "      <td>CMMNS</td>\n",
       "      <td>0</td>\n",
       "      <td>3362</td>\n",
       "      <td>31</td>\n",
       "      <td>True</td>\n",
       "      <td>1</td>\n",
       "      <td>1370</td>\n",
       "      <td>36.194907</td>\n",
       "      <td>-83.175000</td>\n",
       "      <td>2015-03-25 07:58:58.000</td>\n",
       "    </tr>\n",
       "    <tr>\n",
       "      <th>17240</th>\n",
       "      <td>18123</td>\n",
       "      <td>1816124</td>\n",
       "      <td>2015-04-10 10:08:09.000</td>\n",
       "      <td>Condition Exists Catalyst Dosing Unit Input Lines</td>\n",
       "      <td>05317106*04260187*092514204317*09400024*G1*BDR*</td>\n",
       "      <td>79813609</td>\n",
       "      <td>6X1u13D1500000000</td>\n",
       "      <td>CMMNS</td>\n",
       "      <td>0</td>\n",
       "      <td>3362</td>\n",
       "      <td>31</td>\n",
       "      <td>True</td>\n",
       "      <td>1</td>\n",
       "      <td>1785</td>\n",
       "      <td>36.174722</td>\n",
       "      <td>-86.022592</td>\n",
       "      <td>2015-04-10 10:08:46.000</td>\n",
       "    </tr>\n",
       "    <tr>\n",
       "      <th>...</th>\n",
       "      <td>...</td>\n",
       "      <td>...</td>\n",
       "      <td>...</td>\n",
       "      <td>...</td>\n",
       "      <td>...</td>\n",
       "      <td>...</td>\n",
       "      <td>...</td>\n",
       "      <td>...</td>\n",
       "      <td>...</td>\n",
       "      <td>...</td>\n",
       "      <td>...</td>\n",
       "      <td>...</td>\n",
       "      <td>...</td>\n",
       "      <td>...</td>\n",
       "      <td>...</td>\n",
       "      <td>...</td>\n",
       "      <td>...</td>\n",
       "    </tr>\n",
       "    <tr>\n",
       "      <th>1176634</th>\n",
       "      <td>1236775</td>\n",
       "      <td>118452393</td>\n",
       "      <td>2020-01-26 05:02:23.000</td>\n",
       "      <td>Condition Exists Catalyst Dosing Unit Input Lines</td>\n",
       "      <td>04358814*06107315*061516161145*09401661*G1*BDR*</td>\n",
       "      <td>79931760</td>\n",
       "      <td>6X1u13D1500000000</td>\n",
       "      <td>CMMNS</td>\n",
       "      <td>0</td>\n",
       "      <td>3362</td>\n",
       "      <td>31</td>\n",
       "      <td>True</td>\n",
       "      <td>1</td>\n",
       "      <td>1991</td>\n",
       "      <td>35.840787</td>\n",
       "      <td>-86.428287</td>\n",
       "      <td>2020-01-26 05:02:58.000</td>\n",
       "    </tr>\n",
       "    <tr>\n",
       "      <th>1181915</th>\n",
       "      <td>1242056</td>\n",
       "      <td>120991271</td>\n",
       "      <td>2020-02-14 07:27:54.000</td>\n",
       "      <td>Condition Exists Catalyst Dosing Unit Input Lines</td>\n",
       "      <td>04358814*06011766*122016144238*09401671*G1*BDR*</td>\n",
       "      <td>79897856</td>\n",
       "      <td>6X1u13D1500000000</td>\n",
       "      <td>CMMNS</td>\n",
       "      <td>0</td>\n",
       "      <td>3362</td>\n",
       "      <td>31</td>\n",
       "      <td>True</td>\n",
       "      <td>1</td>\n",
       "      <td>1862</td>\n",
       "      <td>40.437129</td>\n",
       "      <td>-75.908657</td>\n",
       "      <td>2020-02-14 07:28:30.000</td>\n",
       "    </tr>\n",
       "    <tr>\n",
       "      <th>1182447</th>\n",
       "      <td>1242588</td>\n",
       "      <td>121281871</td>\n",
       "      <td>2020-02-17 05:38:19.000</td>\n",
       "      <td>Condition Exists Catalyst Dosing Unit Input Lines</td>\n",
       "      <td>05317106*05031273*050815201656*09400035*G1*BDR*</td>\n",
       "      <td>79857685</td>\n",
       "      <td>6X1u13D1500000000</td>\n",
       "      <td>CMMNS</td>\n",
       "      <td>0</td>\n",
       "      <td>3362</td>\n",
       "      <td>31</td>\n",
       "      <td>True</td>\n",
       "      <td>1</td>\n",
       "      <td>1817</td>\n",
       "      <td>35.607453</td>\n",
       "      <td>-82.329027</td>\n",
       "      <td>2020-02-17 05:38:55.000</td>\n",
       "    </tr>\n",
       "    <tr>\n",
       "      <th>1182512</th>\n",
       "      <td>1242653</td>\n",
       "      <td>121330201</td>\n",
       "      <td>2020-02-17 10:44:39.000</td>\n",
       "      <td>Condition Exists Catalyst Dosing Unit Input Lines</td>\n",
       "      <td>05317106*05005224*051718172255*09401583*G1*BDR*</td>\n",
       "      <td>79845785</td>\n",
       "      <td>6X1u13D1500000000</td>\n",
       "      <td>CMMNS</td>\n",
       "      <td>0</td>\n",
       "      <td>3362</td>\n",
       "      <td>31</td>\n",
       "      <td>True</td>\n",
       "      <td>1</td>\n",
       "      <td>1814</td>\n",
       "      <td>35.828333</td>\n",
       "      <td>-86.414629</td>\n",
       "      <td>2020-02-17 10:45:15.000</td>\n",
       "    </tr>\n",
       "    <tr>\n",
       "      <th>1187318</th>\n",
       "      <td>1248442</td>\n",
       "      <td>123896034</td>\n",
       "      <td>2020-03-06 13:07:34.000</td>\n",
       "      <td>Condition Exists Catalyst Dosing Unit Input Lines</td>\n",
       "      <td>04358814*06099720*030816202706*09400153*G1*BDR*</td>\n",
       "      <td>79932020</td>\n",
       "      <td>6X1u13D1500000000</td>\n",
       "      <td>CMMNS</td>\n",
       "      <td>0</td>\n",
       "      <td>3362</td>\n",
       "      <td>31</td>\n",
       "      <td>True</td>\n",
       "      <td>1</td>\n",
       "      <td>1994</td>\n",
       "      <td>34.989212</td>\n",
       "      <td>-78.838518</td>\n",
       "      <td>2020-03-06 13:08:11.000</td>\n",
       "    </tr>\n",
       "  </tbody>\n",
       "</table>\n",
       "<p>495 rows × 17 columns</p>\n",
       "</div>"
      ],
      "text/plain": [
       "         RecordID     ESS_Id           EventTimeStamp  \\\n",
       "11438       12321    1514613  2015-03-24 11:07:15.000   \n",
       "11475       12358    1519318  2015-03-24 14:37:17.000   \n",
       "11491       12374    1520761  2015-03-24 15:41:08.000   \n",
       "11646       12529    1531190  2015-03-25 07:58:21.000   \n",
       "17240       18123    1816124  2015-04-10 10:08:09.000   \n",
       "...           ...        ...                      ...   \n",
       "1176634   1236775  118452393  2020-01-26 05:02:23.000   \n",
       "1181915   1242056  120991271  2020-02-14 07:27:54.000   \n",
       "1182447   1242588  121281871  2020-02-17 05:38:19.000   \n",
       "1182512   1242653  121330201  2020-02-17 10:44:39.000   \n",
       "1187318   1248442  123896034  2020-03-06 13:07:34.000   \n",
       "\n",
       "                                          eventDescription  \\\n",
       "11438    Condition Exists Catalyst Dosing Unit Input Lines   \n",
       "11475    Condition Exists Catalyst Dosing Unit Input Lines   \n",
       "11491    Condition Exists Catalyst Dosing Unit Input Lines   \n",
       "11646    Condition Exists Catalyst Dosing Unit Input Lines   \n",
       "17240    Condition Exists Catalyst Dosing Unit Input Lines   \n",
       "...                                                    ...   \n",
       "1176634  Condition Exists Catalyst Dosing Unit Input Lines   \n",
       "1181915  Condition Exists Catalyst Dosing Unit Input Lines   \n",
       "1182447  Condition Exists Catalyst Dosing Unit Input Lines   \n",
       "1182512  Condition Exists Catalyst Dosing Unit Input Lines   \n",
       "1187318  Condition Exists Catalyst Dosing Unit Input Lines   \n",
       "\n",
       "                                      ecuSoftwareVersion ecuSerialNumber  \\\n",
       "11438    04993120*00019058*082113134117*07700053*I0*BBZ*        79461375   \n",
       "11475    04993120*00019058*082113134117*07700053*I0*BBZ*        79461375   \n",
       "11491    04993120*00019058*082113134117*07700053*I0*BBZ*        79461375   \n",
       "11646    04993120*00019058*082113134117*07700053*I0*BBZ*        79461375   \n",
       "17240    05317106*04260187*092514204317*09400024*G1*BDR*        79813609   \n",
       "...                                                  ...             ...   \n",
       "1176634  04358814*06107315*061516161145*09401661*G1*BDR*        79931760   \n",
       "1181915  04358814*06011766*122016144238*09401671*G1*BDR*        79897856   \n",
       "1182447  05317106*05031273*050815201656*09400035*G1*BDR*        79857685   \n",
       "1182512  05317106*05005224*051718172255*09401583*G1*BDR*        79845785   \n",
       "1187318  04358814*06099720*030816202706*09400153*G1*BDR*        79932020   \n",
       "\n",
       "                  ecuModel ecuMake  ecuSource   spn  fmi  active  \\\n",
       "11438    6X1u10D1500000000   CMMNS          0  3362   31    True   \n",
       "11475    6X1u10D1500000000   CMMNS          0  3362   31    True   \n",
       "11491    6X1u10D1500000000   CMMNS          0  3362   31    True   \n",
       "11646    6X1u10D1500000000   CMMNS          0  3362   31    True   \n",
       "17240    6X1u13D1500000000   CMMNS          0  3362   31    True   \n",
       "...                    ...     ...        ...   ...  ...     ...   \n",
       "1176634  6X1u13D1500000000   CMMNS          0  3362   31    True   \n",
       "1181915  6X1u13D1500000000   CMMNS          0  3362   31    True   \n",
       "1182447  6X1u13D1500000000   CMMNS          0  3362   31    True   \n",
       "1182512  6X1u13D1500000000   CMMNS          0  3362   31    True   \n",
       "1187318  6X1u13D1500000000   CMMNS          0  3362   31    True   \n",
       "\n",
       "         activeTransitionCount EquipmentID   Latitude  Longitude  \\\n",
       "11438                        1        1370  36.876574 -81.397361   \n",
       "11475                        1        1370  36.194861 -83.174768   \n",
       "11491                        1        1370  36.194814 -83.174722   \n",
       "11646                        1        1370  36.194907 -83.175000   \n",
       "17240                        1        1785  36.174722 -86.022592   \n",
       "...                        ...         ...        ...        ...   \n",
       "1176634                      1        1991  35.840787 -86.428287   \n",
       "1181915                      1        1862  40.437129 -75.908657   \n",
       "1182447                      1        1817  35.607453 -82.329027   \n",
       "1182512                      1        1814  35.828333 -86.414629   \n",
       "1187318                      1        1994  34.989212 -78.838518   \n",
       "\n",
       "               LocationTimeStamp  \n",
       "11438    2015-03-24 11:07:51.000  \n",
       "11475    2015-03-24 14:37:52.000  \n",
       "11491    2015-03-24 15:41:45.000  \n",
       "11646    2015-03-25 07:58:58.000  \n",
       "17240    2015-04-10 10:08:46.000  \n",
       "...                          ...  \n",
       "1176634  2020-01-26 05:02:58.000  \n",
       "1181915  2020-02-14 07:28:30.000  \n",
       "1182447  2020-02-17 05:38:55.000  \n",
       "1182512  2020-02-17 10:45:15.000  \n",
       "1187318  2020-03-06 13:08:11.000  \n",
       "\n",
       "[495 rows x 17 columns]"
      ]
     },
     "execution_count": 5,
     "metadata": {},
     "output_type": "execute_result"
    }
   ],
   "source": [
    "real_codes[real_codes['spn'] == 3362]"
   ]
  },
  {
   "cell_type": "code",
   "execution_count": 6,
   "id": "offshore-professional",
   "metadata": {},
   "outputs": [
    {
     "data": {
      "text/html": [
       "<div>\n",
       "<style scoped>\n",
       "    .dataframe tbody tr th:only-of-type {\n",
       "        vertical-align: middle;\n",
       "    }\n",
       "\n",
       "    .dataframe tbody tr th {\n",
       "        vertical-align: top;\n",
       "    }\n",
       "\n",
       "    .dataframe thead th {\n",
       "        text-align: right;\n",
       "    }\n",
       "</style>\n",
       "<table border=\"1\" class=\"dataframe\">\n",
       "  <thead>\n",
       "    <tr style=\"text-align: right;\">\n",
       "      <th></th>\n",
       "      <th>Id</th>\n",
       "      <th>Name</th>\n",
       "      <th>Value</th>\n",
       "      <th>FaultId</th>\n",
       "    </tr>\n",
       "  </thead>\n",
       "  <tbody>\n",
       "    <tr>\n",
       "      <th>0</th>\n",
       "      <td>1</td>\n",
       "      <td>IgnStatus</td>\n",
       "      <td>False</td>\n",
       "      <td>1</td>\n",
       "    </tr>\n",
       "    <tr>\n",
       "      <th>1</th>\n",
       "      <td>2</td>\n",
       "      <td>EngineOilPressure</td>\n",
       "      <td>0</td>\n",
       "      <td>1</td>\n",
       "    </tr>\n",
       "    <tr>\n",
       "      <th>2</th>\n",
       "      <td>3</td>\n",
       "      <td>EngineOilTemperature</td>\n",
       "      <td>96.74375</td>\n",
       "      <td>1</td>\n",
       "    </tr>\n",
       "    <tr>\n",
       "      <th>3</th>\n",
       "      <td>4</td>\n",
       "      <td>TurboBoostPressure</td>\n",
       "      <td>0</td>\n",
       "      <td>1</td>\n",
       "    </tr>\n",
       "    <tr>\n",
       "      <th>4</th>\n",
       "      <td>5</td>\n",
       "      <td>EngineLoad</td>\n",
       "      <td>11</td>\n",
       "      <td>1</td>\n",
       "    </tr>\n",
       "    <tr>\n",
       "      <th>...</th>\n",
       "      <td>...</td>\n",
       "      <td>...</td>\n",
       "      <td>...</td>\n",
       "      <td>...</td>\n",
       "    </tr>\n",
       "    <tr>\n",
       "      <th>12821621</th>\n",
       "      <td>12864020</td>\n",
       "      <td>EngineCoolantTemperature</td>\n",
       "      <td>181.4</td>\n",
       "      <td>1248457</td>\n",
       "    </tr>\n",
       "    <tr>\n",
       "      <th>12821622</th>\n",
       "      <td>12864021</td>\n",
       "      <td>ParkingBrake</td>\n",
       "      <td>False</td>\n",
       "      <td>1248457</td>\n",
       "    </tr>\n",
       "    <tr>\n",
       "      <th>12821623</th>\n",
       "      <td>12864022</td>\n",
       "      <td>SwitchedBatteryVoltage</td>\n",
       "      <td>14.1</td>\n",
       "      <td>1248457</td>\n",
       "    </tr>\n",
       "    <tr>\n",
       "      <th>12821624</th>\n",
       "      <td>12864023</td>\n",
       "      <td>DistanceLtd</td>\n",
       "      <td>28606.65625</td>\n",
       "      <td>1248457</td>\n",
       "    </tr>\n",
       "    <tr>\n",
       "      <th>12821625</th>\n",
       "      <td>12864024</td>\n",
       "      <td>LampStatus</td>\n",
       "      <td>1023</td>\n",
       "      <td>1248458</td>\n",
       "    </tr>\n",
       "  </tbody>\n",
       "</table>\n",
       "<p>12821626 rows × 4 columns</p>\n",
       "</div>"
      ],
      "text/plain": [
       "                Id                      Name        Value  FaultId\n",
       "0                1                 IgnStatus        False        1\n",
       "1                2         EngineOilPressure            0        1\n",
       "2                3      EngineOilTemperature     96.74375        1\n",
       "3                4        TurboBoostPressure            0        1\n",
       "4                5                EngineLoad           11        1\n",
       "...            ...                       ...          ...      ...\n",
       "12821621  12864020  EngineCoolantTemperature        181.4  1248457\n",
       "12821622  12864021              ParkingBrake        False  1248457\n",
       "12821623  12864022    SwitchedBatteryVoltage         14.1  1248457\n",
       "12821624  12864023               DistanceLtd  28606.65625  1248457\n",
       "12821625  12864024                LampStatus         1023  1248458\n",
       "\n",
       "[12821626 rows x 4 columns]"
      ]
     },
     "execution_count": 6,
     "metadata": {},
     "output_type": "execute_result"
    }
   ],
   "source": [
    "onboard"
   ]
  },
  {
   "cell_type": "code",
   "execution_count": null,
   "id": "friendly-heavy",
   "metadata": {
    "collapsed": true
   },
   "outputs": [],
   "source": []
  },
  {
   "cell_type": "code",
   "execution_count": 9,
   "id": "numeric-number",
   "metadata": {},
   "outputs": [],
   "source": [
    "#Selects lat and lon coordinates that are not in the bounded boxes\n",
    "\n",
    "geo_codes = real_codes[(~real_codes['Latitude'].between(36.05942, 36.07392)) | (~real_codes['Longitude'].between(-86.44366, -86.42579))]\n",
    "geo_codes = geo_codes[(~geo_codes['Latitude'].between(35.58108, 35.59558)) | (~geo_codes['Longitude'].between(-86.4528, -86.435))]\n",
    "geo_codes = geo_codes[(~geo_codes['Latitude'].between(36.18775, 36.20225)) | (~geo_codes['Longitude'].between(-83.1837, -83.1658))]\n",
    "\n",
    "#Here is an alternative method for selecting lats and lons that are not in the bounded boxes: \n",
    "\n",
    "#geo_codes = real_codes.query('(Latitude <= 36.05942 or Latitude >= 36.07392) or (Longitude <= -86.5419 or Longitude >= -86.3275)')\n"
   ]
  },
  {
   "cell_type": "code",
   "execution_count": 10,
   "id": "disturbed-south",
   "metadata": {},
   "outputs": [],
   "source": [
    "geo_codes = geo_codes.sort_values([\"EquipmentID\", \"EventTimeStamp\"], ascending = (False, True))"
   ]
  },
  {
   "cell_type": "markdown",
   "id": "shared-collective",
   "metadata": {},
   "source": [
    "# Some EDA"
   ]
  },
  {
   "cell_type": "code",
   "execution_count": 11,
   "id": "cubic-vulnerability",
   "metadata": {},
   "outputs": [
    {
     "data": {
      "text/plain": [
       "928"
      ]
     },
     "execution_count": 11,
     "metadata": {},
     "output_type": "execute_result"
    }
   ],
   "source": [
    "#Number of unique trucks in the data\n",
    "\n",
    "geo_codes.EquipmentID.nunique()"
   ]
  },
  {
   "cell_type": "code",
   "execution_count": 12,
   "id": "ranging-malawi",
   "metadata": {},
   "outputs": [],
   "source": [
    "geo_codes_select1569 = geo_codes[geo_codes['spn'].isin([1569])]\n",
    "geo_codes_select5246 = geo_codes[geo_codes['spn'].isin([5246])]"
   ]
  },
  {
   "cell_type": "code",
   "execution_count": 13,
   "id": "ranking-transfer",
   "metadata": {},
   "outputs": [
    {
     "data": {
      "text/plain": [
       "4277"
      ]
     },
     "execution_count": 13,
     "metadata": {},
     "output_type": "execute_result"
    }
   ],
   "source": [
    "#Number of unique 1569s thrown by the ECUs\n",
    "\n",
    "geo_codes_select1569['RecordID'].nunique()"
   ]
  },
  {
   "cell_type": "code",
   "execution_count": 14,
   "id": "grave-popularity",
   "metadata": {},
   "outputs": [
    {
     "data": {
      "text/plain": [
       "270"
      ]
     },
     "execution_count": 14,
     "metadata": {},
     "output_type": "execute_result"
    }
   ],
   "source": [
    "#Number of unique 5426s thrown by the ECUs\n",
    "\n",
    "geo_codes_select5246['RecordID'].nunique()"
   ]
  },
  {
   "cell_type": "code",
   "execution_count": 15,
   "id": "organizational-hindu",
   "metadata": {},
   "outputs": [
    {
     "data": {
      "text/plain": [
       "200154"
      ]
     },
     "execution_count": 15,
     "metadata": {},
     "output_type": "execute_result"
    }
   ],
   "source": [
    "geo_codes.RecordID.nunique(())"
   ]
  },
  {
   "cell_type": "code",
   "execution_count": 16,
   "id": "difficult-albania",
   "metadata": {},
   "outputs": [
    {
     "data": {
      "text/html": [
       "<div>\n",
       "<style scoped>\n",
       "    .dataframe tbody tr th:only-of-type {\n",
       "        vertical-align: middle;\n",
       "    }\n",
       "\n",
       "    .dataframe tbody tr th {\n",
       "        vertical-align: top;\n",
       "    }\n",
       "\n",
       "    .dataframe thead th {\n",
       "        text-align: right;\n",
       "    }\n",
       "</style>\n",
       "<table border=\"1\" class=\"dataframe\">\n",
       "  <thead>\n",
       "    <tr style=\"text-align: right;\">\n",
       "      <th></th>\n",
       "      <th>RecordID</th>\n",
       "      <th>ESS_Id</th>\n",
       "      <th>EventTimeStamp</th>\n",
       "      <th>eventDescription</th>\n",
       "      <th>ecuSoftwareVersion</th>\n",
       "      <th>ecuSerialNumber</th>\n",
       "      <th>ecuModel</th>\n",
       "      <th>ecuMake</th>\n",
       "      <th>ecuSource</th>\n",
       "      <th>spn</th>\n",
       "      <th>fmi</th>\n",
       "      <th>active</th>\n",
       "      <th>activeTransitionCount</th>\n",
       "      <th>EquipmentID</th>\n",
       "      <th>Latitude</th>\n",
       "      <th>Longitude</th>\n",
       "      <th>LocationTimeStamp</th>\n",
       "    </tr>\n",
       "  </thead>\n",
       "  <tbody>\n",
       "    <tr>\n",
       "      <th>4245</th>\n",
       "      <td>4246</td>\n",
       "      <td>1048627</td>\n",
       "      <td>2015-02-24 13:45:06.000</td>\n",
       "      <td>Low (Severity Low) Catalyst Tank Level</td>\n",
       "      <td>05317106*04119044*051914190353*09400015*G1*BDR*</td>\n",
       "      <td>79751302</td>\n",
       "      <td>6X1u13D1500000000</td>\n",
       "      <td>CMMNS</td>\n",
       "      <td>0</td>\n",
       "      <td>1761</td>\n",
       "      <td>17</td>\n",
       "      <td>True</td>\n",
       "      <td>43</td>\n",
       "      <td>R1762</td>\n",
       "      <td>41.254166</td>\n",
       "      <td>-85.088888</td>\n",
       "      <td>2015-02-24 13:45:41.000</td>\n",
       "    </tr>\n",
       "  </tbody>\n",
       "</table>\n",
       "</div>"
      ],
      "text/plain": [
       "      RecordID   ESS_Id           EventTimeStamp  \\\n",
       "4245      4246  1048627  2015-02-24 13:45:06.000   \n",
       "\n",
       "                            eventDescription  \\\n",
       "4245  Low (Severity Low) Catalyst Tank Level   \n",
       "\n",
       "                                   ecuSoftwareVersion ecuSerialNumber  \\\n",
       "4245  05317106*04119044*051914190353*09400015*G1*BDR*        79751302   \n",
       "\n",
       "               ecuModel ecuMake  ecuSource   spn  fmi  active  \\\n",
       "4245  6X1u13D1500000000   CMMNS          0  1761   17    True   \n",
       "\n",
       "      activeTransitionCount EquipmentID   Latitude  Longitude  \\\n",
       "4245                     43       R1762  41.254166 -85.088888   \n",
       "\n",
       "            LocationTimeStamp  \n",
       "4245  2015-02-24 13:45:41.000  "
      ]
     },
     "execution_count": 16,
     "metadata": {},
     "output_type": "execute_result"
    }
   ],
   "source": [
    "#Looking at the names of the metrics that are recorded when the ECU throws a code\n",
    "\n",
    "geo_codes[geo_codes['RecordID']  == 4246].head(25)"
   ]
  },
  {
   "cell_type": "code",
   "execution_count": 17,
   "id": "behavioral-bracelet",
   "metadata": {},
   "outputs": [
    {
     "data": {
      "text/plain": [
       "Low (Severity Low) Engine Coolant Level                                         137206\n",
       "Low (Severity Medium) Engine Coolant Level                                       14676\n",
       "High (Severity Low) Water In Fuel Indicator                                       6992\n",
       "Condition Exists Engine Protection Torque Derate                                  4277\n",
       "High Voltage (Water In Fuel Indicator)                                            3768\n",
       "                                                                                 ...  \n",
       "High Voltage (Engine Oil Pressure)                                                   1\n",
       "Abnormal Update Rate Engine Wait to Start Lamp                                       1\n",
       "High (Severity Medium) Engine Exhaust Gas Recirculation (EGR) Mass Flow Rate         1\n",
       "High Current Engine Exhaust Gas Recirculation (EGR) Valve Control                    1\n",
       "High Voltage (Barometric Pressure)                                                   1\n",
       "Name: eventDescription, Length: 266, dtype: int64"
      ]
     },
     "execution_count": 17,
     "metadata": {},
     "output_type": "execute_result"
    }
   ],
   "source": [
    "geo_codes.eventDescription.value_counts()"
   ]
  },
  {
   "cell_type": "markdown",
   "id": "rolled-bidding",
   "metadata": {},
   "source": [
    "# More data cleaning and filtering based on prior EDA"
   ]
  },
  {
   "cell_type": "code",
   "execution_count": 18,
   "id": "biblical-background",
   "metadata": {},
   "outputs": [],
   "source": [
    "geo_codes = geo_codes.drop(columns=['LocationTimeStamp', 'active', 'ecuSource', 'ecuMake', 'ESS_Id'])"
   ]
  },
  {
   "cell_type": "code",
   "execution_count": 19,
   "id": "certified-society",
   "metadata": {},
   "outputs": [],
   "source": [
    "#Reorders our columns in a logical and readable way: index types, data types, others\n",
    "\n",
    "geo_codes = geo_codes.reindex(columns = ['RecordID', 'EquipmentID', 'EventTimeStamp', 'spn', 'fmi', 'spnfmi',\n",
    "                                         'activeTransitionCount', 'ecuModel', 'ecuSerialNumber', 'ecuSoftwareVersion',\n",
    "                                         'eventDescription', 'Latitude', 'Longitude'])"
   ]
  },
  {
   "cell_type": "code",
   "execution_count": 20,
   "id": "touched-bride",
   "metadata": {},
   "outputs": [],
   "source": [
    "#Concats the spn and fmi fields into a single field, then converts them back to an int\n",
    "\n",
    "geo_codes['spnfmi'] = geo_codes.spn.astype('str').map(str) + geo_codes.fmi.astype('str')\n",
    "geo_codes['spnfmi'] = geo_codes['spnfmi'].astype('int32')"
   ]
  },
  {
   "cell_type": "markdown",
   "id": "fitting-retailer",
   "metadata": {},
   "source": [
    "# Get dummy variables in preperation of logistic regression"
   ]
  },
  {
   "cell_type": "code",
   "execution_count": 21,
   "id": "representative-sheet",
   "metadata": {},
   "outputs": [],
   "source": [
    "geo_codes_spnfmi = pd.get_dummies(geo_codes, columns = ['spnfmi'])"
   ]
  },
  {
   "cell_type": "markdown",
   "id": "received-textbook",
   "metadata": {},
   "source": [
    "# Convert datatime column for indexing and sorting"
   ]
  },
  {
   "cell_type": "code",
   "execution_count": 22,
   "id": "collect-museum",
   "metadata": {},
   "outputs": [],
   "source": [
    "geo_codes_spnfmi['EventTimeStamp'] = geo_codes_spnfmi['EventTimeStamp'].astype('datetime64[ns]')"
   ]
  },
  {
   "cell_type": "code",
   "execution_count": 23,
   "id": "third-jenny",
   "metadata": {},
   "outputs": [],
   "source": [
    "geo_codes_spnfmi['EventTimeStamp'] = pd.to_datetime(geo_codes_spnfmi['EventTimeStamp'], utc = True)"
   ]
  },
  {
   "cell_type": "code",
   "execution_count": 24,
   "id": "basic-thread",
   "metadata": {},
   "outputs": [],
   "source": [
    "geo_codes_dropped = geo_codes_spnfmi.reset_index()"
   ]
  },
  {
   "cell_type": "code",
   "execution_count": 25,
   "id": "hidden-parameter",
   "metadata": {},
   "outputs": [],
   "source": [
    "#List comprehension of columns created from the get_dummies\n",
    "\n",
    "List = [x for x in geo_codes_dropped.columns if 'spnfmi_' in x]"
   ]
  },
  {
   "cell_type": "markdown",
   "id": "rough-barrel",
   "metadata": {},
   "source": [
    "# Pandas .rolling() to create a cumulative count of spn-fmi combo codes thrown"
   ]
  },
  {
   "cell_type": "code",
   "execution_count": 26,
   "id": "auburn-emission",
   "metadata": {},
   "outputs": [],
   "source": [
    "geo_codes_dropped = geo_codes_dropped.sort_values(['EquipmentID', 'EventTimeStamp']).reset_index(drop = True)"
   ]
  },
  {
   "cell_type": "code",
   "execution_count": 27,
   "id": "painful-double",
   "metadata": {},
   "outputs": [],
   "source": [
    "geo_codes_dropped_rolling = geo_codes_dropped.groupby('EquipmentID').rolling(window = \"14d\", on = 'EventTimeStamp')[List].sum().reset_index()"
   ]
  },
  {
   "cell_type": "code",
   "execution_count": 298,
   "id": "bronze-jonathan",
   "metadata": {},
   "outputs": [],
   "source": [
    "merge_geo_codes = geo_codes_dropped.merge(geo_codes_dropped_rolling, left_index = True, right_index = True)"
   ]
  },
  {
   "cell_type": "code",
   "execution_count": 299,
   "id": "wanted-backup",
   "metadata": {},
   "outputs": [],
   "source": [
    "merge_geo_codes = merge_geo_codes.rename(columns = {'EquipmentID_x' : 'EquipmentID', 'EventTimeStamp_x' : 'EventTimeStamp'})"
   ]
  },
  {
   "cell_type": "code",
   "execution_count": 300,
   "id": "challenging-tract",
   "metadata": {},
   "outputs": [],
   "source": [
    "merge_geo_codes = merge_geo_codes.loc[:,~merge_geo_codes.columns.str.contains('_x', case=False)]"
   ]
  },
  {
   "cell_type": "code",
   "execution_count": 301,
   "id": "spiritual-wright",
   "metadata": {},
   "outputs": [],
   "source": [
    "merge_geo_codes = merge_geo_codes.drop(columns=['index'])"
   ]
  },
  {
   "cell_type": "code",
   "execution_count": 302,
   "id": "described-reputation",
   "metadata": {},
   "outputs": [],
   "source": [
    "#Saved for future use when coming back and merging onboard"
   ]
  },
  {
   "cell_type": "code",
   "execution_count": 303,
   "id": "incorporated-affiliate",
   "metadata": {},
   "outputs": [],
   "source": [
    "def backfill (df):\n",
    "    df['flagtime'] = df.loc[df['spnfmi_156931_y'] == 1, 'EventTimeStamp']\n",
    "    df['flagtime'] = df.flagtime.bfill()\n",
    "    return df"
   ]
  },
  {
   "cell_type": "code",
   "execution_count": 304,
   "id": "motivated-slovakia",
   "metadata": {},
   "outputs": [],
   "source": [
    "merge_geo_codes = merge_geo_codes.groupby('EquipmentID').apply(backfill)"
   ]
  },
  {
   "cell_type": "code",
   "execution_count": 305,
   "id": "helpful-calendar",
   "metadata": {},
   "outputs": [],
   "source": [
    "merge_geo_codes['deltatime'] = merge_geo_codes['flagtime'] - merge_geo_codes['EventTimeStamp']\n",
    "close_codes = merge_geo_codes"
   ]
  },
  {
   "cell_type": "code",
   "execution_count": 306,
   "id": "animal-missouri",
   "metadata": {},
   "outputs": [],
   "source": [
    "close_codes['targettime'] = merge_geo_codes.deltatime.dt.total_seconds().between(-1, 3600)\n",
    "merge_geo_codes['targettime'] = merge_geo_codes.deltatime.dt.total_seconds().between(3600, 604800)\n"
   ]
  },
  {
   "cell_type": "code",
   "execution_count": 307,
   "id": "stainless-brunei",
   "metadata": {},
   "outputs": [],
   "source": [
    "merge_geo_codes = merge_geo_codes[~merge_geo_codes['deltatime'].dt.total_seconds().between(-1, 3600)]\n",
    "close_codes = close_codes[close_codes['deltatime'].dt.total_seconds().between(-1, 3600)]"
   ]
  },
  {
   "cell_type": "code",
   "execution_count": 308,
   "id": "stopped-arthritis",
   "metadata": {},
   "outputs": [],
   "source": [
    "merge_geo_codes = merge_geo_codes[merge_geo_codes['spn'] != 5246]\n",
    "close_codes = close_codes[close_codes['spn'] != 5246]"
   ]
  },
  {
   "cell_type": "code",
   "execution_count": 309,
   "id": "southwest-california",
   "metadata": {},
   "outputs": [],
   "source": [
    "#merge_geo_codes.to_csv('data/merge_geo_codes2.csv', index = False)"
   ]
  },
  {
   "cell_type": "code",
   "execution_count": 310,
   "id": "united-parts",
   "metadata": {},
   "outputs": [],
   "source": [
    "onboard_drop = onboard[['FaultId', 'Name', 'Value']]"
   ]
  },
  {
   "cell_type": "code",
   "execution_count": 311,
   "id": "bulgarian-monte",
   "metadata": {},
   "outputs": [],
   "source": [
    "onboard_ltd = onboard_drop.query('Name == \"DistanceLtd\" or Name == \"EngineTimeLtd\"')"
   ]
  },
  {
   "cell_type": "code",
   "execution_count": 312,
   "id": "binding-whole",
   "metadata": {},
   "outputs": [],
   "source": [
    "onboard_pivot = onboard_ltd.pivot(index = 'FaultId', columns = 'Name', values = 'Value')"
   ]
  },
  {
   "cell_type": "code",
   "execution_count": 313,
   "id": "aboriginal-oliver",
   "metadata": {},
   "outputs": [],
   "source": [
    "onboard_pivot.reset_index(inplace = True)"
   ]
  },
  {
   "cell_type": "code",
   "execution_count": 352,
   "id": "representative-mediterranean",
   "metadata": {},
   "outputs": [],
   "source": [
    "good_trucks = merge_geo_codes.merge(onboard_pivot, how = 'left', left_on = 'RecordID', right_on = 'FaultId')\n",
    "bad_trucks = close_codes.merge(onboard_pivot, how = 'left', left_on = 'RecordID', right_on = 'FaultId')"
   ]
  },
  {
   "cell_type": "code",
   "execution_count": 353,
   "id": "frozen-battery",
   "metadata": {},
   "outputs": [],
   "source": [
    "good_trucks = good_trucks[['RecordID', 'EquipmentID', 'spn', 'fmi', 'eventDescription', 'DistanceLtd', \n",
    "                           'EngineTimeLtd', 'flagtime', 'deltatime', 'targettime', 'EventTimeStamp']]\n",
    "bad_trucks = bad_trucks[['RecordID', 'EquipmentID', 'spn', 'fmi', 'eventDescription', 'DistanceLtd', \n",
    "                           'EngineTimeLtd', 'flagtime', 'deltatime', 'targettime', 'EventTimeStamp']]"
   ]
  },
  {
   "cell_type": "code",
   "execution_count": 354,
   "id": "arabic-avatar",
   "metadata": {},
   "outputs": [],
   "source": [
    "good_trucks[['EngineTimeLtd', 'DistanceLtd']] = good_trucks[['EngineTimeLtd', 'DistanceLtd']].apply(pd.to_numeric)\n",
    "bad_trucks[['EngineTimeLtd', 'DistanceLtd']] = bad_trucks[['EngineTimeLtd', 'DistanceLtd']].apply(pd.to_numeric)"
   ]
  },
  {
   "cell_type": "code",
   "execution_count": 355,
   "id": "alpha-steam",
   "metadata": {},
   "outputs": [],
   "source": [
    "good_trucks = good_trucks[good_trucks['targettime'] == True].sort_values('DistanceLtd', ascending = True)\n",
    "bad_trucks = bad_trucks[bad_trucks['targettime'] == True].sort_values('DistanceLtd', ascending = True)"
   ]
  },
  {
   "cell_type": "code",
   "execution_count": 356,
   "id": "established-bahamas",
   "metadata": {},
   "outputs": [
    {
     "data": {
      "text/html": [
       "<div>\n",
       "<style scoped>\n",
       "    .dataframe tbody tr th:only-of-type {\n",
       "        vertical-align: middle;\n",
       "    }\n",
       "\n",
       "    .dataframe tbody tr th {\n",
       "        vertical-align: top;\n",
       "    }\n",
       "\n",
       "    .dataframe thead th {\n",
       "        text-align: right;\n",
       "    }\n",
       "</style>\n",
       "<table border=\"1\" class=\"dataframe\">\n",
       "  <thead>\n",
       "    <tr style=\"text-align: right;\">\n",
       "      <th></th>\n",
       "      <th>RecordID</th>\n",
       "      <th>EquipmentID</th>\n",
       "      <th>spn</th>\n",
       "      <th>fmi</th>\n",
       "      <th>eventDescription</th>\n",
       "      <th>DistanceLtd</th>\n",
       "      <th>EngineTimeLtd</th>\n",
       "      <th>flagtime</th>\n",
       "      <th>deltatime</th>\n",
       "      <th>targettime</th>\n",
       "      <th>EventTimeStamp</th>\n",
       "    </tr>\n",
       "  </thead>\n",
       "  <tbody>\n",
       "    <tr>\n",
       "      <th>186892</th>\n",
       "      <td>679467</td>\n",
       "      <td>2017</td>\n",
       "      <td>111</td>\n",
       "      <td>18</td>\n",
       "      <td>Low (Severity Medium) Engine Coolant Level</td>\n",
       "      <td>154.3020</td>\n",
       "      <td>10.85</td>\n",
       "      <td>2017-01-12 10:02:45+00:00</td>\n",
       "      <td>6 days 06:17:08</td>\n",
       "      <td>True</td>\n",
       "      <td>2017-01-06 03:45:37+00:00</td>\n",
       "    </tr>\n",
       "    <tr>\n",
       "      <th>186893</th>\n",
       "      <td>679619</td>\n",
       "      <td>2017</td>\n",
       "      <td>111</td>\n",
       "      <td>18</td>\n",
       "      <td>Low (Severity Medium) Engine Coolant Level</td>\n",
       "      <td>353.8367</td>\n",
       "      <td>14.00</td>\n",
       "      <td>2017-01-12 10:02:45+00:00</td>\n",
       "      <td>6 days 03:02:35</td>\n",
       "      <td>True</td>\n",
       "      <td>2017-01-06 07:00:10+00:00</td>\n",
       "    </tr>\n",
       "    <tr>\n",
       "      <th>186894</th>\n",
       "      <td>680431</td>\n",
       "      <td>2017</td>\n",
       "      <td>111</td>\n",
       "      <td>18</td>\n",
       "      <td>Low (Severity Medium) Engine Coolant Level</td>\n",
       "      <td>447.5022</td>\n",
       "      <td>16.55</td>\n",
       "      <td>2017-01-12 10:02:45+00:00</td>\n",
       "      <td>5 days 02:36:46</td>\n",
       "      <td>True</td>\n",
       "      <td>2017-01-07 07:25:59+00:00</td>\n",
       "    </tr>\n",
       "    <tr>\n",
       "      <th>130190</th>\n",
       "      <td>27820</td>\n",
       "      <td>1789</td>\n",
       "      <td>111</td>\n",
       "      <td>17</td>\n",
       "      <td>Low (Severity Low) Engine Coolant Level</td>\n",
       "      <td>534.8981</td>\n",
       "      <td>13.30</td>\n",
       "      <td>2015-04-23 16:52:41+00:00</td>\n",
       "      <td>3 days 06:20:07</td>\n",
       "      <td>True</td>\n",
       "      <td>2015-04-20 10:32:34+00:00</td>\n",
       "    </tr>\n",
       "    <tr>\n",
       "      <th>130191</th>\n",
       "      <td>27877</td>\n",
       "      <td>1789</td>\n",
       "      <td>111</td>\n",
       "      <td>17</td>\n",
       "      <td>Low (Severity Low) Engine Coolant Level</td>\n",
       "      <td>576.1757</td>\n",
       "      <td>14.00</td>\n",
       "      <td>2015-04-23 16:52:41+00:00</td>\n",
       "      <td>3 days 05:39:00</td>\n",
       "      <td>True</td>\n",
       "      <td>2015-04-20 11:13:41+00:00</td>\n",
       "    </tr>\n",
       "    <tr>\n",
       "      <th>...</th>\n",
       "      <td>...</td>\n",
       "      <td>...</td>\n",
       "      <td>...</td>\n",
       "      <td>...</td>\n",
       "      <td>...</td>\n",
       "      <td>...</td>\n",
       "      <td>...</td>\n",
       "      <td>...</td>\n",
       "      <td>...</td>\n",
       "      <td>...</td>\n",
       "      <td>...</td>\n",
       "    </tr>\n",
       "    <tr>\n",
       "      <th>129364</th>\n",
       "      <td>186994</td>\n",
       "      <td>1784</td>\n",
       "      <td>3464</td>\n",
       "      <td>7</td>\n",
       "      <td>Not Reporting Data Engine Throttle Actuator 1 ...</td>\n",
       "      <td>NaN</td>\n",
       "      <td>NaN</td>\n",
       "      <td>2015-09-04 17:31:12+00:00</td>\n",
       "      <td>5 days 00:43:12</td>\n",
       "      <td>True</td>\n",
       "      <td>2015-08-30 16:48:00+00:00</td>\n",
       "    </tr>\n",
       "    <tr>\n",
       "      <th>130196</th>\n",
       "      <td>28730</td>\n",
       "      <td>1789</td>\n",
       "      <td>111</td>\n",
       "      <td>17</td>\n",
       "      <td>Low (Severity Low) Engine Coolant Level</td>\n",
       "      <td>NaN</td>\n",
       "      <td>NaN</td>\n",
       "      <td>2015-04-23 16:52:41+00:00</td>\n",
       "      <td>2 days 10:33:36</td>\n",
       "      <td>True</td>\n",
       "      <td>2015-04-21 06:19:05+00:00</td>\n",
       "    </tr>\n",
       "    <tr>\n",
       "      <th>130260</th>\n",
       "      <td>131671</td>\n",
       "      <td>1790</td>\n",
       "      <td>1209</td>\n",
       "      <td>2</td>\n",
       "      <td>Incorrect Data Engine Exhaust Gas Pressure</td>\n",
       "      <td>NaN</td>\n",
       "      <td>NaN</td>\n",
       "      <td>2015-07-22 16:33:01+00:00</td>\n",
       "      <td>0 days 18:29:17</td>\n",
       "      <td>True</td>\n",
       "      <td>2015-07-21 22:03:44+00:00</td>\n",
       "    </tr>\n",
       "    <tr>\n",
       "      <th>130261</th>\n",
       "      <td>131672</td>\n",
       "      <td>1790</td>\n",
       "      <td>5019</td>\n",
       "      <td>2</td>\n",
       "      <td>NaN</td>\n",
       "      <td>NaN</td>\n",
       "      <td>NaN</td>\n",
       "      <td>2015-07-22 16:33:01+00:00</td>\n",
       "      <td>0 days 18:29:17</td>\n",
       "      <td>True</td>\n",
       "      <td>2015-07-21 22:03:44+00:00</td>\n",
       "    </tr>\n",
       "    <tr>\n",
       "      <th>187265</th>\n",
       "      <td>1038822</td>\n",
       "      <td>2027</td>\n",
       "      <td>3251</td>\n",
       "      <td>2</td>\n",
       "      <td>Incorrect Data Aftertreatment 1 Particulate Tr...</td>\n",
       "      <td>NaN</td>\n",
       "      <td>3857.60</td>\n",
       "      <td>2018-07-22 19:21:30+00:00</td>\n",
       "      <td>0 days 01:05:49</td>\n",
       "      <td>True</td>\n",
       "      <td>2018-07-22 18:15:41+00:00</td>\n",
       "    </tr>\n",
       "  </tbody>\n",
       "</table>\n",
       "<p>5700 rows × 11 columns</p>\n",
       "</div>"
      ],
      "text/plain": [
       "        RecordID EquipmentID   spn  fmi  \\\n",
       "186892    679467        2017   111   18   \n",
       "186893    679619        2017   111   18   \n",
       "186894    680431        2017   111   18   \n",
       "130190     27820        1789   111   17   \n",
       "130191     27877        1789   111   17   \n",
       "...          ...         ...   ...  ...   \n",
       "129364    186994        1784  3464    7   \n",
       "130196     28730        1789   111   17   \n",
       "130260    131671        1790  1209    2   \n",
       "130261    131672        1790  5019    2   \n",
       "187265   1038822        2027  3251    2   \n",
       "\n",
       "                                         eventDescription  DistanceLtd  \\\n",
       "186892         Low (Severity Medium) Engine Coolant Level     154.3020   \n",
       "186893         Low (Severity Medium) Engine Coolant Level     353.8367   \n",
       "186894         Low (Severity Medium) Engine Coolant Level     447.5022   \n",
       "130190            Low (Severity Low) Engine Coolant Level     534.8981   \n",
       "130191            Low (Severity Low) Engine Coolant Level     576.1757   \n",
       "...                                                   ...          ...   \n",
       "129364  Not Reporting Data Engine Throttle Actuator 1 ...          NaN   \n",
       "130196            Low (Severity Low) Engine Coolant Level          NaN   \n",
       "130260         Incorrect Data Engine Exhaust Gas Pressure          NaN   \n",
       "130261                                                NaN          NaN   \n",
       "187265  Incorrect Data Aftertreatment 1 Particulate Tr...          NaN   \n",
       "\n",
       "        EngineTimeLtd                  flagtime       deltatime  targettime  \\\n",
       "186892          10.85 2017-01-12 10:02:45+00:00 6 days 06:17:08        True   \n",
       "186893          14.00 2017-01-12 10:02:45+00:00 6 days 03:02:35        True   \n",
       "186894          16.55 2017-01-12 10:02:45+00:00 5 days 02:36:46        True   \n",
       "130190          13.30 2015-04-23 16:52:41+00:00 3 days 06:20:07        True   \n",
       "130191          14.00 2015-04-23 16:52:41+00:00 3 days 05:39:00        True   \n",
       "...               ...                       ...             ...         ...   \n",
       "129364            NaN 2015-09-04 17:31:12+00:00 5 days 00:43:12        True   \n",
       "130196            NaN 2015-04-23 16:52:41+00:00 2 days 10:33:36        True   \n",
       "130260            NaN 2015-07-22 16:33:01+00:00 0 days 18:29:17        True   \n",
       "130261            NaN 2015-07-22 16:33:01+00:00 0 days 18:29:17        True   \n",
       "187265        3857.60 2018-07-22 19:21:30+00:00 0 days 01:05:49        True   \n",
       "\n",
       "                  EventTimeStamp  \n",
       "186892 2017-01-06 03:45:37+00:00  \n",
       "186893 2017-01-06 07:00:10+00:00  \n",
       "186894 2017-01-07 07:25:59+00:00  \n",
       "130190 2015-04-20 10:32:34+00:00  \n",
       "130191 2015-04-20 11:13:41+00:00  \n",
       "...                          ...  \n",
       "129364 2015-08-30 16:48:00+00:00  \n",
       "130196 2015-04-21 06:19:05+00:00  \n",
       "130260 2015-07-21 22:03:44+00:00  \n",
       "130261 2015-07-21 22:03:44+00:00  \n",
       "187265 2018-07-22 18:15:41+00:00  \n",
       "\n",
       "[5700 rows x 11 columns]"
      ]
     },
     "execution_count": 356,
     "metadata": {},
     "output_type": "execute_result"
    }
   ],
   "source": [
    "good_trucks"
   ]
  },
  {
   "cell_type": "code",
   "execution_count": 360,
   "id": "manufactured-montana",
   "metadata": {},
   "outputs": [
    {
     "data": {
      "text/html": [
       "<div>\n",
       "<style scoped>\n",
       "    .dataframe tbody tr th:only-of-type {\n",
       "        vertical-align: middle;\n",
       "    }\n",
       "\n",
       "    .dataframe tbody tr th {\n",
       "        vertical-align: top;\n",
       "    }\n",
       "\n",
       "    .dataframe thead th {\n",
       "        text-align: right;\n",
       "    }\n",
       "</style>\n",
       "<table border=\"1\" class=\"dataframe\">\n",
       "  <thead>\n",
       "    <tr style=\"text-align: right;\">\n",
       "      <th></th>\n",
       "      <th>RecordID</th>\n",
       "      <th>spn</th>\n",
       "      <th>DistanceLtd</th>\n",
       "      <th>EngineTimeLtd</th>\n",
       "    </tr>\n",
       "  </thead>\n",
       "  <tbody>\n",
       "    <tr>\n",
       "      <th>count</th>\n",
       "      <td>9.040000e+02</td>\n",
       "      <td>904.000000</td>\n",
       "      <td>896.000000</td>\n",
       "      <td>894.000000</td>\n",
       "    </tr>\n",
       "    <tr>\n",
       "      <th>mean</th>\n",
       "      <td>7.310704e+05</td>\n",
       "      <td>1713.234513</td>\n",
       "      <td>347141.235995</td>\n",
       "      <td>7158.070861</td>\n",
       "    </tr>\n",
       "    <tr>\n",
       "      <th>std</th>\n",
       "      <td>3.155253e+05</td>\n",
       "      <td>1562.328853</td>\n",
       "      <td>159993.817701</td>\n",
       "      <td>4891.046047</td>\n",
       "    </tr>\n",
       "    <tr>\n",
       "      <th>min</th>\n",
       "      <td>3.640000e+02</td>\n",
       "      <td>27.000000</td>\n",
       "      <td>154.302000</td>\n",
       "      <td>10.850000</td>\n",
       "    </tr>\n",
       "    <tr>\n",
       "      <th>25%</th>\n",
       "      <td>4.979052e+05</td>\n",
       "      <td>111.000000</td>\n",
       "      <td>221987.800000</td>\n",
       "      <td>4305.575000</td>\n",
       "    </tr>\n",
       "    <tr>\n",
       "      <th>50%</th>\n",
       "      <td>7.568910e+05</td>\n",
       "      <td>1761.000000</td>\n",
       "      <td>373516.300000</td>\n",
       "      <td>7551.425000</td>\n",
       "    </tr>\n",
       "    <tr>\n",
       "      <th>75%</th>\n",
       "      <td>9.979680e+05</td>\n",
       "      <td>3251.000000</td>\n",
       "      <td>483566.650000</td>\n",
       "      <td>9967.662500</td>\n",
       "    </tr>\n",
       "    <tr>\n",
       "      <th>max</th>\n",
       "      <td>1.246248e+06</td>\n",
       "      <td>6802.000000</td>\n",
       "      <td>627421.900000</td>\n",
       "      <td>112054.200000</td>\n",
       "    </tr>\n",
       "  </tbody>\n",
       "</table>\n",
       "</div>"
      ],
      "text/plain": [
       "           RecordID          spn    DistanceLtd  EngineTimeLtd\n",
       "count  9.040000e+02   904.000000     896.000000     894.000000\n",
       "mean   7.310704e+05  1713.234513  347141.235995    7158.070861\n",
       "std    3.155253e+05  1562.328853  159993.817701    4891.046047\n",
       "min    3.640000e+02    27.000000     154.302000      10.850000\n",
       "25%    4.979052e+05   111.000000  221987.800000    4305.575000\n",
       "50%    7.568910e+05  1761.000000  373516.300000    7551.425000\n",
       "75%    9.979680e+05  3251.000000  483566.650000    9967.662500\n",
       "max    1.246248e+06  6802.000000  627421.900000  112054.200000"
      ]
     },
     "execution_count": 360,
     "metadata": {},
     "output_type": "execute_result"
    }
   ],
   "source": [
    "good_trucks[['RecordID', 'spn', 'DistanceLtd', 'EngineTimeLtd', 'flagtime']].groupby('flagtime').min().describe()"
   ]
  },
  {
   "cell_type": "code",
   "execution_count": 361,
   "id": "upper-attitude",
   "metadata": {
    "scrolled": true
   },
   "outputs": [
    {
     "data": {
      "text/html": [
       "<div>\n",
       "<style scoped>\n",
       "    .dataframe tbody tr th:only-of-type {\n",
       "        vertical-align: middle;\n",
       "    }\n",
       "\n",
       "    .dataframe tbody tr th {\n",
       "        vertical-align: top;\n",
       "    }\n",
       "\n",
       "    .dataframe thead th {\n",
       "        text-align: right;\n",
       "    }\n",
       "</style>\n",
       "<table border=\"1\" class=\"dataframe\">\n",
       "  <thead>\n",
       "    <tr style=\"text-align: right;\">\n",
       "      <th></th>\n",
       "      <th>RecordID</th>\n",
       "      <th>spn</th>\n",
       "      <th>DistanceLtd</th>\n",
       "      <th>EngineTimeLtd</th>\n",
       "    </tr>\n",
       "  </thead>\n",
       "  <tbody>\n",
       "    <tr>\n",
       "      <th>count</th>\n",
       "      <td>7.600000e+01</td>\n",
       "      <td>76.000000</td>\n",
       "      <td>76.000000</td>\n",
       "      <td>76.000000</td>\n",
       "    </tr>\n",
       "    <tr>\n",
       "      <th>mean</th>\n",
       "      <td>8.576269e+05</td>\n",
       "      <td>3857.526316</td>\n",
       "      <td>291176.211908</td>\n",
       "      <td>5834.527632</td>\n",
       "    </tr>\n",
       "    <tr>\n",
       "      <th>std</th>\n",
       "      <td>2.525185e+05</td>\n",
       "      <td>1015.008210</td>\n",
       "      <td>163724.355406</td>\n",
       "      <td>3405.250408</td>\n",
       "    </tr>\n",
       "    <tr>\n",
       "      <th>min</th>\n",
       "      <td>2.363440e+05</td>\n",
       "      <td>1761.000000</td>\n",
       "      <td>2101.185000</td>\n",
       "      <td>68.850000</td>\n",
       "    </tr>\n",
       "    <tr>\n",
       "      <th>25%</th>\n",
       "      <td>7.043618e+05</td>\n",
       "      <td>3362.000000</td>\n",
       "      <td>170601.400000</td>\n",
       "      <td>3110.887500</td>\n",
       "    </tr>\n",
       "    <tr>\n",
       "      <th>50%</th>\n",
       "      <td>9.425795e+05</td>\n",
       "      <td>3362.000000</td>\n",
       "      <td>295516.300000</td>\n",
       "      <td>5916.675000</td>\n",
       "    </tr>\n",
       "    <tr>\n",
       "      <th>75%</th>\n",
       "      <td>1.042182e+06</td>\n",
       "      <td>4094.000000</td>\n",
       "      <td>417004.100000</td>\n",
       "      <td>8479.637500</td>\n",
       "    </tr>\n",
       "    <tr>\n",
       "      <th>max</th>\n",
       "      <td>1.230667e+06</td>\n",
       "      <td>6802.000000</td>\n",
       "      <td>593736.800000</td>\n",
       "      <td>12697.400000</td>\n",
       "    </tr>\n",
       "  </tbody>\n",
       "</table>\n",
       "</div>"
      ],
      "text/plain": [
       "           RecordID          spn    DistanceLtd  EngineTimeLtd\n",
       "count  7.600000e+01    76.000000      76.000000      76.000000\n",
       "mean   8.576269e+05  3857.526316  291176.211908    5834.527632\n",
       "std    2.525185e+05  1015.008210  163724.355406    3405.250408\n",
       "min    2.363440e+05  1761.000000    2101.185000      68.850000\n",
       "25%    7.043618e+05  3362.000000  170601.400000    3110.887500\n",
       "50%    9.425795e+05  3362.000000  295516.300000    5916.675000\n",
       "75%    1.042182e+06  4094.000000  417004.100000    8479.637500\n",
       "max    1.230667e+06  6802.000000  593736.800000   12697.400000"
      ]
     },
     "execution_count": 361,
     "metadata": {},
     "output_type": "execute_result"
    }
   ],
   "source": [
    "bad_trucks[['RecordID', 'spn', 'DistanceLtd', 'EngineTimeLtd', 'flagtime']].groupby('flagtime').min().describe()"
   ]
  },
  {
   "cell_type": "code",
   "execution_count": null,
   "id": "analyzed-silicon",
   "metadata": {},
   "outputs": [],
   "source": []
  },
  {
   "cell_type": "code",
   "execution_count": null,
   "id": "bottom-lexington",
   "metadata": {},
   "outputs": [],
   "source": []
  },
  {
   "cell_type": "code",
   "execution_count": null,
   "id": "divided-exchange",
   "metadata": {},
   "outputs": [],
   "source": []
  },
  {
   "cell_type": "code",
   "execution_count": null,
   "id": "approved-extreme",
   "metadata": {},
   "outputs": [],
   "source": []
  },
  {
   "cell_type": "code",
   "execution_count": null,
   "id": "continuous-translation",
   "metadata": {},
   "outputs": [],
   "source": []
  },
  {
   "cell_type": "code",
   "execution_count": null,
   "id": "spread-appreciation",
   "metadata": {},
   "outputs": [],
   "source": []
  },
  {
   "cell_type": "code",
   "execution_count": null,
   "id": "frozen-softball",
   "metadata": {},
   "outputs": [],
   "source": []
  },
  {
   "cell_type": "code",
   "execution_count": 322,
   "id": "spoken-water",
   "metadata": {},
   "outputs": [],
   "source": [
    "#merge_geo_codes[merge_geo_codes['spn'] == 3362]"
   ]
  },
  {
   "cell_type": "markdown",
   "id": "entire-assignment",
   "metadata": {},
   "source": [
    "# Create a modified version of a train test split"
   ]
  },
  {
   "cell_type": "code",
   "execution_count": 38,
   "id": "psychological-portal",
   "metadata": {},
   "outputs": [],
   "source": [
    "#A function that simulates a train test split that keeps time sequences for trucks together, but still allows individual trucks\n",
    "#to randomly be assigned to training and testing\n",
    "\n",
    "def train_test_brake (df):\n",
    "    df = df.sort_values('EventTimeStamp')\n",
    "    t_len = df.shape[0]\n",
    "    t_perc80 = int(t_len * 0.8)\n",
    "    df80 = df.iloc[0 : t_perc80, :]\n",
    "    df20 = df.iloc[t_perc80 : , :]\n",
    "    return(df80, df20) "
   ]
  },
  {
   "cell_type": "code",
   "execution_count": 39,
   "id": "theoretical-tutorial",
   "metadata": {},
   "outputs": [],
   "source": [
    "dataframe_80_20 = merge_geo_codes.groupby('EquipmentID').apply(train_test_brake)"
   ]
  },
  {
   "cell_type": "code",
   "execution_count": 40,
   "id": "engaging-incentive",
   "metadata": {},
   "outputs": [],
   "source": [
    "#Creates training dataset\n",
    "\n",
    "df80 = pd.concat([x[0] for x in dataframe_80_20])"
   ]
  },
  {
   "cell_type": "code",
   "execution_count": 41,
   "id": "upset-finding",
   "metadata": {},
   "outputs": [],
   "source": [
    "#Creates testing dataset\n",
    "\n",
    "df20 = pd.concat([x[1] for x in dataframe_80_20])"
   ]
  },
  {
   "cell_type": "markdown",
   "id": "dramatic-pride",
   "metadata": {},
   "source": [
    "# Logistic Regression"
   ]
  },
  {
   "cell_type": "markdown",
   "id": "treated-bulletin",
   "metadata": {},
   "source": [
    "#predictors = df80.columns.tolist()\n",
    "bad_predictors = ['RecordID', 'EquipmentID', 'EventTimeStamp', \n",
    "                  'spn', 'fmi', 'ecuModel', 'activeTransitionCount',\n",
    "                  'ecuSerialNumber', 'ecuSoftwareVersion', \n",
    "                  'eventDescription', 'Latitude', 'Longitude', \n",
    "                  'EquipmentID_y', 'EventTimeStamp_y', 'spnfmi_156931_y', \n",
    "                  'flagtime', 'deltatime', 'targettime']"
   ]
  },
  {
   "cell_type": "code",
   "execution_count": 42,
   "id": "actual-mills",
   "metadata": {},
   "outputs": [],
   "source": [
    "#predictors.remove(bad_predictors)"
   ]
  },
  {
   "cell_type": "markdown",
   "id": "operating-treasury",
   "metadata": {},
   "source": [
    "predictors_train = df80.drop(bad_predictors, axis = 1)\n",
    "predictors_test = df20.drop(bad_predictors, axis = 1)"
   ]
  },
  {
   "cell_type": "markdown",
   "id": "wrapped-comment",
   "metadata": {},
   "source": [
    "#df20 = df20.drop(bad_predictors, axis = 1)\n",
    "\n",
    "predictors_train"
   ]
  },
  {
   "cell_type": "markdown",
   "id": "complimentary-boulder",
   "metadata": {},
   "source": [
    "# Predictors\n",
    "X_train = predictors_train\n",
    "\n",
    "X_test = predictors_test\n",
    "\n",
    "# Target\n",
    "y_train = df80.targettime\n",
    "\n",
    "y_test = df20.targettime"
   ]
  },
  {
   "cell_type": "markdown",
   "id": "decent-conjunction",
   "metadata": {},
   "source": [
    "logreg = LogisticRegression().fit(X_train, y_train)"
   ]
  },
  {
   "cell_type": "markdown",
   "id": "secondary-parade",
   "metadata": {},
   "source": [
    "lr_weights = LogisticRegression(class_weight = {0:1, 1:12})"
   ]
  },
  {
   "cell_type": "markdown",
   "id": "soviet-degree",
   "metadata": {},
   "source": [
    "lr_weights.fit(X_train, y_train)"
   ]
  },
  {
   "cell_type": "markdown",
   "id": "velvet-arizona",
   "metadata": {},
   "source": [
    "y_pred = lr_weights.predict(X_test)"
   ]
  },
  {
   "cell_type": "markdown",
   "id": "celtic-control",
   "metadata": {},
   "source": [
    "accuracy_score(y_test, y_pred)"
   ]
  },
  {
   "cell_type": "code",
   "execution_count": null,
   "id": "afraid-horizontal",
   "metadata": {},
   "outputs": [],
   "source": []
  },
  {
   "cell_type": "code",
   "execution_count": null,
   "id": "revised-milton",
   "metadata": {},
   "outputs": [],
   "source": []
  },
  {
   "cell_type": "markdown",
   "id": "supposed-audit",
   "metadata": {},
   "source": [
    "logreg.coef_"
   ]
  },
  {
   "cell_type": "markdown",
   "id": "julian-roulette",
   "metadata": {},
   "source": [
    "logreg.intercept_"
   ]
  },
  {
   "cell_type": "markdown",
   "id": "enormous-technique",
   "metadata": {},
   "source": [
    "y_pred = logreg.predict(X_test)"
   ]
  },
  {
   "cell_type": "markdown",
   "id": "distinct-premises",
   "metadata": {},
   "source": [
    "y_pred"
   ]
  },
  {
   "cell_type": "markdown",
   "id": "elegant-likelihood",
   "metadata": {},
   "source": [
    "logreg.predict_proba(X_test)"
   ]
  },
  {
   "cell_type": "markdown",
   "id": "hawaiian-manufacturer",
   "metadata": {},
   "source": [
    "confusion_matrix(y_test, y_pred)"
   ]
  },
  {
   "cell_type": "code",
   "execution_count": null,
   "id": "occasional-newman",
   "metadata": {},
   "outputs": [],
   "source": []
  },
  {
   "cell_type": "code",
   "execution_count": null,
   "id": "included-powder",
   "metadata": {},
   "outputs": [],
   "source": []
  },
  {
   "cell_type": "markdown",
   "id": "innocent-assembly",
   "metadata": {},
   "source": [
    "plot_confusion_matrix(y_test, y_pred, labels = ['0', '1'], metric = 'accuracy')"
   ]
  },
  {
   "cell_type": "markdown",
   "id": "composed-treatment",
   "metadata": {},
   "source": [
    "plot_confusion_matrix(y_test, y_pred, labels = ['0', '1'], metric = 'precision')"
   ]
  },
  {
   "cell_type": "markdown",
   "id": "independent-evidence",
   "metadata": {},
   "source": [
    "f1_score(y_test, y_pred, average = 'micro')"
   ]
  },
  {
   "cell_type": "markdown",
   "id": "surprised-invalid",
   "metadata": {},
   "source": [
    "print(classification_report(y_test, y_pred))"
   ]
  },
  {
   "cell_type": "markdown",
   "id": "musical-breeding",
   "metadata": {},
   "source": [
    "# LASSO TESTING"
   ]
  },
  {
   "cell_type": "code",
   "execution_count": 43,
   "id": "controlling-juice",
   "metadata": {},
   "outputs": [
    {
     "data": {
      "text/plain": [
       "[PhysicalDevice(name='/physical_device:GPU:0', device_type='GPU'),\n",
       " PhysicalDevice(name='/physical_device:GPU:1', device_type='GPU')]"
      ]
     },
     "execution_count": 43,
     "metadata": {},
     "output_type": "execute_result"
    }
   ],
   "source": [
    "tf.config.list_physical_devices('GPU')"
   ]
  },
  {
   "cell_type": "code",
   "execution_count": 44,
   "id": "creative-conditioning",
   "metadata": {},
   "outputs": [],
   "source": [
    "#with tf.device('/gpu:0'):"
   ]
  },
  {
   "cell_type": "code",
   "execution_count": null,
   "id": "clean-saskatchewan",
   "metadata": {},
   "outputs": [],
   "source": []
  },
  {
   "cell_type": "markdown",
   "id": "straight-reducing",
   "metadata": {},
   "source": [
    "#Smaller c values specify stronger regularization \n",
    "with tf.device('/gpu:0'):\n",
    "    lasso = LogisticRegression(penalty = 'l1', \n",
    "                           C = 0.05, \n",
    "                           solver = 'saga', \n",
    "                           class_weight = 'balanced', \n",
    "                           max_iter = 1000, \n",
    "                           ).fit(X_train, y_train)"
   ]
  },
  {
   "cell_type": "markdown",
   "id": "english-shower",
   "metadata": {},
   "source": [
    "lr = LogisticRegression(penalty = 'l1', \n",
    "                       solver = 'saga', \n",
    "                       class_weight = 'balanced',\n",
    "                       max_iter = 5000)"
   ]
  },
  {
   "cell_type": "code",
   "execution_count": 45,
   "id": "capable-cancer",
   "metadata": {},
   "outputs": [],
   "source": [
    "#param_grid = dict()"
   ]
  },
  {
   "cell_type": "code",
   "execution_count": 46,
   "id": "informative-recycling",
   "metadata": {},
   "outputs": [],
   "source": [
    "#param_grid['C'] = arange(0, 0.2, 0.05) "
   ]
  },
  {
   "cell_type": "code",
   "execution_count": 47,
   "id": "swedish-privilege",
   "metadata": {},
   "outputs": [],
   "source": [
    "#gs = GridSearchCV(estimator = lr, \n",
    "#                 param_grid = param_grid, \n",
    "#                 scoring = f1, \n",
    "#                 cv = 3)"
   ]
  },
  {
   "cell_type": "markdown",
   "id": "plain-model",
   "metadata": {},
   "source": [
    "with tf.device('/gpu:0'):\n",
    "    results = gs.fit(X_train, y_train)"
   ]
  },
  {
   "cell_type": "markdown",
   "id": "comparative-jackson",
   "metadata": {},
   "source": [
    "print(results.best_score_)"
   ]
  },
  {
   "cell_type": "markdown",
   "id": "southwest-ready",
   "metadata": {},
   "source": [
    "print(results.best_params_)"
   ]
  },
  {
   "cell_type": "markdown",
   "id": "tutorial-command",
   "metadata": {},
   "source": [
    "results"
   ]
  },
  {
   "cell_type": "code",
   "execution_count": null,
   "id": "analyzed-creation",
   "metadata": {},
   "outputs": [],
   "source": []
  }
 ],
 "metadata": {
  "kernelspec": {
   "display_name": "Python 3",
   "language": "python",
   "name": "python3"
  },
  "language_info": {
   "codemirror_mode": {
    "name": "ipython",
    "version": 3
   },
   "file_extension": ".py",
   "mimetype": "text/x-python",
   "name": "python",
   "nbconvert_exporter": "python",
   "pygments_lexer": "ipython3",
   "version": "3.8.8"
  }
 },
 "nbformat": 4,
 "nbformat_minor": 5
}
