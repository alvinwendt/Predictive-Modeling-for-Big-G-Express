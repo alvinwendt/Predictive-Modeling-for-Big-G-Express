{
 "cells": [
  {
   "cell_type": "code",
   "execution_count": 115,
   "id": "impossible-valley",
   "metadata": {},
   "outputs": [],
   "source": [
    "import pandas as pd\n",
    "import numpy as np\n",
    "import datetime as dt\n",
    "import matplotlib.pyplot as plt\n",
    "import seaborn as sns\n",
    "\n",
    "from sklearn.model_selection import train_test_split\n",
    "from sklearn.linear_model import LogisticRegression, LinearRegression\n",
    "from sklearn import metrics\n",
    "from sklearn.metrics import classification_report, f1_score, accuracy_score, confusion_matrix\n",
    "\n",
    "from cm import plot_confusion_matrix"
   ]
  },
  {
   "cell_type": "code",
   "execution_count": 2,
   "id": "small-couple",
   "metadata": {},
   "outputs": [],
   "source": [
    "real_codes = pd.read_csv('data/J1939Faults.csv', low_memory = False)\n",
    "onboard = pd.read_csv('data/VehicleDiagnosticOnboardData.csv', low_memory = False)"
   ]
  },
  {
   "cell_type": "markdown",
   "id": "potential-lyric",
   "metadata": {},
   "source": [
    "# Initial data cleaning and filtering"
   ]
  },
  {
   "cell_type": "code",
   "execution_count": 3,
   "id": "surrounded-speaker",
   "metadata": {},
   "outputs": [],
   "source": [
    "#Per the project's instructions: \n",
    "\n",
    "real_codes = real_codes[real_codes['EquipmentID'].str.len() < 6]\n",
    "real_codes = real_codes[real_codes['ecuMake'] == 'CMMNS']\n",
    "real_codes = real_codes[real_codes['active'] == True]"
   ]
  },
  {
   "cell_type": "code",
   "execution_count": 4,
   "id": "fatal-storm",
   "metadata": {},
   "outputs": [],
   "source": [
    "real_codes = real_codes.drop(columns=['actionDescription', 'faultValue', 'MCTNumber'])"
   ]
  },
  {
   "cell_type": "code",
   "execution_count": 5,
   "id": "numeric-number",
   "metadata": {},
   "outputs": [],
   "source": [
    "#Selects lat and lon coordinates that are not in the bounded boxes\n",
    "\n",
    "geo_codes = real_codes[(~real_codes['Latitude'].between(36.05942, 36.07392)) | (~real_codes['Longitude'].between(-86.44366, -86.42579))]\n",
    "geo_codes = geo_codes[(~geo_codes['Latitude'].between(35.58108, 35.59558)) | (~geo_codes['Longitude'].between(-86.4528, -86.435))]\n",
    "geo_codes = geo_codes[(~geo_codes['Latitude'].between(36.18775, 36.20225)) | (~geo_codes['Longitude'].between(-83.1837, -83.1658))]\n",
    "\n",
    "#Here is an alternative method for selecting lats and lons that are not in the bounded boxes: \n",
    "\n",
    "#geo_codes = real_codes.query('(Latitude <= 36.05942 or Latitude >= 36.07392) or (Longitude <= -86.5419 or Longitude >= -86.3275)')\n"
   ]
  },
  {
   "cell_type": "code",
   "execution_count": 6,
   "id": "disturbed-south",
   "metadata": {},
   "outputs": [],
   "source": [
    "geo_codes = geo_codes.sort_values([\"EquipmentID\", \"EventTimeStamp\"], ascending = (False, True))"
   ]
  },
  {
   "cell_type": "markdown",
   "id": "shared-collective",
   "metadata": {},
   "source": [
    "# Some EDA"
   ]
  },
  {
   "cell_type": "code",
   "execution_count": 7,
   "id": "cubic-vulnerability",
   "metadata": {},
   "outputs": [
    {
     "data": {
      "text/plain": [
       "928"
      ]
     },
     "execution_count": 7,
     "metadata": {},
     "output_type": "execute_result"
    }
   ],
   "source": [
    "#Number of unique trucks in the data\n",
    "\n",
    "geo_codes.EquipmentID.nunique()"
   ]
  },
  {
   "cell_type": "code",
   "execution_count": 8,
   "id": "ranging-malawi",
   "metadata": {},
   "outputs": [],
   "source": [
    "geo_codes_select1569 = geo_codes[geo_codes['spn'].isin([1569])]\n",
    "geo_codes_select5246 = geo_codes[geo_codes['spn'].isin([5246])]"
   ]
  },
  {
   "cell_type": "code",
   "execution_count": 9,
   "id": "ranking-transfer",
   "metadata": {},
   "outputs": [
    {
     "data": {
      "text/plain": [
       "4277"
      ]
     },
     "execution_count": 9,
     "metadata": {},
     "output_type": "execute_result"
    }
   ],
   "source": [
    "#Number of unique 1569s thrown by the ECUs\n",
    "\n",
    "geo_codes_select1569['RecordID'].nunique()"
   ]
  },
  {
   "cell_type": "code",
   "execution_count": 10,
   "id": "grave-popularity",
   "metadata": {},
   "outputs": [
    {
     "data": {
      "text/plain": [
       "270"
      ]
     },
     "execution_count": 10,
     "metadata": {},
     "output_type": "execute_result"
    }
   ],
   "source": [
    "#Number of unique 5426s thrown by the ECUs\n",
    "\n",
    "geo_codes_select5246['RecordID'].nunique()"
   ]
  },
  {
   "cell_type": "code",
   "execution_count": 11,
   "id": "organizational-hindu",
   "metadata": {},
   "outputs": [
    {
     "data": {
      "text/plain": [
       "200154"
      ]
     },
     "execution_count": 11,
     "metadata": {},
     "output_type": "execute_result"
    }
   ],
   "source": [
    "geo_codes.RecordID.nunique(())"
   ]
  },
  {
   "cell_type": "code",
   "execution_count": 12,
   "id": "difficult-albania",
   "metadata": {},
   "outputs": [
    {
     "data": {
      "text/html": [
       "<div>\n",
       "<style scoped>\n",
       "    .dataframe tbody tr th:only-of-type {\n",
       "        vertical-align: middle;\n",
       "    }\n",
       "\n",
       "    .dataframe tbody tr th {\n",
       "        vertical-align: top;\n",
       "    }\n",
       "\n",
       "    .dataframe thead th {\n",
       "        text-align: right;\n",
       "    }\n",
       "</style>\n",
       "<table border=\"1\" class=\"dataframe\">\n",
       "  <thead>\n",
       "    <tr style=\"text-align: right;\">\n",
       "      <th></th>\n",
       "      <th>RecordID</th>\n",
       "      <th>ESS_Id</th>\n",
       "      <th>EventTimeStamp</th>\n",
       "      <th>eventDescription</th>\n",
       "      <th>ecuSoftwareVersion</th>\n",
       "      <th>ecuSerialNumber</th>\n",
       "      <th>ecuModel</th>\n",
       "      <th>ecuMake</th>\n",
       "      <th>ecuSource</th>\n",
       "      <th>spn</th>\n",
       "      <th>fmi</th>\n",
       "      <th>active</th>\n",
       "      <th>activeTransitionCount</th>\n",
       "      <th>EquipmentID</th>\n",
       "      <th>Latitude</th>\n",
       "      <th>Longitude</th>\n",
       "      <th>LocationTimeStamp</th>\n",
       "    </tr>\n",
       "  </thead>\n",
       "  <tbody>\n",
       "    <tr>\n",
       "      <th>4245</th>\n",
       "      <td>4246</td>\n",
       "      <td>1048627</td>\n",
       "      <td>2015-02-24 13:45:06.000</td>\n",
       "      <td>Low (Severity Low) Catalyst Tank Level</td>\n",
       "      <td>05317106*04119044*051914190353*09400015*G1*BDR*</td>\n",
       "      <td>79751302</td>\n",
       "      <td>6X1u13D1500000000</td>\n",
       "      <td>CMMNS</td>\n",
       "      <td>0</td>\n",
       "      <td>1761</td>\n",
       "      <td>17</td>\n",
       "      <td>True</td>\n",
       "      <td>43</td>\n",
       "      <td>R1762</td>\n",
       "      <td>41.254166</td>\n",
       "      <td>-85.088888</td>\n",
       "      <td>2015-02-24 13:45:41.000</td>\n",
       "    </tr>\n",
       "  </tbody>\n",
       "</table>\n",
       "</div>"
      ],
      "text/plain": [
       "      RecordID   ESS_Id           EventTimeStamp  \\\n",
       "4245      4246  1048627  2015-02-24 13:45:06.000   \n",
       "\n",
       "                            eventDescription  \\\n",
       "4245  Low (Severity Low) Catalyst Tank Level   \n",
       "\n",
       "                                   ecuSoftwareVersion ecuSerialNumber  \\\n",
       "4245  05317106*04119044*051914190353*09400015*G1*BDR*        79751302   \n",
       "\n",
       "               ecuModel ecuMake  ecuSource   spn  fmi  active  \\\n",
       "4245  6X1u13D1500000000   CMMNS          0  1761   17    True   \n",
       "\n",
       "      activeTransitionCount EquipmentID   Latitude  Longitude  \\\n",
       "4245                     43       R1762  41.254166 -85.088888   \n",
       "\n",
       "            LocationTimeStamp  \n",
       "4245  2015-02-24 13:45:41.000  "
      ]
     },
     "execution_count": 12,
     "metadata": {},
     "output_type": "execute_result"
    }
   ],
   "source": [
    "#Looking at the names of the metrics that are recorded when the ECU throws a code\n",
    "\n",
    "geo_codes[geo_codes['RecordID']  == 4246].head(25)"
   ]
  },
  {
   "cell_type": "code",
   "execution_count": 13,
   "id": "behavioral-bracelet",
   "metadata": {},
   "outputs": [
    {
     "data": {
      "text/plain": [
       "Low (Severity Low) Engine Coolant Level                              137206\n",
       "Low (Severity Medium) Engine Coolant Level                            14676\n",
       "High (Severity Low) Water In Fuel Indicator                            6992\n",
       "Condition Exists Engine Protection Torque Derate                       4277\n",
       "High Voltage (Water In Fuel Indicator)                                 3768\n",
       "                                                                      ...  \n",
       "Error in System Catalyst Tank Controller                                  1\n",
       "Low Voltage (Aftertreatment 1 Purge Air Actuator)                         1\n",
       "Abnormal Update Rate Engine Wait to Start Lamp                            1\n",
       "Out of Calibration Catalyst Tank Controller                               1\n",
       "High Current Engine Exhaust Gas Recirculation (EGR) Valve Control         1\n",
       "Name: eventDescription, Length: 266, dtype: int64"
      ]
     },
     "execution_count": 13,
     "metadata": {},
     "output_type": "execute_result"
    }
   ],
   "source": [
    "geo_codes.eventDescription.value_counts()"
   ]
  },
  {
   "cell_type": "markdown",
   "id": "rolled-bidding",
   "metadata": {},
   "source": [
    "# More data cleaning and filtering based on prior EDA"
   ]
  },
  {
   "cell_type": "code",
   "execution_count": 14,
   "id": "biblical-background",
   "metadata": {},
   "outputs": [],
   "source": [
    "geo_codes = geo_codes.drop(columns=['LocationTimeStamp', 'active', 'ecuSource', 'ecuMake', 'ESS_Id'])"
   ]
  },
  {
   "cell_type": "code",
   "execution_count": 15,
   "id": "certified-society",
   "metadata": {},
   "outputs": [],
   "source": [
    "#Reorders our columns in a logical and readable way: index types, data types, others\n",
    "\n",
    "geo_codes = geo_codes.reindex(columns = ['RecordID', 'EquipmentID', 'EventTimeStamp', 'spn', 'fmi', 'spnfmi',\n",
    "                                         'activeTransitionCount', 'ecuModel', 'ecuSerialNumber', 'ecuSoftwareVersion',\n",
    "                                         'eventDescription', 'Latitude', 'Longitude'])"
   ]
  },
  {
   "cell_type": "code",
   "execution_count": 16,
   "id": "touched-bride",
   "metadata": {},
   "outputs": [],
   "source": [
    "#Concats the spn and fmi fields into a single field, then converts them back to an int\n",
    "\n",
    "geo_codes['spnfmi'] = geo_codes.spn.astype('str').map(str) + geo_codes.fmi.astype('str')\n",
    "geo_codes['spnfmi'] = geo_codes['spnfmi'].astype('int32')"
   ]
  },
  {
   "cell_type": "markdown",
   "id": "fitting-retailer",
   "metadata": {},
   "source": [
    "# Get dummy variables in preperation of logistic regression"
   ]
  },
  {
   "cell_type": "code",
   "execution_count": 17,
   "id": "representative-sheet",
   "metadata": {},
   "outputs": [],
   "source": [
    "geo_codes_spnfmi = pd.get_dummies(geo_codes, columns = ['spnfmi'])"
   ]
  },
  {
   "cell_type": "markdown",
   "id": "received-textbook",
   "metadata": {},
   "source": [
    "# Convert datatime column for indexing and sorting"
   ]
  },
  {
   "cell_type": "code",
   "execution_count": 18,
   "id": "collect-museum",
   "metadata": {},
   "outputs": [],
   "source": [
    "geo_codes_spnfmi['EventTimeStamp'] = geo_codes_spnfmi['EventTimeStamp'].astype('datetime64[ns]')"
   ]
  },
  {
   "cell_type": "code",
   "execution_count": 19,
   "id": "third-jenny",
   "metadata": {},
   "outputs": [],
   "source": [
    "geo_codes_spnfmi['EventTimeStamp'] = pd.to_datetime(geo_codes_spnfmi['EventTimeStamp'], utc = True)"
   ]
  },
  {
   "cell_type": "code",
   "execution_count": 20,
   "id": "basic-thread",
   "metadata": {},
   "outputs": [],
   "source": [
    "geo_codes_dropped = geo_codes_spnfmi.reset_index()"
   ]
  },
  {
   "cell_type": "code",
   "execution_count": 21,
   "id": "hidden-parameter",
   "metadata": {},
   "outputs": [],
   "source": [
    "#List comprehension of columns created from the get_dummies\n",
    "\n",
    "List = [x for x in geo_codes_dropped.columns if 'spnfmi_' in x]"
   ]
  },
  {
   "cell_type": "markdown",
   "id": "rough-barrel",
   "metadata": {},
   "source": [
    "# Pandas .rolling() to create a cumulative count of spn-fmi combo codes thrown"
   ]
  },
  {
   "cell_type": "code",
   "execution_count": 22,
   "id": "auburn-emission",
   "metadata": {},
   "outputs": [],
   "source": [
    "geo_codes_dropped = geo_codes_dropped.sort_values(['EquipmentID', 'EventTimeStamp']).reset_index(drop = True)"
   ]
  },
  {
   "cell_type": "code",
   "execution_count": 23,
   "id": "painful-double",
   "metadata": {},
   "outputs": [],
   "source": [
    "geo_codes_dropped_rolling = geo_codes_dropped.groupby('EquipmentID').rolling(window = \"14d\", on = 'EventTimeStamp')[List].sum().reset_index()"
   ]
  },
  {
   "cell_type": "code",
   "execution_count": 24,
   "id": "bronze-jonathan",
   "metadata": {},
   "outputs": [],
   "source": [
    "merge_geo_codes = geo_codes_dropped.merge(geo_codes_dropped_rolling, left_index = True, right_index = True)"
   ]
  },
  {
   "cell_type": "code",
   "execution_count": 25,
   "id": "wanted-backup",
   "metadata": {},
   "outputs": [],
   "source": [
    "merge_geo_codes = merge_geo_codes.rename(columns = {'EquipmentID_x' : 'EquipmentID', 'EventTimeStamp_x' : 'EventTimeStamp'})"
   ]
  },
  {
   "cell_type": "code",
   "execution_count": 26,
   "id": "challenging-tract",
   "metadata": {},
   "outputs": [],
   "source": [
    "merge_geo_codes = merge_geo_codes.loc[:,~merge_geo_codes.columns.str.contains('_x', case=False)]"
   ]
  },
  {
   "cell_type": "code",
   "execution_count": 27,
   "id": "spiritual-wright",
   "metadata": {},
   "outputs": [],
   "source": [
    "merge_geo_codes = merge_geo_codes.drop(columns=['index'])"
   ]
  },
  {
   "cell_type": "code",
   "execution_count": 28,
   "id": "described-reputation",
   "metadata": {},
   "outputs": [],
   "source": [
    "#Saved for future use when coming back and merging onboard"
   ]
  },
  {
   "cell_type": "code",
   "execution_count": 29,
   "id": "incorporated-affiliate",
   "metadata": {},
   "outputs": [],
   "source": [
    "def backfill (df):\n",
    "    df['flagtime'] = df.loc[df['spnfmi_156931_y'] == 1, 'EventTimeStamp']\n",
    "    df['flagtime'] = df.flagtime.bfill()\n",
    "    return df"
   ]
  },
  {
   "cell_type": "code",
   "execution_count": 30,
   "id": "motivated-slovakia",
   "metadata": {},
   "outputs": [],
   "source": [
    "merge_geo_codes = merge_geo_codes.groupby('EquipmentID').apply(backfill)"
   ]
  },
  {
   "cell_type": "code",
   "execution_count": 31,
   "id": "helpful-calendar",
   "metadata": {},
   "outputs": [],
   "source": [
    "merge_geo_codes['deltatime'] = merge_geo_codes['flagtime'] - merge_geo_codes['EventTimeStamp']"
   ]
  },
  {
   "cell_type": "code",
   "execution_count": 32,
   "id": "animal-missouri",
   "metadata": {},
   "outputs": [],
   "source": [
    "merge_geo_codes['targettime'] = merge_geo_codes.deltatime.dt.total_seconds().between(3600, 86400)"
   ]
  },
  {
   "cell_type": "code",
   "execution_count": 33,
   "id": "stainless-brunei",
   "metadata": {},
   "outputs": [],
   "source": [
    "merge_geo_codes = merge_geo_codes[~merge_geo_codes['deltatime'].dt.total_seconds().between(-1, 3600)]"
   ]
  },
  {
   "cell_type": "code",
   "execution_count": 34,
   "id": "stopped-arthritis",
   "metadata": {},
   "outputs": [],
   "source": [
    "merge_geo_codes = merge_geo_codes[merge_geo_codes['spn'] != 5246]"
   ]
  },
  {
   "cell_type": "code",
   "execution_count": 35,
   "id": "foster-mongolia",
   "metadata": {},
   "outputs": [
    {
     "data": {
      "text/html": [
       "<div>\n",
       "<style scoped>\n",
       "    .dataframe tbody tr th:only-of-type {\n",
       "        vertical-align: middle;\n",
       "    }\n",
       "\n",
       "    .dataframe tbody tr th {\n",
       "        vertical-align: top;\n",
       "    }\n",
       "\n",
       "    .dataframe thead th {\n",
       "        text-align: right;\n",
       "    }\n",
       "</style>\n",
       "<table border=\"1\" class=\"dataframe\">\n",
       "  <thead>\n",
       "    <tr style=\"text-align: right;\">\n",
       "      <th></th>\n",
       "      <th>RecordID</th>\n",
       "      <th>EquipmentID</th>\n",
       "      <th>EventTimeStamp</th>\n",
       "      <th>spn</th>\n",
       "      <th>fmi</th>\n",
       "      <th>activeTransitionCount</th>\n",
       "      <th>ecuModel</th>\n",
       "      <th>ecuSerialNumber</th>\n",
       "      <th>ecuSoftwareVersion</th>\n",
       "      <th>eventDescription</th>\n",
       "      <th>...</th>\n",
       "      <th>spnfmi_6553531_y</th>\n",
       "      <th>spnfmi_8812116_y</th>\n",
       "      <th>spnfmi_11486311_y</th>\n",
       "      <th>spnfmi_19660829_y</th>\n",
       "      <th>spnfmi_33504023_y</th>\n",
       "      <th>spnfmi_52103214_y</th>\n",
       "      <th>spnfmi_52428731_y</th>\n",
       "      <th>flagtime</th>\n",
       "      <th>deltatime</th>\n",
       "      <th>targettime</th>\n",
       "    </tr>\n",
       "  </thead>\n",
       "  <tbody>\n",
       "    <tr>\n",
       "      <th>0</th>\n",
       "      <td>58809</td>\n",
       "      <td>1327</td>\n",
       "      <td>2015-05-19 12:02:55+00:00</td>\n",
       "      <td>3216</td>\n",
       "      <td>9</td>\n",
       "      <td>1</td>\n",
       "      <td>6X1u10D1500000000</td>\n",
       "      <td>79419774</td>\n",
       "      <td>04993120*00001782*082113134117*07700053*I0*BBZ*</td>\n",
       "      <td>Abnormal Update Rate Aftertreatment 1 Intake NOx</td>\n",
       "      <td>...</td>\n",
       "      <td>0.0</td>\n",
       "      <td>0.0</td>\n",
       "      <td>0.0</td>\n",
       "      <td>0.0</td>\n",
       "      <td>0.0</td>\n",
       "      <td>0.0</td>\n",
       "      <td>0.0</td>\n",
       "      <td>NaT</td>\n",
       "      <td>NaT</td>\n",
       "      <td>False</td>\n",
       "    </tr>\n",
       "    <tr>\n",
       "      <th>1</th>\n",
       "      <td>65879</td>\n",
       "      <td>1327</td>\n",
       "      <td>2015-05-26 08:11:45+00:00</td>\n",
       "      <td>3216</td>\n",
       "      <td>9</td>\n",
       "      <td>1</td>\n",
       "      <td>6X1u10D1500000000</td>\n",
       "      <td>79419774</td>\n",
       "      <td>04993120*00001782*082113134117*07700053*I0*BBZ*</td>\n",
       "      <td>Abnormal Update Rate Aftertreatment 1 Intake NOx</td>\n",
       "      <td>...</td>\n",
       "      <td>0.0</td>\n",
       "      <td>0.0</td>\n",
       "      <td>0.0</td>\n",
       "      <td>0.0</td>\n",
       "      <td>0.0</td>\n",
       "      <td>0.0</td>\n",
       "      <td>0.0</td>\n",
       "      <td>NaT</td>\n",
       "      <td>NaT</td>\n",
       "      <td>False</td>\n",
       "    </tr>\n",
       "    <tr>\n",
       "      <th>2</th>\n",
       "      <td>65939</td>\n",
       "      <td>1327</td>\n",
       "      <td>2015-05-26 08:44:10+00:00</td>\n",
       "      <td>3216</td>\n",
       "      <td>9</td>\n",
       "      <td>1</td>\n",
       "      <td>6X1u10D1500000000</td>\n",
       "      <td>79419774</td>\n",
       "      <td>04993120*00001782*082113134117*07700053*I0*BBZ*</td>\n",
       "      <td>Abnormal Update Rate Aftertreatment 1 Intake NOx</td>\n",
       "      <td>...</td>\n",
       "      <td>0.0</td>\n",
       "      <td>0.0</td>\n",
       "      <td>0.0</td>\n",
       "      <td>0.0</td>\n",
       "      <td>0.0</td>\n",
       "      <td>0.0</td>\n",
       "      <td>0.0</td>\n",
       "      <td>NaT</td>\n",
       "      <td>NaT</td>\n",
       "      <td>False</td>\n",
       "    </tr>\n",
       "    <tr>\n",
       "      <th>3</th>\n",
       "      <td>23445</td>\n",
       "      <td>1330</td>\n",
       "      <td>2015-04-15 20:15:00+00:00</td>\n",
       "      <td>3556</td>\n",
       "      <td>2</td>\n",
       "      <td>1</td>\n",
       "      <td>6X1u10D1500000000</td>\n",
       "      <td>79419775</td>\n",
       "      <td>04993120*00001524*040213150018*07700044*I0*BBZ*</td>\n",
       "      <td>Incorrect Data Aftertreatment Fuel Injector 1</td>\n",
       "      <td>...</td>\n",
       "      <td>0.0</td>\n",
       "      <td>0.0</td>\n",
       "      <td>0.0</td>\n",
       "      <td>0.0</td>\n",
       "      <td>0.0</td>\n",
       "      <td>0.0</td>\n",
       "      <td>0.0</td>\n",
       "      <td>NaT</td>\n",
       "      <td>NaT</td>\n",
       "      <td>False</td>\n",
       "    </tr>\n",
       "    <tr>\n",
       "      <th>4</th>\n",
       "      <td>23449</td>\n",
       "      <td>1330</td>\n",
       "      <td>2015-04-15 20:22:10+00:00</td>\n",
       "      <td>3226</td>\n",
       "      <td>4</td>\n",
       "      <td>1</td>\n",
       "      <td>6X1u10D1500000000</td>\n",
       "      <td>79419775</td>\n",
       "      <td>04993120*00001524*040213150018*07700044*I0*BBZ*</td>\n",
       "      <td>Low Voltage (Aftertreatment 1 Outlet NOx)</td>\n",
       "      <td>...</td>\n",
       "      <td>0.0</td>\n",
       "      <td>0.0</td>\n",
       "      <td>0.0</td>\n",
       "      <td>0.0</td>\n",
       "      <td>0.0</td>\n",
       "      <td>0.0</td>\n",
       "      <td>0.0</td>\n",
       "      <td>NaT</td>\n",
       "      <td>NaT</td>\n",
       "      <td>False</td>\n",
       "    </tr>\n",
       "    <tr>\n",
       "      <th>...</th>\n",
       "      <td>...</td>\n",
       "      <td>...</td>\n",
       "      <td>...</td>\n",
       "      <td>...</td>\n",
       "      <td>...</td>\n",
       "      <td>...</td>\n",
       "      <td>...</td>\n",
       "      <td>...</td>\n",
       "      <td>...</td>\n",
       "      <td>...</td>\n",
       "      <td>...</td>\n",
       "      <td>...</td>\n",
       "      <td>...</td>\n",
       "      <td>...</td>\n",
       "      <td>...</td>\n",
       "      <td>...</td>\n",
       "      <td>...</td>\n",
       "      <td>...</td>\n",
       "      <td>...</td>\n",
       "      <td>...</td>\n",
       "      <td>...</td>\n",
       "    </tr>\n",
       "    <tr>\n",
       "      <th>200147</th>\n",
       "      <td>1021420</td>\n",
       "      <td>310</td>\n",
       "      <td>2018-06-05 20:09:14+00:00</td>\n",
       "      <td>97</td>\n",
       "      <td>16</td>\n",
       "      <td>2</td>\n",
       "      <td>6X1u13D1500000000</td>\n",
       "      <td>79756075</td>\n",
       "      <td>05317106*04133655*061416163421*09401361*G1*BDR*</td>\n",
       "      <td>High (Severity Medium) Water In Fuel Indicator</td>\n",
       "      <td>...</td>\n",
       "      <td>0.0</td>\n",
       "      <td>0.0</td>\n",
       "      <td>0.0</td>\n",
       "      <td>0.0</td>\n",
       "      <td>0.0</td>\n",
       "      <td>0.0</td>\n",
       "      <td>0.0</td>\n",
       "      <td>2018-06-28 22:03:41+00:00</td>\n",
       "      <td>23 days 01:54:27</td>\n",
       "      <td>False</td>\n",
       "    </tr>\n",
       "    <tr>\n",
       "      <th>200148</th>\n",
       "      <td>1030174</td>\n",
       "      <td>310</td>\n",
       "      <td>2018-06-26 15:49:59+00:00</td>\n",
       "      <td>5394</td>\n",
       "      <td>5</td>\n",
       "      <td>1</td>\n",
       "      <td>6X1u13D1500000000</td>\n",
       "      <td>79756075</td>\n",
       "      <td>05317106*04133655*061416163421*09401361*G1*BDR*</td>\n",
       "      <td>NaN</td>\n",
       "      <td>...</td>\n",
       "      <td>0.0</td>\n",
       "      <td>0.0</td>\n",
       "      <td>0.0</td>\n",
       "      <td>0.0</td>\n",
       "      <td>0.0</td>\n",
       "      <td>0.0</td>\n",
       "      <td>0.0</td>\n",
       "      <td>2018-06-28 22:03:41+00:00</td>\n",
       "      <td>2 days 06:13:42</td>\n",
       "      <td>False</td>\n",
       "    </tr>\n",
       "    <tr>\n",
       "      <th>200151</th>\n",
       "      <td>4246</td>\n",
       "      <td>R1762</td>\n",
       "      <td>2015-02-24 13:45:06+00:00</td>\n",
       "      <td>1761</td>\n",
       "      <td>17</td>\n",
       "      <td>43</td>\n",
       "      <td>6X1u13D1500000000</td>\n",
       "      <td>79751302</td>\n",
       "      <td>05317106*04119044*051914190353*09400015*G1*BDR*</td>\n",
       "      <td>Low (Severity Low) Catalyst Tank Level</td>\n",
       "      <td>...</td>\n",
       "      <td>0.0</td>\n",
       "      <td>0.0</td>\n",
       "      <td>0.0</td>\n",
       "      <td>0.0</td>\n",
       "      <td>0.0</td>\n",
       "      <td>0.0</td>\n",
       "      <td>0.0</td>\n",
       "      <td>NaT</td>\n",
       "      <td>NaT</td>\n",
       "      <td>False</td>\n",
       "    </tr>\n",
       "    <tr>\n",
       "      <th>200152</th>\n",
       "      <td>4428</td>\n",
       "      <td>R1762</td>\n",
       "      <td>2015-02-24 15:31:17+00:00</td>\n",
       "      <td>1761</td>\n",
       "      <td>18</td>\n",
       "      <td>11</td>\n",
       "      <td>6X1u13D1500000000</td>\n",
       "      <td>79751302</td>\n",
       "      <td>05317106*04119044*051914190353*09400015*G1*BDR*</td>\n",
       "      <td>Low (Severity Medium) Catalyst Tank Level</td>\n",
       "      <td>...</td>\n",
       "      <td>0.0</td>\n",
       "      <td>0.0</td>\n",
       "      <td>0.0</td>\n",
       "      <td>0.0</td>\n",
       "      <td>0.0</td>\n",
       "      <td>0.0</td>\n",
       "      <td>0.0</td>\n",
       "      <td>NaT</td>\n",
       "      <td>NaT</td>\n",
       "      <td>False</td>\n",
       "    </tr>\n",
       "    <tr>\n",
       "      <th>200153</th>\n",
       "      <td>6439</td>\n",
       "      <td>R1762</td>\n",
       "      <td>2015-02-26 13:12:11+00:00</td>\n",
       "      <td>5848</td>\n",
       "      <td>9</td>\n",
       "      <td>1</td>\n",
       "      <td>6X1u13D1500000000</td>\n",
       "      <td>79751302</td>\n",
       "      <td>05317106*04119044*051914190353*09400015*G1*BDR*</td>\n",
       "      <td>NaN</td>\n",
       "      <td>...</td>\n",
       "      <td>0.0</td>\n",
       "      <td>0.0</td>\n",
       "      <td>0.0</td>\n",
       "      <td>0.0</td>\n",
       "      <td>0.0</td>\n",
       "      <td>0.0</td>\n",
       "      <td>0.0</td>\n",
       "      <td>NaT</td>\n",
       "      <td>NaT</td>\n",
       "      <td>False</td>\n",
       "    </tr>\n",
       "  </tbody>\n",
       "</table>\n",
       "<p>193679 rows × 414 columns</p>\n",
       "</div>"
      ],
      "text/plain": [
       "        RecordID EquipmentID            EventTimeStamp   spn  fmi  \\\n",
       "0          58809        1327 2015-05-19 12:02:55+00:00  3216    9   \n",
       "1          65879        1327 2015-05-26 08:11:45+00:00  3216    9   \n",
       "2          65939        1327 2015-05-26 08:44:10+00:00  3216    9   \n",
       "3          23445        1330 2015-04-15 20:15:00+00:00  3556    2   \n",
       "4          23449        1330 2015-04-15 20:22:10+00:00  3226    4   \n",
       "...          ...         ...                       ...   ...  ...   \n",
       "200147   1021420         310 2018-06-05 20:09:14+00:00    97   16   \n",
       "200148   1030174         310 2018-06-26 15:49:59+00:00  5394    5   \n",
       "200151      4246       R1762 2015-02-24 13:45:06+00:00  1761   17   \n",
       "200152      4428       R1762 2015-02-24 15:31:17+00:00  1761   18   \n",
       "200153      6439       R1762 2015-02-26 13:12:11+00:00  5848    9   \n",
       "\n",
       "        activeTransitionCount           ecuModel ecuSerialNumber  \\\n",
       "0                           1  6X1u10D1500000000        79419774   \n",
       "1                           1  6X1u10D1500000000        79419774   \n",
       "2                           1  6X1u10D1500000000        79419774   \n",
       "3                           1  6X1u10D1500000000        79419775   \n",
       "4                           1  6X1u10D1500000000        79419775   \n",
       "...                       ...                ...             ...   \n",
       "200147                      2  6X1u13D1500000000        79756075   \n",
       "200148                      1  6X1u13D1500000000        79756075   \n",
       "200151                     43  6X1u13D1500000000        79751302   \n",
       "200152                     11  6X1u13D1500000000        79751302   \n",
       "200153                      1  6X1u13D1500000000        79751302   \n",
       "\n",
       "                                     ecuSoftwareVersion  \\\n",
       "0       04993120*00001782*082113134117*07700053*I0*BBZ*   \n",
       "1       04993120*00001782*082113134117*07700053*I0*BBZ*   \n",
       "2       04993120*00001782*082113134117*07700053*I0*BBZ*   \n",
       "3       04993120*00001524*040213150018*07700044*I0*BBZ*   \n",
       "4       04993120*00001524*040213150018*07700044*I0*BBZ*   \n",
       "...                                                 ...   \n",
       "200147  05317106*04133655*061416163421*09401361*G1*BDR*   \n",
       "200148  05317106*04133655*061416163421*09401361*G1*BDR*   \n",
       "200151  05317106*04119044*051914190353*09400015*G1*BDR*   \n",
       "200152  05317106*04119044*051914190353*09400015*G1*BDR*   \n",
       "200153  05317106*04119044*051914190353*09400015*G1*BDR*   \n",
       "\n",
       "                                        eventDescription  ...  \\\n",
       "0       Abnormal Update Rate Aftertreatment 1 Intake NOx  ...   \n",
       "1       Abnormal Update Rate Aftertreatment 1 Intake NOx  ...   \n",
       "2       Abnormal Update Rate Aftertreatment 1 Intake NOx  ...   \n",
       "3          Incorrect Data Aftertreatment Fuel Injector 1  ...   \n",
       "4              Low Voltage (Aftertreatment 1 Outlet NOx)  ...   \n",
       "...                                                  ...  ...   \n",
       "200147    High (Severity Medium) Water In Fuel Indicator  ...   \n",
       "200148                                               NaN  ...   \n",
       "200151            Low (Severity Low) Catalyst Tank Level  ...   \n",
       "200152         Low (Severity Medium) Catalyst Tank Level  ...   \n",
       "200153                                               NaN  ...   \n",
       "\n",
       "        spnfmi_6553531_y  spnfmi_8812116_y spnfmi_11486311_y  \\\n",
       "0                    0.0               0.0               0.0   \n",
       "1                    0.0               0.0               0.0   \n",
       "2                    0.0               0.0               0.0   \n",
       "3                    0.0               0.0               0.0   \n",
       "4                    0.0               0.0               0.0   \n",
       "...                  ...               ...               ...   \n",
       "200147               0.0               0.0               0.0   \n",
       "200148               0.0               0.0               0.0   \n",
       "200151               0.0               0.0               0.0   \n",
       "200152               0.0               0.0               0.0   \n",
       "200153               0.0               0.0               0.0   \n",
       "\n",
       "       spnfmi_19660829_y  spnfmi_33504023_y  spnfmi_52103214_y  \\\n",
       "0                    0.0                0.0                0.0   \n",
       "1                    0.0                0.0                0.0   \n",
       "2                    0.0                0.0                0.0   \n",
       "3                    0.0                0.0                0.0   \n",
       "4                    0.0                0.0                0.0   \n",
       "...                  ...                ...                ...   \n",
       "200147               0.0                0.0                0.0   \n",
       "200148               0.0                0.0                0.0   \n",
       "200151               0.0                0.0                0.0   \n",
       "200152               0.0                0.0                0.0   \n",
       "200153               0.0                0.0                0.0   \n",
       "\n",
       "        spnfmi_52428731_y                  flagtime        deltatime  \\\n",
       "0                     0.0                       NaT              NaT   \n",
       "1                     0.0                       NaT              NaT   \n",
       "2                     0.0                       NaT              NaT   \n",
       "3                     0.0                       NaT              NaT   \n",
       "4                     0.0                       NaT              NaT   \n",
       "...                   ...                       ...              ...   \n",
       "200147                0.0 2018-06-28 22:03:41+00:00 23 days 01:54:27   \n",
       "200148                0.0 2018-06-28 22:03:41+00:00  2 days 06:13:42   \n",
       "200151                0.0                       NaT              NaT   \n",
       "200152                0.0                       NaT              NaT   \n",
       "200153                0.0                       NaT              NaT   \n",
       "\n",
       "        targettime  \n",
       "0            False  \n",
       "1            False  \n",
       "2            False  \n",
       "3            False  \n",
       "4            False  \n",
       "...            ...  \n",
       "200147       False  \n",
       "200148       False  \n",
       "200151       False  \n",
       "200152       False  \n",
       "200153       False  \n",
       "\n",
       "[193679 rows x 414 columns]"
      ]
     },
     "execution_count": 35,
     "metadata": {},
     "output_type": "execute_result"
    }
   ],
   "source": [
    "merge_geo_codes"
   ]
  },
  {
   "cell_type": "code",
   "execution_count": null,
   "id": "southwest-california",
   "metadata": {},
   "outputs": [],
   "source": []
  },
  {
   "cell_type": "code",
   "execution_count": null,
   "id": "united-parts",
   "metadata": {},
   "outputs": [],
   "source": []
  },
  {
   "cell_type": "code",
   "execution_count": null,
   "id": "metallic-newman",
   "metadata": {},
   "outputs": [],
   "source": []
  },
  {
   "cell_type": "code",
   "execution_count": null,
   "id": "representative-mediterranean",
   "metadata": {},
   "outputs": [],
   "source": []
  },
  {
   "cell_type": "code",
   "execution_count": null,
   "id": "alpha-steam",
   "metadata": {},
   "outputs": [],
   "source": []
  },
  {
   "cell_type": "code",
   "execution_count": null,
   "id": "upper-attitude",
   "metadata": {},
   "outputs": [],
   "source": []
  },
  {
   "cell_type": "code",
   "execution_count": null,
   "id": "analyzed-silicon",
   "metadata": {},
   "outputs": [],
   "source": []
  },
  {
   "cell_type": "code",
   "execution_count": null,
   "id": "bottom-lexington",
   "metadata": {},
   "outputs": [],
   "source": []
  },
  {
   "cell_type": "code",
   "execution_count": null,
   "id": "frozen-softball",
   "metadata": {},
   "outputs": [],
   "source": []
  },
  {
   "cell_type": "code",
   "execution_count": null,
   "id": "spoken-water",
   "metadata": {},
   "outputs": [],
   "source": []
  },
  {
   "cell_type": "markdown",
   "id": "entire-assignment",
   "metadata": {},
   "source": [
    "# Create a modified version of a train test split"
   ]
  },
  {
   "cell_type": "code",
   "execution_count": 36,
   "id": "psychological-portal",
   "metadata": {},
   "outputs": [],
   "source": [
    "#A function that simulates a train test split that keeps time sequences for trucks together, but still allows individual trucks\n",
    "#to randomly be assigned to training and testing\n",
    "\n",
    "def train_test_brake (df):\n",
    "    df = df.sort_values('EventTimeStamp')\n",
    "    t_len = df.shape[0]\n",
    "    t_perc80 = int(t_len * 0.8)\n",
    "    df80 = df.iloc[0 : t_perc80, :]\n",
    "    df20 = df.iloc[t_perc80 : , :]\n",
    "    return(df80, df20) "
   ]
  },
  {
   "cell_type": "code",
   "execution_count": 37,
   "id": "theoretical-tutorial",
   "metadata": {},
   "outputs": [],
   "source": [
    "dataframe_80_20 = merge_geo_codes.groupby('EquipmentID').apply(train_test_brake)"
   ]
  },
  {
   "cell_type": "code",
   "execution_count": 38,
   "id": "engaging-incentive",
   "metadata": {},
   "outputs": [],
   "source": [
    "#Creates training dataset\n",
    "\n",
    "df80 = pd.concat([x[0] for x in dataframe_80_20])"
   ]
  },
  {
   "cell_type": "code",
   "execution_count": 39,
   "id": "upset-finding",
   "metadata": {},
   "outputs": [],
   "source": [
    "#Creates testing dataset\n",
    "\n",
    "df20 = pd.concat([x[1] for x in dataframe_80_20])"
   ]
  },
  {
   "cell_type": "markdown",
   "id": "dramatic-pride",
   "metadata": {},
   "source": [
    "# Logistic Regression"
   ]
  },
  {
   "cell_type": "code",
   "execution_count": 40,
   "id": "interesting-windows",
   "metadata": {},
   "outputs": [],
   "source": [
    "#predictors = df80.columns.tolist()\n",
    "bad_predictors = ['RecordID', 'EquipmentID', 'EventTimeStamp', \n",
    "                  'spn', 'fmi', 'ecuModel', 'activeTransitionCount',\n",
    "                  'ecuSerialNumber', 'ecuSoftwareVersion', \n",
    "                  'eventDescription', 'Latitude', 'Longitude', \n",
    "                  'EquipmentID_y', 'EventTimeStamp_y', 'spnfmi_156931_y', \n",
    "                  'flagtime', 'deltatime', 'targettime']"
   ]
  },
  {
   "cell_type": "code",
   "execution_count": 41,
   "id": "actual-mills",
   "metadata": {},
   "outputs": [],
   "source": [
    "#predictors.remove(bad_predictors)"
   ]
  },
  {
   "cell_type": "code",
   "execution_count": 42,
   "id": "editorial-liverpool",
   "metadata": {},
   "outputs": [],
   "source": [
    "predictors_train = df80.drop(bad_predictors, axis = 1)\n",
    "predictors_test = df20.drop(bad_predictors, axis = 1)"
   ]
  },
  {
   "cell_type": "code",
   "execution_count": 43,
   "id": "fatty-disposition",
   "metadata": {},
   "outputs": [
    {
     "data": {
      "text/html": [
       "<div>\n",
       "<style scoped>\n",
       "    .dataframe tbody tr th:only-of-type {\n",
       "        vertical-align: middle;\n",
       "    }\n",
       "\n",
       "    .dataframe tbody tr th {\n",
       "        vertical-align: top;\n",
       "    }\n",
       "\n",
       "    .dataframe thead th {\n",
       "        text-align: right;\n",
       "    }\n",
       "</style>\n",
       "<table border=\"1\" class=\"dataframe\">\n",
       "  <thead>\n",
       "    <tr style=\"text-align: right;\">\n",
       "      <th></th>\n",
       "      <th>spnfmi_272_y</th>\n",
       "      <th>spnfmi_274_y</th>\n",
       "      <th>spnfmi_389_y</th>\n",
       "      <th>spnfmi_512_y</th>\n",
       "      <th>spnfmi_513_y</th>\n",
       "      <th>spnfmi_842_y</th>\n",
       "      <th>spnfmi_849_y</th>\n",
       "      <th>spnfmi_912_y</th>\n",
       "      <th>spnfmi_914_y</th>\n",
       "      <th>spnfmi_918_y</th>\n",
       "      <th>...</th>\n",
       "      <th>spnfmi_5209534_y</th>\n",
       "      <th>spnfmi_6553518_y</th>\n",
       "      <th>spnfmi_6553520_y</th>\n",
       "      <th>spnfmi_6553531_y</th>\n",
       "      <th>spnfmi_8812116_y</th>\n",
       "      <th>spnfmi_11486311_y</th>\n",
       "      <th>spnfmi_19660829_y</th>\n",
       "      <th>spnfmi_33504023_y</th>\n",
       "      <th>spnfmi_52103214_y</th>\n",
       "      <th>spnfmi_52428731_y</th>\n",
       "    </tr>\n",
       "  </thead>\n",
       "  <tbody>\n",
       "    <tr>\n",
       "      <th>0</th>\n",
       "      <td>0.0</td>\n",
       "      <td>0.0</td>\n",
       "      <td>0.0</td>\n",
       "      <td>0.0</td>\n",
       "      <td>0.0</td>\n",
       "      <td>0.0</td>\n",
       "      <td>0.0</td>\n",
       "      <td>0.0</td>\n",
       "      <td>0.0</td>\n",
       "      <td>0.0</td>\n",
       "      <td>...</td>\n",
       "      <td>0.0</td>\n",
       "      <td>0.0</td>\n",
       "      <td>0.0</td>\n",
       "      <td>0.0</td>\n",
       "      <td>0.0</td>\n",
       "      <td>0.0</td>\n",
       "      <td>0.0</td>\n",
       "      <td>0.0</td>\n",
       "      <td>0.0</td>\n",
       "      <td>0.0</td>\n",
       "    </tr>\n",
       "    <tr>\n",
       "      <th>1</th>\n",
       "      <td>0.0</td>\n",
       "      <td>0.0</td>\n",
       "      <td>0.0</td>\n",
       "      <td>0.0</td>\n",
       "      <td>0.0</td>\n",
       "      <td>0.0</td>\n",
       "      <td>0.0</td>\n",
       "      <td>0.0</td>\n",
       "      <td>0.0</td>\n",
       "      <td>0.0</td>\n",
       "      <td>...</td>\n",
       "      <td>0.0</td>\n",
       "      <td>0.0</td>\n",
       "      <td>0.0</td>\n",
       "      <td>0.0</td>\n",
       "      <td>0.0</td>\n",
       "      <td>0.0</td>\n",
       "      <td>0.0</td>\n",
       "      <td>0.0</td>\n",
       "      <td>0.0</td>\n",
       "      <td>0.0</td>\n",
       "    </tr>\n",
       "    <tr>\n",
       "      <th>3</th>\n",
       "      <td>0.0</td>\n",
       "      <td>0.0</td>\n",
       "      <td>0.0</td>\n",
       "      <td>0.0</td>\n",
       "      <td>0.0</td>\n",
       "      <td>0.0</td>\n",
       "      <td>0.0</td>\n",
       "      <td>0.0</td>\n",
       "      <td>0.0</td>\n",
       "      <td>0.0</td>\n",
       "      <td>...</td>\n",
       "      <td>0.0</td>\n",
       "      <td>0.0</td>\n",
       "      <td>0.0</td>\n",
       "      <td>0.0</td>\n",
       "      <td>0.0</td>\n",
       "      <td>0.0</td>\n",
       "      <td>0.0</td>\n",
       "      <td>0.0</td>\n",
       "      <td>0.0</td>\n",
       "      <td>0.0</td>\n",
       "    </tr>\n",
       "    <tr>\n",
       "      <th>4</th>\n",
       "      <td>0.0</td>\n",
       "      <td>0.0</td>\n",
       "      <td>0.0</td>\n",
       "      <td>0.0</td>\n",
       "      <td>0.0</td>\n",
       "      <td>0.0</td>\n",
       "      <td>0.0</td>\n",
       "      <td>0.0</td>\n",
       "      <td>0.0</td>\n",
       "      <td>0.0</td>\n",
       "      <td>...</td>\n",
       "      <td>0.0</td>\n",
       "      <td>0.0</td>\n",
       "      <td>0.0</td>\n",
       "      <td>0.0</td>\n",
       "      <td>0.0</td>\n",
       "      <td>0.0</td>\n",
       "      <td>0.0</td>\n",
       "      <td>0.0</td>\n",
       "      <td>0.0</td>\n",
       "      <td>0.0</td>\n",
       "    </tr>\n",
       "    <tr>\n",
       "      <th>5</th>\n",
       "      <td>0.0</td>\n",
       "      <td>0.0</td>\n",
       "      <td>0.0</td>\n",
       "      <td>0.0</td>\n",
       "      <td>0.0</td>\n",
       "      <td>0.0</td>\n",
       "      <td>0.0</td>\n",
       "      <td>0.0</td>\n",
       "      <td>0.0</td>\n",
       "      <td>0.0</td>\n",
       "      <td>...</td>\n",
       "      <td>0.0</td>\n",
       "      <td>0.0</td>\n",
       "      <td>0.0</td>\n",
       "      <td>0.0</td>\n",
       "      <td>0.0</td>\n",
       "      <td>0.0</td>\n",
       "      <td>0.0</td>\n",
       "      <td>0.0</td>\n",
       "      <td>0.0</td>\n",
       "      <td>0.0</td>\n",
       "    </tr>\n",
       "    <tr>\n",
       "      <th>...</th>\n",
       "      <td>...</td>\n",
       "      <td>...</td>\n",
       "      <td>...</td>\n",
       "      <td>...</td>\n",
       "      <td>...</td>\n",
       "      <td>...</td>\n",
       "      <td>...</td>\n",
       "      <td>...</td>\n",
       "      <td>...</td>\n",
       "      <td>...</td>\n",
       "      <td>...</td>\n",
       "      <td>...</td>\n",
       "      <td>...</td>\n",
       "      <td>...</td>\n",
       "      <td>...</td>\n",
       "      <td>...</td>\n",
       "      <td>...</td>\n",
       "      <td>...</td>\n",
       "      <td>...</td>\n",
       "      <td>...</td>\n",
       "      <td>...</td>\n",
       "    </tr>\n",
       "    <tr>\n",
       "      <th>200134</th>\n",
       "      <td>0.0</td>\n",
       "      <td>0.0</td>\n",
       "      <td>0.0</td>\n",
       "      <td>0.0</td>\n",
       "      <td>0.0</td>\n",
       "      <td>0.0</td>\n",
       "      <td>0.0</td>\n",
       "      <td>0.0</td>\n",
       "      <td>0.0</td>\n",
       "      <td>0.0</td>\n",
       "      <td>...</td>\n",
       "      <td>0.0</td>\n",
       "      <td>0.0</td>\n",
       "      <td>0.0</td>\n",
       "      <td>0.0</td>\n",
       "      <td>0.0</td>\n",
       "      <td>0.0</td>\n",
       "      <td>0.0</td>\n",
       "      <td>0.0</td>\n",
       "      <td>0.0</td>\n",
       "      <td>0.0</td>\n",
       "    </tr>\n",
       "    <tr>\n",
       "      <th>200135</th>\n",
       "      <td>0.0</td>\n",
       "      <td>0.0</td>\n",
       "      <td>0.0</td>\n",
       "      <td>0.0</td>\n",
       "      <td>0.0</td>\n",
       "      <td>0.0</td>\n",
       "      <td>0.0</td>\n",
       "      <td>0.0</td>\n",
       "      <td>0.0</td>\n",
       "      <td>0.0</td>\n",
       "      <td>...</td>\n",
       "      <td>0.0</td>\n",
       "      <td>0.0</td>\n",
       "      <td>0.0</td>\n",
       "      <td>0.0</td>\n",
       "      <td>0.0</td>\n",
       "      <td>0.0</td>\n",
       "      <td>0.0</td>\n",
       "      <td>0.0</td>\n",
       "      <td>0.0</td>\n",
       "      <td>0.0</td>\n",
       "    </tr>\n",
       "    <tr>\n",
       "      <th>200136</th>\n",
       "      <td>0.0</td>\n",
       "      <td>0.0</td>\n",
       "      <td>0.0</td>\n",
       "      <td>0.0</td>\n",
       "      <td>0.0</td>\n",
       "      <td>0.0</td>\n",
       "      <td>0.0</td>\n",
       "      <td>0.0</td>\n",
       "      <td>0.0</td>\n",
       "      <td>0.0</td>\n",
       "      <td>...</td>\n",
       "      <td>0.0</td>\n",
       "      <td>0.0</td>\n",
       "      <td>0.0</td>\n",
       "      <td>0.0</td>\n",
       "      <td>0.0</td>\n",
       "      <td>0.0</td>\n",
       "      <td>0.0</td>\n",
       "      <td>0.0</td>\n",
       "      <td>0.0</td>\n",
       "      <td>0.0</td>\n",
       "    </tr>\n",
       "    <tr>\n",
       "      <th>200151</th>\n",
       "      <td>0.0</td>\n",
       "      <td>0.0</td>\n",
       "      <td>0.0</td>\n",
       "      <td>0.0</td>\n",
       "      <td>0.0</td>\n",
       "      <td>0.0</td>\n",
       "      <td>0.0</td>\n",
       "      <td>0.0</td>\n",
       "      <td>0.0</td>\n",
       "      <td>0.0</td>\n",
       "      <td>...</td>\n",
       "      <td>0.0</td>\n",
       "      <td>0.0</td>\n",
       "      <td>0.0</td>\n",
       "      <td>0.0</td>\n",
       "      <td>0.0</td>\n",
       "      <td>0.0</td>\n",
       "      <td>0.0</td>\n",
       "      <td>0.0</td>\n",
       "      <td>0.0</td>\n",
       "      <td>0.0</td>\n",
       "    </tr>\n",
       "    <tr>\n",
       "      <th>200152</th>\n",
       "      <td>0.0</td>\n",
       "      <td>0.0</td>\n",
       "      <td>0.0</td>\n",
       "      <td>0.0</td>\n",
       "      <td>0.0</td>\n",
       "      <td>0.0</td>\n",
       "      <td>0.0</td>\n",
       "      <td>0.0</td>\n",
       "      <td>0.0</td>\n",
       "      <td>0.0</td>\n",
       "      <td>...</td>\n",
       "      <td>0.0</td>\n",
       "      <td>0.0</td>\n",
       "      <td>0.0</td>\n",
       "      <td>0.0</td>\n",
       "      <td>0.0</td>\n",
       "      <td>0.0</td>\n",
       "      <td>0.0</td>\n",
       "      <td>0.0</td>\n",
       "      <td>0.0</td>\n",
       "      <td>0.0</td>\n",
       "    </tr>\n",
       "  </tbody>\n",
       "</table>\n",
       "<p>154556 rows × 396 columns</p>\n",
       "</div>"
      ],
      "text/plain": [
       "        spnfmi_272_y  spnfmi_274_y  spnfmi_389_y  spnfmi_512_y  spnfmi_513_y  \\\n",
       "0                0.0           0.0           0.0           0.0           0.0   \n",
       "1                0.0           0.0           0.0           0.0           0.0   \n",
       "3                0.0           0.0           0.0           0.0           0.0   \n",
       "4                0.0           0.0           0.0           0.0           0.0   \n",
       "5                0.0           0.0           0.0           0.0           0.0   \n",
       "...              ...           ...           ...           ...           ...   \n",
       "200134           0.0           0.0           0.0           0.0           0.0   \n",
       "200135           0.0           0.0           0.0           0.0           0.0   \n",
       "200136           0.0           0.0           0.0           0.0           0.0   \n",
       "200151           0.0           0.0           0.0           0.0           0.0   \n",
       "200152           0.0           0.0           0.0           0.0           0.0   \n",
       "\n",
       "        spnfmi_842_y  spnfmi_849_y  spnfmi_912_y  spnfmi_914_y  spnfmi_918_y  \\\n",
       "0                0.0           0.0           0.0           0.0           0.0   \n",
       "1                0.0           0.0           0.0           0.0           0.0   \n",
       "3                0.0           0.0           0.0           0.0           0.0   \n",
       "4                0.0           0.0           0.0           0.0           0.0   \n",
       "5                0.0           0.0           0.0           0.0           0.0   \n",
       "...              ...           ...           ...           ...           ...   \n",
       "200134           0.0           0.0           0.0           0.0           0.0   \n",
       "200135           0.0           0.0           0.0           0.0           0.0   \n",
       "200136           0.0           0.0           0.0           0.0           0.0   \n",
       "200151           0.0           0.0           0.0           0.0           0.0   \n",
       "200152           0.0           0.0           0.0           0.0           0.0   \n",
       "\n",
       "        ...  spnfmi_5209534_y  spnfmi_6553518_y  spnfmi_6553520_y  \\\n",
       "0       ...               0.0               0.0               0.0   \n",
       "1       ...               0.0               0.0               0.0   \n",
       "3       ...               0.0               0.0               0.0   \n",
       "4       ...               0.0               0.0               0.0   \n",
       "5       ...               0.0               0.0               0.0   \n",
       "...     ...               ...               ...               ...   \n",
       "200134  ...               0.0               0.0               0.0   \n",
       "200135  ...               0.0               0.0               0.0   \n",
       "200136  ...               0.0               0.0               0.0   \n",
       "200151  ...               0.0               0.0               0.0   \n",
       "200152  ...               0.0               0.0               0.0   \n",
       "\n",
       "        spnfmi_6553531_y  spnfmi_8812116_y  spnfmi_11486311_y  \\\n",
       "0                    0.0               0.0                0.0   \n",
       "1                    0.0               0.0                0.0   \n",
       "3                    0.0               0.0                0.0   \n",
       "4                    0.0               0.0                0.0   \n",
       "5                    0.0               0.0                0.0   \n",
       "...                  ...               ...                ...   \n",
       "200134               0.0               0.0                0.0   \n",
       "200135               0.0               0.0                0.0   \n",
       "200136               0.0               0.0                0.0   \n",
       "200151               0.0               0.0                0.0   \n",
       "200152               0.0               0.0                0.0   \n",
       "\n",
       "        spnfmi_19660829_y  spnfmi_33504023_y  spnfmi_52103214_y  \\\n",
       "0                     0.0                0.0                0.0   \n",
       "1                     0.0                0.0                0.0   \n",
       "3                     0.0                0.0                0.0   \n",
       "4                     0.0                0.0                0.0   \n",
       "5                     0.0                0.0                0.0   \n",
       "...                   ...                ...                ...   \n",
       "200134                0.0                0.0                0.0   \n",
       "200135                0.0                0.0                0.0   \n",
       "200136                0.0                0.0                0.0   \n",
       "200151                0.0                0.0                0.0   \n",
       "200152                0.0                0.0                0.0   \n",
       "\n",
       "        spnfmi_52428731_y  \n",
       "0                     0.0  \n",
       "1                     0.0  \n",
       "3                     0.0  \n",
       "4                     0.0  \n",
       "5                     0.0  \n",
       "...                   ...  \n",
       "200134                0.0  \n",
       "200135                0.0  \n",
       "200136                0.0  \n",
       "200151                0.0  \n",
       "200152                0.0  \n",
       "\n",
       "[154556 rows x 396 columns]"
      ]
     },
     "execution_count": 43,
     "metadata": {},
     "output_type": "execute_result"
    }
   ],
   "source": [
    "#df20 = df20.drop(bad_predictors, axis = 1)\n",
    "\n",
    "predictors_train"
   ]
  },
  {
   "cell_type": "code",
   "execution_count": 44,
   "id": "friendly-modern",
   "metadata": {},
   "outputs": [],
   "source": [
    "# Predictors\n",
    "X_train = predictors_train\n",
    "\n",
    "X_test = predictors_test\n",
    "\n",
    "# Target\n",
    "y_train = df80.targettime\n",
    "\n",
    "y_test = df20.targettime"
   ]
  },
  {
   "cell_type": "code",
   "execution_count": 45,
   "id": "starting-enclosure",
   "metadata": {},
   "outputs": [
    {
     "name": "stderr",
     "output_type": "stream",
     "text": [
      "C:\\Users\\alvin\\anaconda3\\lib\\site-packages\\sklearn\\linear_model\\_logistic.py:763: ConvergenceWarning: lbfgs failed to converge (status=1):\n",
      "STOP: TOTAL NO. of ITERATIONS REACHED LIMIT.\n",
      "\n",
      "Increase the number of iterations (max_iter) or scale the data as shown in:\n",
      "    https://scikit-learn.org/stable/modules/preprocessing.html\n",
      "Please also refer to the documentation for alternative solver options:\n",
      "    https://scikit-learn.org/stable/modules/linear_model.html#logistic-regression\n",
      "  n_iter_i = _check_optimize_result(\n"
     ]
    }
   ],
   "source": [
    "logreg = LogisticRegression().fit(X_train, y_train)"
   ]
  },
  {
   "cell_type": "code",
   "execution_count": 46,
   "id": "green-machine",
   "metadata": {},
   "outputs": [],
   "source": [
    "lr_weights = LogisticRegression(class_weight = {0:1, 1:12})"
   ]
  },
  {
   "cell_type": "code",
   "execution_count": 47,
   "id": "empty-quest",
   "metadata": {},
   "outputs": [
    {
     "name": "stderr",
     "output_type": "stream",
     "text": [
      "C:\\Users\\alvin\\anaconda3\\lib\\site-packages\\sklearn\\linear_model\\_logistic.py:763: ConvergenceWarning: lbfgs failed to converge (status=1):\n",
      "STOP: TOTAL NO. of ITERATIONS REACHED LIMIT.\n",
      "\n",
      "Increase the number of iterations (max_iter) or scale the data as shown in:\n",
      "    https://scikit-learn.org/stable/modules/preprocessing.html\n",
      "Please also refer to the documentation for alternative solver options:\n",
      "    https://scikit-learn.org/stable/modules/linear_model.html#logistic-regression\n",
      "  n_iter_i = _check_optimize_result(\n"
     ]
    },
    {
     "data": {
      "text/plain": [
       "LogisticRegression(class_weight={0: 1, 1: 12})"
      ]
     },
     "execution_count": 47,
     "metadata": {},
     "output_type": "execute_result"
    }
   ],
   "source": [
    "lr_weights.fit(X_train, y_train)"
   ]
  },
  {
   "cell_type": "code",
   "execution_count": 48,
   "id": "legitimate-image",
   "metadata": {},
   "outputs": [],
   "source": [
    "y_pred = lr_weights.predict(X_test)"
   ]
  },
  {
   "cell_type": "code",
   "execution_count": 49,
   "id": "located-drain",
   "metadata": {},
   "outputs": [
    {
     "data": {
      "text/plain": [
       "0.9652634000460087"
      ]
     },
     "execution_count": 49,
     "metadata": {},
     "output_type": "execute_result"
    }
   ],
   "source": [
    "accuracy_score(y_test, y_pred)"
   ]
  },
  {
   "cell_type": "code",
   "execution_count": null,
   "id": "afraid-horizontal",
   "metadata": {},
   "outputs": [],
   "source": []
  },
  {
   "cell_type": "code",
   "execution_count": null,
   "id": "revised-milton",
   "metadata": {},
   "outputs": [],
   "source": []
  },
  {
   "cell_type": "code",
   "execution_count": 50,
   "id": "fixed-census",
   "metadata": {},
   "outputs": [
    {
     "data": {
      "text/plain": [
       "array([[ 1.08256136e-01,  1.67139119e-01,  0.00000000e+00,\n",
       "        -3.41066747e-02, -5.56023274e-03, -5.48171864e-02,\n",
       "        -1.51015432e-01,  3.70329293e-01, -3.37400325e-01,\n",
       "        -7.21091233e-02, -8.07539692e-02, -2.27614348e-01,\n",
       "        -2.03951029e-01, -1.20647678e-02, -1.72795063e-02,\n",
       "        -5.79488049e-03, -2.02936364e-02, -2.21549958e-02,\n",
       "        -7.90909097e-02, -3.89607950e-02,  3.66505707e-01,\n",
       "        -4.11224252e-02, -2.15803203e-01,  1.81906276e-01,\n",
       "        -7.98675316e-03, -7.66100985e-02, -3.25766247e-03,\n",
       "        -4.99031312e-03, -1.09633988e-01, -2.15233252e-02,\n",
       "        -1.54537474e-02, -1.41034446e-01, -2.49108108e-02,\n",
       "        -5.40120518e-02, -1.79918422e-01, -1.10367203e-01,\n",
       "        -1.97256516e-01, -1.45192130e-02,  3.26828365e-01,\n",
       "        -5.71314008e-02, -2.09984278e-01,  6.93189335e-02,\n",
       "        -4.58885631e-02, -4.18561289e-02, -2.29219400e-02,\n",
       "         1.43218348e-02, -3.13257785e-02,  2.54500272e-02,\n",
       "        -9.25920569e-02, -1.89126863e-03, -5.18096138e-02,\n",
       "        -2.40401111e-02, -8.60221699e-02, -8.62456942e-02,\n",
       "        -7.50974063e-02, -2.24591953e-01,  1.05819390e-02,\n",
       "        -1.24713159e-01,  3.85011174e-01,  1.31503549e-01,\n",
       "         1.56983608e-01,  2.37614355e-03,  2.19884166e-01,\n",
       "        -2.55590480e-02, -1.04592927e-01, -2.28629736e-02,\n",
       "         4.67940936e-01, -7.61435884e-03, -4.67380586e-01,\n",
       "        -4.79370240e-02, -1.31933545e-01, -4.91897815e-02,\n",
       "        -2.24998960e-01, -7.24245954e-04,  6.82851973e-03,\n",
       "        -5.43534833e-02, -1.96539517e-02, -3.70031750e-02,\n",
       "        -6.28702320e-03, -7.65467119e-04, -1.32122783e-02,\n",
       "        -7.86231292e-03, -6.32060829e-02, -5.53604667e-02,\n",
       "         0.00000000e+00, -6.09715019e-02, -1.32597908e-02,\n",
       "        -1.79215755e-01, -3.82083051e-03, -2.22589363e-01,\n",
       "        -4.49036055e-01,  9.39226763e-03, -5.68424691e-02,\n",
       "        -5.00040963e-02,  2.98064212e-02, -6.61619240e-03,\n",
       "        -6.08698689e-04, -2.83348754e-01,  6.65962722e-02,\n",
       "        -2.02450329e-02, -1.16612196e-02, -1.90353179e-02,\n",
       "        -6.62831898e-01, -2.97440566e-01, -1.84863485e-02,\n",
       "        -1.49854902e-01, -1.01099543e-03,  2.66885232e-02,\n",
       "        -7.65862184e-04, -7.10374389e-02,  1.37314677e-01,\n",
       "        -2.27905510e-02,  1.92973085e-01, -9.14457515e-03,\n",
       "        -1.17427601e-02, -7.55956949e-04, -2.89930842e-01,\n",
       "        -4.47507995e-02, -8.51693063e-02, -4.61553364e-03,\n",
       "        -4.93217213e-01, -9.33657391e-02, -2.66756147e-02,\n",
       "        -8.60196546e-02, -1.17573355e-01, -8.91384827e-01,\n",
       "        -1.57202045e-02, -1.02967658e-01, -9.18706028e-03,\n",
       "        -3.05728302e-02, -1.53113175e-03, -4.06007206e-02,\n",
       "        -1.49176709e-02, -3.28195664e-01,  1.60200406e-01,\n",
       "        -1.24101625e-01,  0.00000000e+00, -1.96128301e-02,\n",
       "        -1.57599226e-01, -1.97362176e-02,  8.72995281e-01,\n",
       "        -1.42259901e-01,  2.51528095e-01,  1.19561127e-01,\n",
       "        -5.63300995e-01, -1.84076784e-03, -8.03772920e-04,\n",
       "        -1.89976195e-01, -6.01505691e-01, -5.82003044e-01,\n",
       "         6.21129244e-02, -1.77588833e-02, -1.45003991e-02,\n",
       "        -5.42031841e-02, -1.74259890e-02, -1.68666677e-01,\n",
       "         0.00000000e+00, -9.21573551e-02,  5.22425871e-01,\n",
       "        -7.98979393e-04,  2.48701468e-01, -8.78921059e-03,\n",
       "         3.75629647e-01, -5.08190937e-03, -3.54502536e-02,\n",
       "        -2.72999993e-01,  1.78549289e-01, -9.56838335e-03,\n",
       "        -1.87350294e-01, -9.97484860e-04,  1.32432602e-01,\n",
       "        -7.65862184e-04, -1.66905249e-01, -1.55335831e-01,\n",
       "        -2.94827901e-01,  1.09168393e-01, -8.95326595e-03,\n",
       "        -7.65413246e-04, -3.04197841e-01,  1.05812204e-01,\n",
       "        -2.55838532e-02,  1.47902698e-01, -3.63006269e-01,\n",
       "        -1.83338021e-03,  1.86703871e-02, -1.91458725e-01,\n",
       "         6.65727345e-01, -3.46829113e-03, -1.51496533e-03,\n",
       "         2.80768461e-02,  1.21268067e-01, -1.01166282e-01,\n",
       "        -8.20028437e-02, -1.26082778e-02,  1.01609768e-01,\n",
       "        -1.59815717e-03,  2.62643175e-02,  0.00000000e+00,\n",
       "        -2.52948797e-03, -7.12263253e-03, -1.76320149e-01,\n",
       "        -2.74458988e-02, -2.78987419e-01,  2.59521623e-02,\n",
       "         2.71363395e-02, -4.87934058e-03,  5.43250990e-01,\n",
       "        -2.10317906e-03, -1.02218019e-03,  1.65486788e-01,\n",
       "         1.78930018e-01,  0.00000000e+00, -1.32261816e-01,\n",
       "        -1.39536012e-02, -2.09987781e-02, -8.72960566e-02,\n",
       "        -1.42687575e-01,  3.68647230e-01, -2.26753708e-03,\n",
       "        -1.69484025e-01,  1.01087192e-01, -6.03048865e-03,\n",
       "        -6.69615192e-04, -2.50215294e-01,  3.36011501e-02,\n",
       "        -6.42054574e-02, -3.54669996e-02,  8.03058231e-03,\n",
       "        -4.27315562e-01, -2.29721955e-02, -9.07076441e-03,\n",
       "        -1.57786234e-01, -4.94788140e-01,  0.00000000e+00,\n",
       "        -3.42657406e-02, -9.56158272e-01, -4.55546298e-02,\n",
       "         1.11241832e-02,  1.89342779e-01,  2.43535370e-03,\n",
       "        -5.22671763e-04, -8.77340806e-02,  5.96679957e-02,\n",
       "         0.00000000e+00, -2.98135874e-03, -4.19893084e-02,\n",
       "        -4.54319014e-02, -6.46231715e-02, -2.20041246e-02,\n",
       "        -4.61235398e-02,  1.00822801e+00,  3.01250779e-02,\n",
       "         1.03154047e-01, -3.33506524e-01, -6.10539576e-03,\n",
       "        -2.30053183e-01,  2.28888924e-01, -1.68787668e-01,\n",
       "         2.08437113e-01, -1.63404856e-03,  0.00000000e+00,\n",
       "        -1.21246867e-02,  0.00000000e+00, -5.74872567e-02,\n",
       "        -2.46873745e-01, -3.59551324e-03,  9.35330752e-02,\n",
       "        -1.51176028e-01, -1.36367976e-02,  2.51586123e-01,\n",
       "        -4.90507583e-02, -5.55965778e-02, -1.07364704e-02,\n",
       "        -5.55321825e-04, -8.68085820e-03,  0.00000000e+00,\n",
       "        -4.42139955e-02,  1.06850526e-01, -5.01316711e-03,\n",
       "        -5.33823426e-03, -3.35749663e-02, -2.78330440e-01,\n",
       "        -3.77267180e-02, -1.52896302e-03, -3.15292794e-02,\n",
       "        -3.29770891e-02, -7.65862184e-04, -1.72597273e-03,\n",
       "        -3.82378709e-03, -2.93486741e-03,  0.00000000e+00,\n",
       "        -1.52896302e-03, -6.33533634e-02, -1.09266478e-03,\n",
       "         6.45389549e-02,  5.96116770e-01, -5.20061656e-01,\n",
       "        -2.28814988e-03, -1.28419826e-01, -8.88819589e-02,\n",
       "        -7.21769042e-03,  6.65422417e-01, -5.77636237e-02,\n",
       "         2.18116975e-01,  0.00000000e+00, -2.90728466e-01,\n",
       "         8.90233645e-02, -3.58218326e-01,  5.18672498e-02,\n",
       "         0.00000000e+00,  1.07609037e-01, -8.88864833e-03,\n",
       "         0.00000000e+00, -1.99082857e-02, -1.61014398e-02,\n",
       "        -1.11104937e-02, -6.30774472e-04, -9.26752412e-02,\n",
       "         1.07311535e-01,  0.00000000e+00, -5.61300125e-03,\n",
       "         3.44728705e-02,  7.28066477e-02, -5.53516889e-02,\n",
       "         1.33749131e+00,  1.59267349e-01, -7.54570606e-03,\n",
       "         1.49206381e-01, -2.00726801e-03, -7.49982565e-03,\n",
       "        -3.77412761e-03, -1.52962773e-03, -5.89746179e-01,\n",
       "        -1.10981399e-01, -1.20784446e-01, -2.67619647e-01,\n",
       "        -3.83988826e-02,  1.40468079e-01, -1.66570000e-03,\n",
       "         7.84159352e-01, -6.30614858e-02, -4.57597677e-03,\n",
       "        -1.91576880e-03,  1.33171295e-02,  9.57786175e-02,\n",
       "         0.00000000e+00, -1.04150269e-02,  0.00000000e+00,\n",
       "        -7.46532277e-03, -2.59832081e-02, -4.06020382e-02,\n",
       "        -3.83882252e-03,  0.00000000e+00, -1.89537896e-03,\n",
       "        -1.27655678e-02,  4.04148030e-01, -1.28053409e-02,\n",
       "        -1.38741607e-01, -3.47205992e-01,  1.26442731e-01,\n",
       "        -1.81896784e-02, -3.25213988e-02, -9.79902230e-02,\n",
       "        -1.64026067e-02, -1.77451054e-03, -2.52752766e-01,\n",
       "         1.14842637e-01, -7.97905728e-03, -1.81212266e-02,\n",
       "        -3.79791589e-02, -9.32743873e-03, -5.34999682e-03,\n",
       "        -6.27636280e-02, -5.73731503e-03, -2.91290931e-02,\n",
       "        -6.28963193e-03, -7.68571728e-03, -1.36206830e-02,\n",
       "         0.00000000e+00, -4.94155847e-03, -4.01694034e-03,\n",
       "        -2.09583684e-02, -1.95314757e-02,  7.50760627e-02,\n",
       "        -4.70203397e-02, -2.34761612e-03, -1.01629785e-01,\n",
       "        -1.09281366e-02, -4.82896838e-03,  0.00000000e+00,\n",
       "        -3.11603861e-03,  0.00000000e+00, -1.38520541e-02,\n",
       "         0.00000000e+00, -4.14456561e-03, -5.62936417e-02]])"
      ]
     },
     "execution_count": 50,
     "metadata": {},
     "output_type": "execute_result"
    }
   ],
   "source": [
    "logreg.coef_"
   ]
  },
  {
   "cell_type": "code",
   "execution_count": 51,
   "id": "postal-wilderness",
   "metadata": {},
   "outputs": [
    {
     "data": {
      "text/plain": [
       "array([-4.3976472])"
      ]
     },
     "execution_count": 51,
     "metadata": {},
     "output_type": "execute_result"
    }
   ],
   "source": [
    "logreg.intercept_"
   ]
  },
  {
   "cell_type": "code",
   "execution_count": 52,
   "id": "happy-apparel",
   "metadata": {},
   "outputs": [],
   "source": [
    "y_pred = logreg.predict(X_test)"
   ]
  },
  {
   "cell_type": "code",
   "execution_count": 53,
   "id": "diagnostic-enhancement",
   "metadata": {},
   "outputs": [
    {
     "data": {
      "text/plain": [
       "array([False, False, False, ..., False, False, False])"
      ]
     },
     "execution_count": 53,
     "metadata": {},
     "output_type": "execute_result"
    }
   ],
   "source": [
    "y_pred"
   ]
  },
  {
   "cell_type": "code",
   "execution_count": 54,
   "id": "empty-civilization",
   "metadata": {},
   "outputs": [
    {
     "data": {
      "text/plain": [
       "array([[0.98268923, 0.01731077],\n",
       "       [0.99090564, 0.00909436],\n",
       "       [0.98717171, 0.01282829],\n",
       "       ...,\n",
       "       [0.98655744, 0.01344256],\n",
       "       [0.98534636, 0.01465364],\n",
       "       [0.98890803, 0.01109197]])"
      ]
     },
     "execution_count": 54,
     "metadata": {},
     "output_type": "execute_result"
    }
   ],
   "source": [
    "logreg.predict_proba(X_test)"
   ]
  },
  {
   "cell_type": "code",
   "execution_count": 55,
   "id": "painted-payment",
   "metadata": {},
   "outputs": [
    {
     "data": {
      "text/plain": [
       "array([[38489,    15],\n",
       "       [  618,     1]], dtype=int64)"
      ]
     },
     "execution_count": 55,
     "metadata": {},
     "output_type": "execute_result"
    }
   ],
   "source": [
    "confusion_matrix(y_test, y_pred)"
   ]
  },
  {
   "cell_type": "code",
   "execution_count": null,
   "id": "occasional-newman",
   "metadata": {},
   "outputs": [],
   "source": []
  },
  {
   "cell_type": "code",
   "execution_count": null,
   "id": "included-powder",
   "metadata": {},
   "outputs": [],
   "source": []
  },
  {
   "cell_type": "code",
   "execution_count": 56,
   "id": "bound-printing",
   "metadata": {},
   "outputs": [
    {
     "name": "stderr",
     "output_type": "stream",
     "text": [
      "C:\\Users\\alvin\\Documents\\nss_projects\\big_g_express-big_shot\\cm.py:12: MatplotlibDeprecationWarning: The 's' parameter of annotate() has been renamed 'text' since Matplotlib 3.3; support for the old name will be dropped two minor releases later.\n",
      "  plt.annotate(s = labels[0], xy = (0.5, 2.05), va = 'bottom', ha = 'center', fontsize = fontsize)\n",
      "C:\\Users\\alvin\\Documents\\nss_projects\\big_g_express-big_shot\\cm.py:13: MatplotlibDeprecationWarning: The 's' parameter of annotate() has been renamed 'text' since Matplotlib 3.3; support for the old name will be dropped two minor releases later.\n",
      "  plt.annotate(s = labels[1], xy = (1.5, 2.05), va = 'bottom', ha = 'center', fontsize = fontsize)\n",
      "C:\\Users\\alvin\\Documents\\nss_projects\\big_g_express-big_shot\\cm.py:14: MatplotlibDeprecationWarning: The 's' parameter of annotate() has been renamed 'text' since Matplotlib 3.3; support for the old name will be dropped two minor releases later.\n",
      "  plt.annotate(s = labels[0], xy = (-0.05, 1.5), va = 'center', ha = 'right', fontsize = fontsize, rotation = 90)\n",
      "C:\\Users\\alvin\\Documents\\nss_projects\\big_g_express-big_shot\\cm.py:15: MatplotlibDeprecationWarning: The 's' parameter of annotate() has been renamed 'text' since Matplotlib 3.3; support for the old name will be dropped two minor releases later.\n",
      "  plt.annotate(s = labels[1], xy = (-0.05, 0.5), va = 'center', ha = 'right', fontsize = fontsize, rotation = 90)\n",
      "C:\\Users\\alvin\\Documents\\nss_projects\\big_g_express-big_shot\\cm.py:17: MatplotlibDeprecationWarning: The 's' parameter of annotate() has been renamed 'text' since Matplotlib 3.3; support for the old name will be dropped two minor releases later.\n",
      "  plt.annotate(s = 'Predicted', xy = (1, 2.25), va = 'bottom', ha = 'center', fontsize = fontsize + 2, fontweight = 'bold')\n",
      "C:\\Users\\alvin\\Documents\\nss_projects\\big_g_express-big_shot\\cm.py:18: MatplotlibDeprecationWarning: The 's' parameter of annotate() has been renamed 'text' since Matplotlib 3.3; support for the old name will be dropped two minor releases later.\n",
      "  plt.annotate(s = 'Actual', xy = (-0.25, 1), va = 'center', ha = 'right', fontsize = fontsize + 2, fontweight = 'bold', rotation = 90)\n",
      "C:\\Users\\alvin\\Documents\\nss_projects\\big_g_express-big_shot\\cm.py:24: MatplotlibDeprecationWarning: The 's' parameter of annotate() has been renamed 'text' since Matplotlib 3.3; support for the old name will be dropped two minor releases later.\n",
      "  plt.annotate(s = cm[j][i], xy = (0.5 + i, 1.5 - j), fontsize = fontsize + 4, ha = 'center', va = 'center')\n",
      "C:\\Users\\alvin\\Documents\\nss_projects\\big_g_express-big_shot\\cm.py:36: MatplotlibDeprecationWarning: The 's' parameter of annotate() has been renamed 'text' since Matplotlib 3.3; support for the old name will be dropped two minor releases later.\n",
      "  plt.annotate(s = 'Accuracy: {}'.format(round((cm[0][0] + cm[1][1]) / cm.sum(),3)),\n"
     ]
    },
    {
     "data": {
      "image/png": "[encoded data removed]",
      "text/plain": [
       "<Figure size 432x432 with 1 Axes>"
      ]
     },
     "metadata": {
      "needs_background": "light"
     },
     "output_type": "display_data"
    }
   ],
   "source": [
    "plot_confusion_matrix(y_test, y_pred, labels = ['0', '1'], metric = 'accuracy')"
   ]
  },
  {
   "cell_type": "code",
   "execution_count": 57,
   "id": "herbal-trauma",
   "metadata": {},
   "outputs": [
    {
     "name": "stderr",
     "output_type": "stream",
     "text": [
      "C:\\Users\\alvin\\Documents\\nss_projects\\big_g_express-big_shot\\cm.py:12: MatplotlibDeprecationWarning: The 's' parameter of annotate() has been renamed 'text' since Matplotlib 3.3; support for the old name will be dropped two minor releases later.\n",
      "  plt.annotate(s = labels[0], xy = (0.5, 2.05), va = 'bottom', ha = 'center', fontsize = fontsize)\n",
      "C:\\Users\\alvin\\Documents\\nss_projects\\big_g_express-big_shot\\cm.py:13: MatplotlibDeprecationWarning: The 's' parameter of annotate() has been renamed 'text' since Matplotlib 3.3; support for the old name will be dropped two minor releases later.\n",
      "  plt.annotate(s = labels[1], xy = (1.5, 2.05), va = 'bottom', ha = 'center', fontsize = fontsize)\n",
      "C:\\Users\\alvin\\Documents\\nss_projects\\big_g_express-big_shot\\cm.py:14: MatplotlibDeprecationWarning: The 's' parameter of annotate() has been renamed 'text' since Matplotlib 3.3; support for the old name will be dropped two minor releases later.\n",
      "  plt.annotate(s = labels[0], xy = (-0.05, 1.5), va = 'center', ha = 'right', fontsize = fontsize, rotation = 90)\n",
      "C:\\Users\\alvin\\Documents\\nss_projects\\big_g_express-big_shot\\cm.py:15: MatplotlibDeprecationWarning: The 's' parameter of annotate() has been renamed 'text' since Matplotlib 3.3; support for the old name will be dropped two minor releases later.\n",
      "  plt.annotate(s = labels[1], xy = (-0.05, 0.5), va = 'center', ha = 'right', fontsize = fontsize, rotation = 90)\n",
      "C:\\Users\\alvin\\Documents\\nss_projects\\big_g_express-big_shot\\cm.py:17: MatplotlibDeprecationWarning: The 's' parameter of annotate() has been renamed 'text' since Matplotlib 3.3; support for the old name will be dropped two minor releases later.\n",
      "  plt.annotate(s = 'Predicted', xy = (1, 2.25), va = 'bottom', ha = 'center', fontsize = fontsize + 2, fontweight = 'bold')\n",
      "C:\\Users\\alvin\\Documents\\nss_projects\\big_g_express-big_shot\\cm.py:18: MatplotlibDeprecationWarning: The 's' parameter of annotate() has been renamed 'text' since Matplotlib 3.3; support for the old name will be dropped two minor releases later.\n",
      "  plt.annotate(s = 'Actual', xy = (-0.25, 1), va = 'center', ha = 'right', fontsize = fontsize + 2, fontweight = 'bold', rotation = 90)\n",
      "C:\\Users\\alvin\\Documents\\nss_projects\\big_g_express-big_shot\\cm.py:24: MatplotlibDeprecationWarning: The 's' parameter of annotate() has been renamed 'text' since Matplotlib 3.3; support for the old name will be dropped two minor releases later.\n",
      "  plt.annotate(s = cm[j][i], xy = (0.5 + i, 1.5 - j), fontsize = fontsize + 4, ha = 'center', va = 'center')\n",
      "C:\\Users\\alvin\\Documents\\nss_projects\\big_g_express-big_shot\\cm.py:57: MatplotlibDeprecationWarning: The 's' parameter of annotate() has been renamed 'text' since Matplotlib 3.3; support for the old name will be dropped two minor releases later.\n",
      "  plt.annotate(s = 'Precision: {}'.format(round((cm[1][1]) / cm[:,1].sum(),3)),\n"
     ]
    },
    {
     "data": {
      "image/png": "[encoded data removed]",
      "text/plain": [
       "<Figure size 432x432 with 1 Axes>"
      ]
     },
     "metadata": {
      "needs_background": "light"
     },
     "output_type": "display_data"
    }
   ],
   "source": [
    "plot_confusion_matrix(y_test, y_pred, labels = ['0', '1'], metric = 'precision')"
   ]
  },
  {
   "cell_type": "code",
   "execution_count": 58,
   "id": "approximate-ownership",
   "metadata": {},
   "outputs": [
    {
     "data": {
      "text/plain": [
       "0.983820259182578"
      ]
     },
     "execution_count": 58,
     "metadata": {},
     "output_type": "execute_result"
    }
   ],
   "source": [
    "f1_score(y_test, y_pred, average = 'micro')"
   ]
  },
  {
   "cell_type": "code",
   "execution_count": 59,
   "id": "systematic-copper",
   "metadata": {},
   "outputs": [
    {
     "name": "stdout",
     "output_type": "stream",
     "text": [
      "              precision    recall  f1-score   support\n",
      "\n",
      "       False       0.98      1.00      0.99     38504\n",
      "        True       0.06      0.00      0.00       619\n",
      "\n",
      "    accuracy                           0.98     39123\n",
      "   macro avg       0.52      0.50      0.50     39123\n",
      "weighted avg       0.97      0.98      0.98     39123\n",
      "\n"
     ]
    }
   ],
   "source": [
    "print(classification_report(y_test, y_pred))"
   ]
  },
  {
   "cell_type": "markdown",
   "id": "pacific-series",
   "metadata": {},
   "source": [
    "# *Adjusting and Balancing Unbalanced Classes*"
   ]
  },
  {
   "cell_type": "markdown",
   "id": "hourly-ecology",
   "metadata": {},
   "source": [
    "## Class Weights"
   ]
  },
  {
   "cell_type": "code",
   "execution_count": 60,
   "id": "beautiful-cartridge",
   "metadata": {},
   "outputs": [],
   "source": [
    "from sklearn.model_selection import GridSearchCV\n",
    "from sklearn.metrics import make_scorer, f1_score"
   ]
  },
  {
   "cell_type": "code",
   "execution_count": 62,
   "id": "blind-suicide",
   "metadata": {},
   "outputs": [],
   "source": [
    "f1 = make_scorer(f1_score, pos_label = 1)"
   ]
  },
  {
   "cell_type": "code",
   "execution_count": 65,
   "id": "single-collapse",
   "metadata": {},
   "outputs": [],
   "source": [
    "param_grid = {'class_weight': [{0:1, 1:1}, \n",
    "                              {0:1, 1:2},\n",
    "                              {0:1, 1:5},\n",
    "                              {0:1, 1:10},\n",
    "                              {0:1, 1:25},\n",
    "                              {0:1, 1:50},\n",
    "                              {0:1, 1:100}]}"
   ]
  },
  {
   "cell_type": "code",
   "execution_count": 66,
   "id": "nasty-tennessee",
   "metadata": {},
   "outputs": [],
   "source": [
    "lr = LogisticRegression()"
   ]
  },
  {
   "cell_type": "code",
   "execution_count": 67,
   "id": "extra-oklahoma",
   "metadata": {},
   "outputs": [],
   "source": [
    "gs = GridSearchCV(estimator = lr, \n",
    "                  param_grid = param_grid,\n",
    "                 scoring = f1,\n",
    "                 cv = 5)"
   ]
  },
  {
   "cell_type": "code",
   "execution_count": 68,
   "id": "latin-spyware",
   "metadata": {},
   "outputs": [
    {
     "name": "stderr",
     "output_type": "stream",
     "text": [
      "C:\\Users\\alvin\\anaconda3\\lib\\site-packages\\sklearn\\linear_model\\_logistic.py:763: ConvergenceWarning: lbfgs failed to converge (status=1):\n",
      "STOP: TOTAL NO. of ITERATIONS REACHED LIMIT.\n",
      "\n",
      "Increase the number of iterations (max_iter) or scale the data as shown in:\n",
      "    https://scikit-learn.org/stable/modules/preprocessing.html\n",
      "Please also refer to the documentation for alternative solver options:\n",
      "    https://scikit-learn.org/stable/modules/linear_model.html#logistic-regression\n",
      "  n_iter_i = _check_optimize_result(\n",
      "C:\\Users\\alvin\\anaconda3\\lib\\site-packages\\sklearn\\linear_model\\_logistic.py:763: ConvergenceWarning: lbfgs failed to converge (status=1):\n",
      "STOP: TOTAL NO. of ITERATIONS REACHED LIMIT.\n",
      "\n",
      "Increase the number of iterations (max_iter) or scale the data as shown in:\n",
      "    https://scikit-learn.org/stable/modules/preprocessing.html\n",
      "Please also refer to the documentation for alternative solver options:\n",
      "    https://scikit-learn.org/stable/modules/linear_model.html#logistic-regression\n",
      "  n_iter_i = _check_optimize_result(\n",
      "C:\\Users\\alvin\\anaconda3\\lib\\site-packages\\sklearn\\linear_model\\_logistic.py:763: ConvergenceWarning: lbfgs failed to converge (status=1):\n",
      "STOP: TOTAL NO. of ITERATIONS REACHED LIMIT.\n",
      "\n",
      "Increase the number of iterations (max_iter) or scale the data as shown in:\n",
      "    https://scikit-learn.org/stable/modules/preprocessing.html\n",
      "Please also refer to the documentation for alternative solver options:\n",
      "    https://scikit-learn.org/stable/modules/linear_model.html#logistic-regression\n",
      "  n_iter_i = _check_optimize_result(\n",
      "C:\\Users\\alvin\\anaconda3\\lib\\site-packages\\sklearn\\linear_model\\_logistic.py:763: ConvergenceWarning: lbfgs failed to converge (status=1):\n",
      "STOP: TOTAL NO. of ITERATIONS REACHED LIMIT.\n",
      "\n",
      "Increase the number of iterations (max_iter) or scale the data as shown in:\n",
      "    https://scikit-learn.org/stable/modules/preprocessing.html\n",
      "Please also refer to the documentation for alternative solver options:\n",
      "    https://scikit-learn.org/stable/modules/linear_model.html#logistic-regression\n",
      "  n_iter_i = _check_optimize_result(\n",
      "C:\\Users\\alvin\\anaconda3\\lib\\site-packages\\sklearn\\linear_model\\_logistic.py:763: ConvergenceWarning: lbfgs failed to converge (status=1):\n",
      "STOP: TOTAL NO. of ITERATIONS REACHED LIMIT.\n",
      "\n",
      "Increase the number of iterations (max_iter) or scale the data as shown in:\n",
      "    https://scikit-learn.org/stable/modules/preprocessing.html\n",
      "Please also refer to the documentation for alternative solver options:\n",
      "    https://scikit-learn.org/stable/modules/linear_model.html#logistic-regression\n",
      "  n_iter_i = _check_optimize_result(\n",
      "C:\\Users\\alvin\\anaconda3\\lib\\site-packages\\sklearn\\linear_model\\_logistic.py:763: ConvergenceWarning: lbfgs failed to converge (status=1):\n",
      "STOP: TOTAL NO. of ITERATIONS REACHED LIMIT.\n",
      "\n",
      "Increase the number of iterations (max_iter) or scale the data as shown in:\n",
      "    https://scikit-learn.org/stable/modules/preprocessing.html\n",
      "Please also refer to the documentation for alternative solver options:\n",
      "    https://scikit-learn.org/stable/modules/linear_model.html#logistic-regression\n",
      "  n_iter_i = _check_optimize_result(\n",
      "C:\\Users\\alvin\\anaconda3\\lib\\site-packages\\sklearn\\linear_model\\_logistic.py:763: ConvergenceWarning: lbfgs failed to converge (status=1):\n",
      "STOP: TOTAL NO. of ITERATIONS REACHED LIMIT.\n",
      "\n",
      "Increase the number of iterations (max_iter) or scale the data as shown in:\n",
      "    https://scikit-learn.org/stable/modules/preprocessing.html\n",
      "Please also refer to the documentation for alternative solver options:\n",
      "    https://scikit-learn.org/stable/modules/linear_model.html#logistic-regression\n",
      "  n_iter_i = _check_optimize_result(\n",
      "C:\\Users\\alvin\\anaconda3\\lib\\site-packages\\sklearn\\linear_model\\_logistic.py:763: ConvergenceWarning: lbfgs failed to converge (status=1):\n",
      "STOP: TOTAL NO. of ITERATIONS REACHED LIMIT.\n",
      "\n",
      "Increase the number of iterations (max_iter) or scale the data as shown in:\n",
      "    https://scikit-learn.org/stable/modules/preprocessing.html\n",
      "Please also refer to the documentation for alternative solver options:\n",
      "    https://scikit-learn.org/stable/modules/linear_model.html#logistic-regression\n",
      "  n_iter_i = _check_optimize_result(\n",
      "C:\\Users\\alvin\\anaconda3\\lib\\site-packages\\sklearn\\linear_model\\_logistic.py:763: ConvergenceWarning: lbfgs failed to converge (status=1):\n",
      "STOP: TOTAL NO. of ITERATIONS REACHED LIMIT.\n",
      "\n",
      "Increase the number of iterations (max_iter) or scale the data as shown in:\n",
      "    https://scikit-learn.org/stable/modules/preprocessing.html\n",
      "Please also refer to the documentation for alternative solver options:\n",
      "    https://scikit-learn.org/stable/modules/linear_model.html#logistic-regression\n",
      "  n_iter_i = _check_optimize_result(\n",
      "C:\\Users\\alvin\\anaconda3\\lib\\site-packages\\sklearn\\linear_model\\_logistic.py:763: ConvergenceWarning: lbfgs failed to converge (status=1):\n",
      "STOP: TOTAL NO. of ITERATIONS REACHED LIMIT.\n",
      "\n",
      "Increase the number of iterations (max_iter) or scale the data as shown in:\n",
      "    https://scikit-learn.org/stable/modules/preprocessing.html\n",
      "Please also refer to the documentation for alternative solver options:\n",
      "    https://scikit-learn.org/stable/modules/linear_model.html#logistic-regression\n",
      "  n_iter_i = _check_optimize_result(\n",
      "C:\\Users\\alvin\\anaconda3\\lib\\site-packages\\sklearn\\linear_model\\_logistic.py:763: ConvergenceWarning: lbfgs failed to converge (status=1):\n",
      "STOP: TOTAL NO. of ITERATIONS REACHED LIMIT.\n",
      "\n",
      "Increase the number of iterations (max_iter) or scale the data as shown in:\n",
      "    https://scikit-learn.org/stable/modules/preprocessing.html\n",
      "Please also refer to the documentation for alternative solver options:\n",
      "    https://scikit-learn.org/stable/modules/linear_model.html#logistic-regression\n",
      "  n_iter_i = _check_optimize_result(\n",
      "C:\\Users\\alvin\\anaconda3\\lib\\site-packages\\sklearn\\linear_model\\_logistic.py:763: ConvergenceWarning: lbfgs failed to converge (status=1):\n",
      "STOP: TOTAL NO. of ITERATIONS REACHED LIMIT.\n",
      "\n",
      "Increase the number of iterations (max_iter) or scale the data as shown in:\n",
      "    https://scikit-learn.org/stable/modules/preprocessing.html\n",
      "Please also refer to the documentation for alternative solver options:\n",
      "    https://scikit-learn.org/stable/modules/linear_model.html#logistic-regression\n",
      "  n_iter_i = _check_optimize_result(\n",
      "C:\\Users\\alvin\\anaconda3\\lib\\site-packages\\sklearn\\linear_model\\_logistic.py:763: ConvergenceWarning: lbfgs failed to converge (status=1):\n",
      "STOP: TOTAL NO. of ITERATIONS REACHED LIMIT.\n",
      "\n",
      "Increase the number of iterations (max_iter) or scale the data as shown in:\n",
      "    https://scikit-learn.org/stable/modules/preprocessing.html\n",
      "Please also refer to the documentation for alternative solver options:\n",
      "    https://scikit-learn.org/stable/modules/linear_model.html#logistic-regression\n",
      "  n_iter_i = _check_optimize_result(\n",
      "C:\\Users\\alvin\\anaconda3\\lib\\site-packages\\sklearn\\linear_model\\_logistic.py:763: ConvergenceWarning: lbfgs failed to converge (status=1):\n",
      "STOP: TOTAL NO. of ITERATIONS REACHED LIMIT.\n",
      "\n",
      "Increase the number of iterations (max_iter) or scale the data as shown in:\n",
      "    https://scikit-learn.org/stable/modules/preprocessing.html\n",
      "Please also refer to the documentation for alternative solver options:\n",
      "    https://scikit-learn.org/stable/modules/linear_model.html#logistic-regression\n",
      "  n_iter_i = _check_optimize_result(\n",
      "C:\\Users\\alvin\\anaconda3\\lib\\site-packages\\sklearn\\linear_model\\_logistic.py:763: ConvergenceWarning: lbfgs failed to converge (status=1):\n",
      "STOP: TOTAL NO. of ITERATIONS REACHED LIMIT.\n",
      "\n",
      "Increase the number of iterations (max_iter) or scale the data as shown in:\n",
      "    https://scikit-learn.org/stable/modules/preprocessing.html\n",
      "Please also refer to the documentation for alternative solver options:\n",
      "    https://scikit-learn.org/stable/modules/linear_model.html#logistic-regression\n",
      "  n_iter_i = _check_optimize_result(\n",
      "C:\\Users\\alvin\\anaconda3\\lib\\site-packages\\sklearn\\linear_model\\_logistic.py:763: ConvergenceWarning: lbfgs failed to converge (status=1):\n",
      "STOP: TOTAL NO. of ITERATIONS REACHED LIMIT.\n",
      "\n",
      "Increase the number of iterations (max_iter) or scale the data as shown in:\n",
      "    https://scikit-learn.org/stable/modules/preprocessing.html\n",
      "Please also refer to the documentation for alternative solver options:\n",
      "    https://scikit-learn.org/stable/modules/linear_model.html#logistic-regression\n",
      "  n_iter_i = _check_optimize_result(\n"
     ]
    },
    {
     "name": "stderr",
     "output_type": "stream",
     "text": [
      "C:\\Users\\alvin\\anaconda3\\lib\\site-packages\\sklearn\\linear_model\\_logistic.py:763: ConvergenceWarning: lbfgs failed to converge (status=1):\n",
      "STOP: TOTAL NO. of ITERATIONS REACHED LIMIT.\n",
      "\n",
      "Increase the number of iterations (max_iter) or scale the data as shown in:\n",
      "    https://scikit-learn.org/stable/modules/preprocessing.html\n",
      "Please also refer to the documentation for alternative solver options:\n",
      "    https://scikit-learn.org/stable/modules/linear_model.html#logistic-regression\n",
      "  n_iter_i = _check_optimize_result(\n",
      "C:\\Users\\alvin\\anaconda3\\lib\\site-packages\\sklearn\\linear_model\\_logistic.py:763: ConvergenceWarning: lbfgs failed to converge (status=1):\n",
      "STOP: TOTAL NO. of ITERATIONS REACHED LIMIT.\n",
      "\n",
      "Increase the number of iterations (max_iter) or scale the data as shown in:\n",
      "    https://scikit-learn.org/stable/modules/preprocessing.html\n",
      "Please also refer to the documentation for alternative solver options:\n",
      "    https://scikit-learn.org/stable/modules/linear_model.html#logistic-regression\n",
      "  n_iter_i = _check_optimize_result(\n",
      "C:\\Users\\alvin\\anaconda3\\lib\\site-packages\\sklearn\\linear_model\\_logistic.py:763: ConvergenceWarning: lbfgs failed to converge (status=1):\n",
      "STOP: TOTAL NO. of ITERATIONS REACHED LIMIT.\n",
      "\n",
      "Increase the number of iterations (max_iter) or scale the data as shown in:\n",
      "    https://scikit-learn.org/stable/modules/preprocessing.html\n",
      "Please also refer to the documentation for alternative solver options:\n",
      "    https://scikit-learn.org/stable/modules/linear_model.html#logistic-regression\n",
      "  n_iter_i = _check_optimize_result(\n",
      "C:\\Users\\alvin\\anaconda3\\lib\\site-packages\\sklearn\\linear_model\\_logistic.py:763: ConvergenceWarning: lbfgs failed to converge (status=1):\n",
      "STOP: TOTAL NO. of ITERATIONS REACHED LIMIT.\n",
      "\n",
      "Increase the number of iterations (max_iter) or scale the data as shown in:\n",
      "    https://scikit-learn.org/stable/modules/preprocessing.html\n",
      "Please also refer to the documentation for alternative solver options:\n",
      "    https://scikit-learn.org/stable/modules/linear_model.html#logistic-regression\n",
      "  n_iter_i = _check_optimize_result(\n",
      "C:\\Users\\alvin\\anaconda3\\lib\\site-packages\\sklearn\\linear_model\\_logistic.py:763: ConvergenceWarning: lbfgs failed to converge (status=1):\n",
      "STOP: TOTAL NO. of ITERATIONS REACHED LIMIT.\n",
      "\n",
      "Increase the number of iterations (max_iter) or scale the data as shown in:\n",
      "    https://scikit-learn.org/stable/modules/preprocessing.html\n",
      "Please also refer to the documentation for alternative solver options:\n",
      "    https://scikit-learn.org/stable/modules/linear_model.html#logistic-regression\n",
      "  n_iter_i = _check_optimize_result(\n",
      "C:\\Users\\alvin\\anaconda3\\lib\\site-packages\\sklearn\\linear_model\\_logistic.py:763: ConvergenceWarning: lbfgs failed to converge (status=1):\n",
      "STOP: TOTAL NO. of ITERATIONS REACHED LIMIT.\n",
      "\n",
      "Increase the number of iterations (max_iter) or scale the data as shown in:\n",
      "    https://scikit-learn.org/stable/modules/preprocessing.html\n",
      "Please also refer to the documentation for alternative solver options:\n",
      "    https://scikit-learn.org/stable/modules/linear_model.html#logistic-regression\n",
      "  n_iter_i = _check_optimize_result(\n",
      "C:\\Users\\alvin\\anaconda3\\lib\\site-packages\\sklearn\\linear_model\\_logistic.py:763: ConvergenceWarning: lbfgs failed to converge (status=1):\n",
      "STOP: TOTAL NO. of ITERATIONS REACHED LIMIT.\n",
      "\n",
      "Increase the number of iterations (max_iter) or scale the data as shown in:\n",
      "    https://scikit-learn.org/stable/modules/preprocessing.html\n",
      "Please also refer to the documentation for alternative solver options:\n",
      "    https://scikit-learn.org/stable/modules/linear_model.html#logistic-regression\n",
      "  n_iter_i = _check_optimize_result(\n",
      "C:\\Users\\alvin\\anaconda3\\lib\\site-packages\\sklearn\\linear_model\\_logistic.py:763: ConvergenceWarning: lbfgs failed to converge (status=1):\n",
      "STOP: TOTAL NO. of ITERATIONS REACHED LIMIT.\n",
      "\n",
      "Increase the number of iterations (max_iter) or scale the data as shown in:\n",
      "    https://scikit-learn.org/stable/modules/preprocessing.html\n",
      "Please also refer to the documentation for alternative solver options:\n",
      "    https://scikit-learn.org/stable/modules/linear_model.html#logistic-regression\n",
      "  n_iter_i = _check_optimize_result(\n",
      "C:\\Users\\alvin\\anaconda3\\lib\\site-packages\\sklearn\\linear_model\\_logistic.py:763: ConvergenceWarning: lbfgs failed to converge (status=1):\n",
      "STOP: TOTAL NO. of ITERATIONS REACHED LIMIT.\n",
      "\n",
      "Increase the number of iterations (max_iter) or scale the data as shown in:\n",
      "    https://scikit-learn.org/stable/modules/preprocessing.html\n",
      "Please also refer to the documentation for alternative solver options:\n",
      "    https://scikit-learn.org/stable/modules/linear_model.html#logistic-regression\n",
      "  n_iter_i = _check_optimize_result(\n",
      "C:\\Users\\alvin\\anaconda3\\lib\\site-packages\\sklearn\\linear_model\\_logistic.py:763: ConvergenceWarning: lbfgs failed to converge (status=1):\n",
      "STOP: TOTAL NO. of ITERATIONS REACHED LIMIT.\n",
      "\n",
      "Increase the number of iterations (max_iter) or scale the data as shown in:\n",
      "    https://scikit-learn.org/stable/modules/preprocessing.html\n",
      "Please also refer to the documentation for alternative solver options:\n",
      "    https://scikit-learn.org/stable/modules/linear_model.html#logistic-regression\n",
      "  n_iter_i = _check_optimize_result(\n",
      "C:\\Users\\alvin\\anaconda3\\lib\\site-packages\\sklearn\\linear_model\\_logistic.py:763: ConvergenceWarning: lbfgs failed to converge (status=1):\n",
      "STOP: TOTAL NO. of ITERATIONS REACHED LIMIT.\n",
      "\n",
      "Increase the number of iterations (max_iter) or scale the data as shown in:\n",
      "    https://scikit-learn.org/stable/modules/preprocessing.html\n",
      "Please also refer to the documentation for alternative solver options:\n",
      "    https://scikit-learn.org/stable/modules/linear_model.html#logistic-regression\n",
      "  n_iter_i = _check_optimize_result(\n",
      "C:\\Users\\alvin\\anaconda3\\lib\\site-packages\\sklearn\\linear_model\\_logistic.py:763: ConvergenceWarning: lbfgs failed to converge (status=1):\n",
      "STOP: TOTAL NO. of ITERATIONS REACHED LIMIT.\n",
      "\n",
      "Increase the number of iterations (max_iter) or scale the data as shown in:\n",
      "    https://scikit-learn.org/stable/modules/preprocessing.html\n",
      "Please also refer to the documentation for alternative solver options:\n",
      "    https://scikit-learn.org/stable/modules/linear_model.html#logistic-regression\n",
      "  n_iter_i = _check_optimize_result(\n",
      "C:\\Users\\alvin\\anaconda3\\lib\\site-packages\\sklearn\\linear_model\\_logistic.py:763: ConvergenceWarning: lbfgs failed to converge (status=1):\n",
      "STOP: TOTAL NO. of ITERATIONS REACHED LIMIT.\n",
      "\n",
      "Increase the number of iterations (max_iter) or scale the data as shown in:\n",
      "    https://scikit-learn.org/stable/modules/preprocessing.html\n",
      "Please also refer to the documentation for alternative solver options:\n",
      "    https://scikit-learn.org/stable/modules/linear_model.html#logistic-regression\n",
      "  n_iter_i = _check_optimize_result(\n",
      "C:\\Users\\alvin\\anaconda3\\lib\\site-packages\\sklearn\\linear_model\\_logistic.py:763: ConvergenceWarning: lbfgs failed to converge (status=1):\n",
      "STOP: TOTAL NO. of ITERATIONS REACHED LIMIT.\n",
      "\n",
      "Increase the number of iterations (max_iter) or scale the data as shown in:\n",
      "    https://scikit-learn.org/stable/modules/preprocessing.html\n",
      "Please also refer to the documentation for alternative solver options:\n",
      "    https://scikit-learn.org/stable/modules/linear_model.html#logistic-regression\n",
      "  n_iter_i = _check_optimize_result(\n",
      "C:\\Users\\alvin\\anaconda3\\lib\\site-packages\\sklearn\\linear_model\\_logistic.py:763: ConvergenceWarning: lbfgs failed to converge (status=1):\n",
      "STOP: TOTAL NO. of ITERATIONS REACHED LIMIT.\n",
      "\n",
      "Increase the number of iterations (max_iter) or scale the data as shown in:\n",
      "    https://scikit-learn.org/stable/modules/preprocessing.html\n",
      "Please also refer to the documentation for alternative solver options:\n",
      "    https://scikit-learn.org/stable/modules/linear_model.html#logistic-regression\n",
      "  n_iter_i = _check_optimize_result(\n",
      "C:\\Users\\alvin\\anaconda3\\lib\\site-packages\\sklearn\\linear_model\\_logistic.py:763: ConvergenceWarning: lbfgs failed to converge (status=1):\n",
      "STOP: TOTAL NO. of ITERATIONS REACHED LIMIT.\n",
      "\n",
      "Increase the number of iterations (max_iter) or scale the data as shown in:\n",
      "    https://scikit-learn.org/stable/modules/preprocessing.html\n",
      "Please also refer to the documentation for alternative solver options:\n",
      "    https://scikit-learn.org/stable/modules/linear_model.html#logistic-regression\n",
      "  n_iter_i = _check_optimize_result(\n"
     ]
    },
    {
     "name": "stderr",
     "output_type": "stream",
     "text": [
      "C:\\Users\\alvin\\anaconda3\\lib\\site-packages\\sklearn\\linear_model\\_logistic.py:763: ConvergenceWarning: lbfgs failed to converge (status=1):\n",
      "STOP: TOTAL NO. of ITERATIONS REACHED LIMIT.\n",
      "\n",
      "Increase the number of iterations (max_iter) or scale the data as shown in:\n",
      "    https://scikit-learn.org/stable/modules/preprocessing.html\n",
      "Please also refer to the documentation for alternative solver options:\n",
      "    https://scikit-learn.org/stable/modules/linear_model.html#logistic-regression\n",
      "  n_iter_i = _check_optimize_result(\n",
      "C:\\Users\\alvin\\anaconda3\\lib\\site-packages\\sklearn\\linear_model\\_logistic.py:763: ConvergenceWarning: lbfgs failed to converge (status=1):\n",
      "STOP: TOTAL NO. of ITERATIONS REACHED LIMIT.\n",
      "\n",
      "Increase the number of iterations (max_iter) or scale the data as shown in:\n",
      "    https://scikit-learn.org/stable/modules/preprocessing.html\n",
      "Please also refer to the documentation for alternative solver options:\n",
      "    https://scikit-learn.org/stable/modules/linear_model.html#logistic-regression\n",
      "  n_iter_i = _check_optimize_result(\n",
      "C:\\Users\\alvin\\anaconda3\\lib\\site-packages\\sklearn\\linear_model\\_logistic.py:763: ConvergenceWarning: lbfgs failed to converge (status=1):\n",
      "STOP: TOTAL NO. of ITERATIONS REACHED LIMIT.\n",
      "\n",
      "Increase the number of iterations (max_iter) or scale the data as shown in:\n",
      "    https://scikit-learn.org/stable/modules/preprocessing.html\n",
      "Please also refer to the documentation for alternative solver options:\n",
      "    https://scikit-learn.org/stable/modules/linear_model.html#logistic-regression\n",
      "  n_iter_i = _check_optimize_result(\n",
      "C:\\Users\\alvin\\anaconda3\\lib\\site-packages\\sklearn\\linear_model\\_logistic.py:763: ConvergenceWarning: lbfgs failed to converge (status=1):\n",
      "STOP: TOTAL NO. of ITERATIONS REACHED LIMIT.\n",
      "\n",
      "Increase the number of iterations (max_iter) or scale the data as shown in:\n",
      "    https://scikit-learn.org/stable/modules/preprocessing.html\n",
      "Please also refer to the documentation for alternative solver options:\n",
      "    https://scikit-learn.org/stable/modules/linear_model.html#logistic-regression\n",
      "  n_iter_i = _check_optimize_result(\n"
     ]
    },
    {
     "data": {
      "text/plain": [
       "GridSearchCV(cv=5, estimator=LogisticRegression(),\n",
       "             param_grid={'class_weight': [{0: 1, 1: 1}, {0: 1, 1: 2},\n",
       "                                          {0: 1, 1: 5}, {0: 1, 1: 10},\n",
       "                                          {0: 1, 1: 25}, {0: 1, 1: 50},\n",
       "                                          {0: 1, 1: 100}]},\n",
       "             scoring=make_scorer(f1_score, pos_label=1))"
      ]
     },
     "execution_count": 68,
     "metadata": {},
     "output_type": "execute_result"
    }
   ],
   "source": [
    "gs.fit(X_train, y_train)"
   ]
  },
  {
   "cell_type": "code",
   "execution_count": 69,
   "id": "preliminary-pittsburgh",
   "metadata": {},
   "outputs": [
    {
     "data": {
      "text/plain": [
       "{'class_weight': {0: 1, 1: 50}}"
      ]
     },
     "execution_count": 69,
     "metadata": {},
     "output_type": "execute_result"
    }
   ],
   "source": [
    "gs.best_params_"
   ]
  },
  {
   "cell_type": "code",
   "execution_count": 70,
   "id": "harmful-latitude",
   "metadata": {},
   "outputs": [
    {
     "data": {
      "text/plain": [
       "0.0686230927077374"
      ]
     },
     "execution_count": 70,
     "metadata": {},
     "output_type": "execute_result"
    }
   ],
   "source": [
    "gs.best_score_"
   ]
  },
  {
   "cell_type": "code",
   "execution_count": 71,
   "id": "angry-filing",
   "metadata": {},
   "outputs": [
    {
     "data": {
      "text/plain": [
       "0.9103596349973162"
      ]
     },
     "execution_count": 71,
     "metadata": {},
     "output_type": "execute_result"
    }
   ],
   "source": [
    "y_pred = gs.predict(X_test)\n",
    "accuracy_score(y_test, y_pred)"
   ]
  },
  {
   "cell_type": "code",
   "execution_count": 72,
   "id": "early-option",
   "metadata": {},
   "outputs": [
    {
     "data": {
      "text/plain": [
       "array([[35356,  3148],\n",
       "       [  359,   260]], dtype=int64)"
      ]
     },
     "execution_count": 72,
     "metadata": {},
     "output_type": "execute_result"
    }
   ],
   "source": [
    "confusion_matrix(y_test, y_pred)"
   ]
  },
  {
   "cell_type": "code",
   "execution_count": 73,
   "id": "instrumental-guatemala",
   "metadata": {},
   "outputs": [
    {
     "name": "stdout",
     "output_type": "stream",
     "text": [
      "              precision    recall  f1-score   support\n",
      "\n",
      "       False       0.99      0.92      0.95     38504\n",
      "        True       0.08      0.42      0.13       619\n",
      "\n",
      "    accuracy                           0.91     39123\n",
      "   macro avg       0.53      0.67      0.54     39123\n",
      "weighted avg       0.98      0.91      0.94     39123\n",
      "\n"
     ]
    }
   ],
   "source": [
    "print(classification_report(y_test, y_pred))"
   ]
  },
  {
   "cell_type": "markdown",
   "id": "mexican-headset",
   "metadata": {},
   "source": [
    "## Undersampling"
   ]
  },
  {
   "cell_type": "code",
   "execution_count": 75,
   "id": "rural-compiler",
   "metadata": {},
   "outputs": [],
   "source": [
    "#!pip install -U imbalanced-learn"
   ]
  },
  {
   "cell_type": "code",
   "execution_count": 76,
   "id": "senior-medicare",
   "metadata": {},
   "outputs": [],
   "source": [
    "from imblearn.under_sampling import RandomUnderSampler"
   ]
  },
  {
   "cell_type": "code",
   "execution_count": 77,
   "id": "premier-invasion",
   "metadata": {},
   "outputs": [],
   "source": [
    "undersampler = RandomUnderSampler(random_state = 321)"
   ]
  },
  {
   "cell_type": "code",
   "execution_count": 78,
   "id": "middle-rwanda",
   "metadata": {},
   "outputs": [],
   "source": [
    "X_resampled, y_resampled = undersampler.fit_resample(X_train, y_train)"
   ]
  },
  {
   "cell_type": "code",
   "execution_count": 79,
   "id": "excellent-mambo",
   "metadata": {},
   "outputs": [
    {
     "data": {
      "text/plain": [
       "False    1184\n",
       "True     1184\n",
       "Name: targettime, dtype: int64"
      ]
     },
     "execution_count": 79,
     "metadata": {},
     "output_type": "execute_result"
    }
   ],
   "source": [
    "y_resampled.value_counts()"
   ]
  },
  {
   "cell_type": "code",
   "execution_count": 80,
   "id": "standing-ocean",
   "metadata": {},
   "outputs": [
    {
     "name": "stderr",
     "output_type": "stream",
     "text": [
      "C:\\Users\\alvin\\anaconda3\\lib\\site-packages\\sklearn\\linear_model\\_logistic.py:763: ConvergenceWarning: lbfgs failed to converge (status=1):\n",
      "STOP: TOTAL NO. of ITERATIONS REACHED LIMIT.\n",
      "\n",
      "Increase the number of iterations (max_iter) or scale the data as shown in:\n",
      "    https://scikit-learn.org/stable/modules/preprocessing.html\n",
      "Please also refer to the documentation for alternative solver options:\n",
      "    https://scikit-learn.org/stable/modules/linear_model.html#logistic-regression\n",
      "  n_iter_i = _check_optimize_result(\n"
     ]
    },
    {
     "data": {
      "text/plain": [
       "LogisticRegression()"
      ]
     },
     "execution_count": 80,
     "metadata": {},
     "output_type": "execute_result"
    }
   ],
   "source": [
    "lr = LogisticRegression()\n",
    "lr.fit(X_resampled, y_resampled)"
   ]
  },
  {
   "cell_type": "code",
   "execution_count": 81,
   "id": "bulgarian-drunk",
   "metadata": {},
   "outputs": [
    {
     "data": {
      "text/plain": [
       "0.8349052986734146"
      ]
     },
     "execution_count": 81,
     "metadata": {},
     "output_type": "execute_result"
    }
   ],
   "source": [
    "y_pred = lr.predict(X_test)\n",
    "accuracy_score(y_test, y_pred)"
   ]
  },
  {
   "cell_type": "code",
   "execution_count": 82,
   "id": "acceptable-burst",
   "metadata": {},
   "outputs": [
    {
     "data": {
      "text/plain": [
       "array([[32271,  6233],\n",
       "       [  226,   393]], dtype=int64)"
      ]
     },
     "execution_count": 82,
     "metadata": {},
     "output_type": "execute_result"
    }
   ],
   "source": [
    "confusion_matrix(y_test, y_pred)"
   ]
  },
  {
   "cell_type": "code",
   "execution_count": 83,
   "id": "unique-dress",
   "metadata": {},
   "outputs": [
    {
     "name": "stdout",
     "output_type": "stream",
     "text": [
      "              precision    recall  f1-score   support\n",
      "\n",
      "       False       0.99      0.84      0.91     38504\n",
      "        True       0.06      0.63      0.11       619\n",
      "\n",
      "    accuracy                           0.83     39123\n",
      "   macro avg       0.53      0.74      0.51     39123\n",
      "weighted avg       0.98      0.83      0.90     39123\n",
      "\n"
     ]
    }
   ],
   "source": [
    "print(classification_report(y_test, y_pred))"
   ]
  },
  {
   "cell_type": "markdown",
   "id": "thorough-phone",
   "metadata": {},
   "source": [
    "## Oversampling"
   ]
  },
  {
   "cell_type": "code",
   "execution_count": 84,
   "id": "capable-cancer",
   "metadata": {},
   "outputs": [],
   "source": [
    "from imblearn.over_sampling import RandomOverSampler"
   ]
  },
  {
   "cell_type": "code",
   "execution_count": 85,
   "id": "excessive-lover",
   "metadata": {},
   "outputs": [],
   "source": [
    "oversampler = RandomOverSampler(random_state = 321)"
   ]
  },
  {
   "cell_type": "code",
   "execution_count": 86,
   "id": "fantastic-watson",
   "metadata": {},
   "outputs": [],
   "source": [
    "X_resampled, y_resampled = oversampler.fit_resample(X_train, y_train)"
   ]
  },
  {
   "cell_type": "code",
   "execution_count": 87,
   "id": "final-heart",
   "metadata": {},
   "outputs": [
    {
     "data": {
      "text/plain": [
       "False    153372\n",
       "True     153372\n",
       "Name: targettime, dtype: int64"
      ]
     },
     "execution_count": 87,
     "metadata": {},
     "output_type": "execute_result"
    }
   ],
   "source": [
    "y_resampled.value_counts()"
   ]
  },
  {
   "cell_type": "code",
   "execution_count": 88,
   "id": "married-whole",
   "metadata": {},
   "outputs": [
    {
     "name": "stderr",
     "output_type": "stream",
     "text": [
      "C:\\Users\\alvin\\anaconda3\\lib\\site-packages\\sklearn\\linear_model\\_logistic.py:763: ConvergenceWarning: lbfgs failed to converge (status=1):\n",
      "STOP: TOTAL NO. of ITERATIONS REACHED LIMIT.\n",
      "\n",
      "Increase the number of iterations (max_iter) or scale the data as shown in:\n",
      "    https://scikit-learn.org/stable/modules/preprocessing.html\n",
      "Please also refer to the documentation for alternative solver options:\n",
      "    https://scikit-learn.org/stable/modules/linear_model.html#logistic-regression\n",
      "  n_iter_i = _check_optimize_result(\n"
     ]
    },
    {
     "data": {
      "text/plain": [
       "LogisticRegression()"
      ]
     },
     "execution_count": 88,
     "metadata": {},
     "output_type": "execute_result"
    }
   ],
   "source": [
    "lr = LogisticRegression()\n",
    "lr.fit(X_resampled, y_resampled)"
   ]
  },
  {
   "cell_type": "code",
   "execution_count": 89,
   "id": "nonprofit-scotland",
   "metadata": {},
   "outputs": [
    {
     "data": {
      "text/plain": [
       "0.8322470158218951"
      ]
     },
     "execution_count": 89,
     "metadata": {},
     "output_type": "execute_result"
    }
   ],
   "source": [
    "y_pred = lr.predict(X_test)\n",
    "accuracy_score(y_test, y_pred)"
   ]
  },
  {
   "cell_type": "code",
   "execution_count": 90,
   "id": "brilliant-desire",
   "metadata": {},
   "outputs": [
    {
     "data": {
      "text/plain": [
       "array([[32182,  6322],\n",
       "       [  241,   378]], dtype=int64)"
      ]
     },
     "execution_count": 90,
     "metadata": {},
     "output_type": "execute_result"
    }
   ],
   "source": [
    "confusion_matrix(y_test, y_pred)"
   ]
  },
  {
   "cell_type": "code",
   "execution_count": 91,
   "id": "shared-stevens",
   "metadata": {},
   "outputs": [
    {
     "name": "stdout",
     "output_type": "stream",
     "text": [
      "              precision    recall  f1-score   support\n",
      "\n",
      "       False       0.99      0.84      0.91     38504\n",
      "        True       0.06      0.61      0.10       619\n",
      "\n",
      "    accuracy                           0.83     39123\n",
      "   macro avg       0.52      0.72      0.51     39123\n",
      "weighted avg       0.98      0.83      0.89     39123\n",
      "\n"
     ]
    }
   ],
   "source": [
    "print(classification_report(y_test, y_pred))"
   ]
  },
  {
   "cell_type": "code",
   "execution_count": null,
   "id": "first-representation",
   "metadata": {},
   "outputs": [],
   "source": []
  },
  {
   "cell_type": "markdown",
   "id": "heated-dispatch",
   "metadata": {},
   "source": [
    "## Combo Under-Oversampling"
   ]
  },
  {
   "cell_type": "code",
   "execution_count": 92,
   "id": "swedish-privilege",
   "metadata": {},
   "outputs": [],
   "source": [
    "undersampler = RandomUnderSampler(random_state=321, sampling_strategy = 1/3)"
   ]
  },
  {
   "cell_type": "code",
   "execution_count": 93,
   "id": "immediate-committee",
   "metadata": {},
   "outputs": [],
   "source": [
    "X_resampled, y_resampled = undersampler.fit_resample(X_train, y_train)"
   ]
  },
  {
   "cell_type": "code",
   "execution_count": 94,
   "id": "wireless-consumption",
   "metadata": {},
   "outputs": [
    {
     "data": {
      "text/plain": [
       "False    3552\n",
       "True     1184\n",
       "Name: targettime, dtype: int64"
      ]
     },
     "execution_count": 94,
     "metadata": {},
     "output_type": "execute_result"
    }
   ],
   "source": [
    "y_resampled.value_counts()"
   ]
  },
  {
   "cell_type": "code",
   "execution_count": 95,
   "id": "described-sunday",
   "metadata": {},
   "outputs": [],
   "source": [
    "oversampler = RandomOverSampler(random_state = 321)"
   ]
  },
  {
   "cell_type": "code",
   "execution_count": 96,
   "id": "intimate-kinase",
   "metadata": {},
   "outputs": [],
   "source": [
    "X_resampled, y_resampled = oversampler.fit_resample(X_resampled, y_resampled)"
   ]
  },
  {
   "cell_type": "code",
   "execution_count": 97,
   "id": "available-orlando",
   "metadata": {},
   "outputs": [
    {
     "data": {
      "text/plain": [
       "False    3552\n",
       "True     3552\n",
       "Name: targettime, dtype: int64"
      ]
     },
     "execution_count": 97,
     "metadata": {},
     "output_type": "execute_result"
    }
   ],
   "source": [
    "y_resampled.value_counts()"
   ]
  },
  {
   "cell_type": "code",
   "execution_count": 98,
   "id": "collectible-cloud",
   "metadata": {},
   "outputs": [
    {
     "name": "stderr",
     "output_type": "stream",
     "text": [
      "C:\\Users\\alvin\\anaconda3\\lib\\site-packages\\sklearn\\linear_model\\_logistic.py:763: ConvergenceWarning: lbfgs failed to converge (status=1):\n",
      "STOP: TOTAL NO. of ITERATIONS REACHED LIMIT.\n",
      "\n",
      "Increase the number of iterations (max_iter) or scale the data as shown in:\n",
      "    https://scikit-learn.org/stable/modules/preprocessing.html\n",
      "Please also refer to the documentation for alternative solver options:\n",
      "    https://scikit-learn.org/stable/modules/linear_model.html#logistic-regression\n",
      "  n_iter_i = _check_optimize_result(\n"
     ]
    },
    {
     "data": {
      "text/plain": [
       "LogisticRegression()"
      ]
     },
     "execution_count": 98,
     "metadata": {},
     "output_type": "execute_result"
    }
   ],
   "source": [
    "lr = LogisticRegression()\n",
    "lr.fit(X_resampled, y_resampled)"
   ]
  },
  {
   "cell_type": "code",
   "execution_count": 99,
   "id": "registered-recall",
   "metadata": {},
   "outputs": [
    {
     "data": {
      "text/plain": [
       "0.8237098382025918"
      ]
     },
     "execution_count": 99,
     "metadata": {},
     "output_type": "execute_result"
    }
   ],
   "source": [
    "y_pred = lr.predict(X_test)\n",
    "accuracy_score(y_test, y_pred)"
   ]
  },
  {
   "cell_type": "code",
   "execution_count": 100,
   "id": "minus-philosophy",
   "metadata": {},
   "outputs": [
    {
     "data": {
      "text/plain": [
       "array([[31831,  6673],\n",
       "       [  224,   395]], dtype=int64)"
      ]
     },
     "execution_count": 100,
     "metadata": {},
     "output_type": "execute_result"
    }
   ],
   "source": [
    "confusion_matrix(y_test, y_pred)"
   ]
  },
  {
   "cell_type": "code",
   "execution_count": 101,
   "id": "optical-costs",
   "metadata": {},
   "outputs": [
    {
     "name": "stdout",
     "output_type": "stream",
     "text": [
      "              precision    recall  f1-score   support\n",
      "\n",
      "       False       0.99      0.83      0.90     38504\n",
      "        True       0.06      0.64      0.10       619\n",
      "\n",
      "    accuracy                           0.82     39123\n",
      "   macro avg       0.52      0.73      0.50     39123\n",
      "weighted avg       0.98      0.82      0.89     39123\n",
      "\n"
     ]
    }
   ],
   "source": [
    "print(classification_report(y_test, y_pred))"
   ]
  },
  {
   "cell_type": "markdown",
   "id": "massive-portland",
   "metadata": {},
   "source": [
    "## SMOTE"
   ]
  },
  {
   "cell_type": "code",
   "execution_count": 102,
   "id": "organizational-binary",
   "metadata": {},
   "outputs": [],
   "source": [
    "from imblearn.over_sampling import SMOTE"
   ]
  },
  {
   "cell_type": "code",
   "execution_count": 103,
   "id": "signed-platform",
   "metadata": {},
   "outputs": [],
   "source": [
    "oversampler = SMOTE(k_neighbors=5, n_jobs=-1, random_state=321)"
   ]
  },
  {
   "cell_type": "code",
   "execution_count": 104,
   "id": "detailed-comment",
   "metadata": {},
   "outputs": [],
   "source": [
    "X_smote, y_smote = oversampler.fit_resample(X_train, y_train)"
   ]
  },
  {
   "cell_type": "code",
   "execution_count": 105,
   "id": "terminal-interface",
   "metadata": {},
   "outputs": [
    {
     "data": {
      "text/plain": [
       "False    153372\n",
       "True     153372\n",
       "Name: targettime, dtype: int64"
      ]
     },
     "execution_count": 105,
     "metadata": {},
     "output_type": "execute_result"
    }
   ],
   "source": [
    "y_smote.value_counts()"
   ]
  },
  {
   "cell_type": "code",
   "execution_count": 107,
   "id": "demonstrated-reservoir",
   "metadata": {},
   "outputs": [
    {
     "name": "stderr",
     "output_type": "stream",
     "text": [
      "C:\\Users\\alvin\\anaconda3\\lib\\site-packages\\sklearn\\linear_model\\_logistic.py:763: ConvergenceWarning: lbfgs failed to converge (status=1):\n",
      "STOP: TOTAL NO. of ITERATIONS REACHED LIMIT.\n",
      "\n",
      "Increase the number of iterations (max_iter) or scale the data as shown in:\n",
      "    https://scikit-learn.org/stable/modules/preprocessing.html\n",
      "Please also refer to the documentation for alternative solver options:\n",
      "    https://scikit-learn.org/stable/modules/linear_model.html#logistic-regression\n",
      "  n_iter_i = _check_optimize_result(\n"
     ]
    },
    {
     "data": {
      "text/plain": [
       "LogisticRegression()"
      ]
     },
     "execution_count": 107,
     "metadata": {},
     "output_type": "execute_result"
    }
   ],
   "source": [
    "lr = LogisticRegression()\n",
    "lr.fit(X_smote, y_smote)"
   ]
  },
  {
   "cell_type": "code",
   "execution_count": 108,
   "id": "dirty-signature",
   "metadata": {},
   "outputs": [
    {
     "data": {
      "text/plain": [
       "0.8479666692227079"
      ]
     },
     "execution_count": 108,
     "metadata": {},
     "output_type": "execute_result"
    }
   ],
   "source": [
    "y_pred = lr.predict(X_test)\n",
    "accuracy_score(y_test, y_pred)"
   ]
  },
  {
   "cell_type": "code",
   "execution_count": 109,
   "id": "injured-austria",
   "metadata": {},
   "outputs": [
    {
     "data": {
      "text/plain": [
       "array([[32777,  5727],\n",
       "       [  221,   398]], dtype=int64)"
      ]
     },
     "execution_count": 109,
     "metadata": {},
     "output_type": "execute_result"
    }
   ],
   "source": [
    "confusion_matrix(y_test, y_pred)"
   ]
  },
  {
   "cell_type": "code",
   "execution_count": 110,
   "id": "inside-union",
   "metadata": {},
   "outputs": [
    {
     "name": "stdout",
     "output_type": "stream",
     "text": [
      "              precision    recall  f1-score   support\n",
      "\n",
      "       False       0.99      0.85      0.92     38504\n",
      "        True       0.06      0.64      0.12       619\n",
      "\n",
      "    accuracy                           0.85     39123\n",
      "   macro avg       0.53      0.75      0.52     39123\n",
      "weighted avg       0.98      0.85      0.90     39123\n",
      "\n"
     ]
    }
   ],
   "source": [
    "print(classification_report(y_test, y_pred))"
   ]
  }
 ],
 "metadata": {
  "kernelspec": {
   "display_name": "Python 3",
   "language": "python",
   "name": "python3"
  },
  "language_info": {
   "codemirror_mode": {
    "name": "ipython",
    "version": 3
   },
   "file_extension": ".py",
   "mimetype": "text/x-python",
   "name": "python",
   "nbconvert_exporter": "python",
   "pygments_lexer": "ipython3",
   "version": "3.7.10"
  }
 },
 "nbformat": 4,
 "nbformat_minor": 5
}
