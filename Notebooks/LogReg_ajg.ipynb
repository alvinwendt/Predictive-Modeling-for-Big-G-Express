{
 "cells": [
  {
   "cell_type": "code",
   "execution_count": 1,
   "id": "center-conviction",
   "metadata": {},
   "outputs": [],
   "source": [
    "import pandas as pd\n",
    "import numpy as np\n",
    "from numpy import arange\n",
    "import datetime as dt\n",
    "\n",
    "from sklearn.model_selection import train_test_split, GridSearchCV\n",
    "from sklearn.linear_model import LogisticRegression, LinearRegression\n",
    "from sklearn import metrics\n",
    "from sklearn.metrics import classification_report, f1_score, accuracy_score, confusion_matrix, make_scorer\n",
    "\n",
    "from cm import plot_confusion_matrix\n",
    "\n",
    "import tensorflow as tf"
   ]
  },
  {
   "cell_type": "code",
   "execution_count": 2,
   "id": "illegal-respect",
   "metadata": {},
   "outputs": [
    {
     "data": {
      "text/plain": [
       "[PhysicalDevice(name='/physical_device:GPU:0', device_type='GPU'),\n",
       " PhysicalDevice(name='/physical_device:GPU:1', device_type='GPU')]"
      ]
     },
     "execution_count": 2,
     "metadata": {},
     "output_type": "execute_result"
    }
   ],
   "source": [
    "#Checking GPU access\n",
    "\n",
    "tf.config.list_physical_devices('GPU')"
   ]
  },
  {
   "cell_type": "code",
   "execution_count": 3,
   "id": "divine-philippines",
   "metadata": {},
   "outputs": [],
   "source": [
    "merge_geo_codes = pd.read_csv('data/merge_geo_codes.csv', low_memory = False)"
   ]
  },
  {
   "cell_type": "markdown",
   "id": "wireless-intro",
   "metadata": {},
   "source": [
    "# Custom TTS"
   ]
  },
  {
   "cell_type": "code",
   "execution_count": 4,
   "id": "liberal-bikini",
   "metadata": {},
   "outputs": [],
   "source": [
    "#A function that simulates a train test split that keeps time sequences for trucks together, but still allows individual trucks\n",
    "#to randomly be assigned to training and testing\n",
    "\n",
    "def train_test_brake (df):\n",
    "    df = df.sort_values('EventTimeStamp')\n",
    "    t_len = df.shape[0]\n",
    "    t_perc80 = int(t_len * 0.8)\n",
    "    df80 = df.iloc[0 : t_perc80, :]\n",
    "    df20 = df.iloc[t_perc80 : , :]\n",
    "    return(df80, df20) "
   ]
  },
  {
   "cell_type": "code",
   "execution_count": 5,
   "id": "considerable-farming",
   "metadata": {},
   "outputs": [],
   "source": [
    "dataframe_80_20 = merge_geo_codes.groupby('EquipmentID').apply(train_test_brake)"
   ]
  },
  {
   "cell_type": "code",
   "execution_count": 6,
   "id": "entire-blind",
   "metadata": {},
   "outputs": [],
   "source": [
    "#Creates training dataset\n",
    "\n",
    "df80 = pd.concat([x[0] for x in dataframe_80_20])"
   ]
  },
  {
   "cell_type": "code",
   "execution_count": 7,
   "id": "prostate-testimony",
   "metadata": {},
   "outputs": [],
   "source": [
    "#Creates testing dataset\n",
    "\n",
    "df20 = pd.concat([x[1] for x in dataframe_80_20])"
   ]
  },
  {
   "cell_type": "code",
   "execution_count": 8,
   "id": "developmental-sacramento",
   "metadata": {},
   "outputs": [],
   "source": [
    "bad_predictors = ['RecordID', 'EquipmentID', 'EventTimeStamp', \n",
    "                  'spn', 'fmi', 'ecuModel', 'activeTransitionCount',\n",
    "                  'ecuSerialNumber', 'ecuSoftwareVersion', \n",
    "                  'eventDescription', 'Latitude', 'Longitude', \n",
    "                  'EquipmentID_y', 'EventTimeStamp_y', 'spnfmi_156931_y', \n",
    "                  'flagtime', 'deltatime', 'targettime']"
   ]
  },
  {
   "cell_type": "code",
   "execution_count": 9,
   "id": "coordinate-operation",
   "metadata": {},
   "outputs": [],
   "source": [
    "predictors_train = df80.drop(bad_predictors, axis = 1)\n",
    "predictors_test = df20.drop(bad_predictors, axis = 1)"
   ]
  },
  {
   "cell_type": "code",
   "execution_count": 10,
   "id": "weird-damage",
   "metadata": {},
   "outputs": [],
   "source": [
    "# Predictors\n",
    "X_train = predictors_train\n",
    "\n",
    "X_test = predictors_test\n",
    "\n",
    "# Target\n",
    "y_train = df80.targettime\n",
    "\n",
    "y_test = df20.targettime"
   ]
  },
  {
   "cell_type": "code",
   "execution_count": null,
   "id": "republican-printer",
   "metadata": {},
   "outputs": [],
   "source": []
  },
  {
   "cell_type": "code",
   "execution_count": null,
   "id": "advised-pitch",
   "metadata": {},
   "outputs": [],
   "source": []
  },
  {
   "cell_type": "markdown",
   "id": "reported-collaboration",
   "metadata": {},
   "source": [
    "# Lasso LogReg"
   ]
  },
  {
   "cell_type": "code",
   "execution_count": 62,
   "id": "agreed-migration",
   "metadata": {},
   "outputs": [
    {
     "name": "stderr",
     "output_type": "stream",
     "text": [
      "D:\\Anaconda3\\envs\\keras_env\\lib\\site-packages\\sklearn\\linear_model\\_sag.py:329: ConvergenceWarning: The max_iter was reached which means the coef_ did not converge\n",
      "  \"the coef_ did not converge\", ConvergenceWarning)\n"
     ]
    }
   ],
   "source": [
    "#Smaller c values specify stronger regularization \n",
    "with tf.device('/gpu:0'):\n",
    "    lasso = LogisticRegression(penalty = 'l1', \n",
    "                           C = 0.05, \n",
    "                           solver = 'saga', \n",
    "                           class_weight = {0: 1, 1: 50}, \n",
    "                           max_iter = 6000, \n",
    "                           warm_start = True    \n",
    "                           ).fit(X_train, y_train)"
   ]
  },
  {
   "cell_type": "code",
   "execution_count": 63,
   "id": "progressive-consensus",
   "metadata": {},
   "outputs": [],
   "source": [
    "y_pred = lasso.predict(X_test)"
   ]
  },
  {
   "cell_type": "code",
   "execution_count": 64,
   "id": "explicit-banana",
   "metadata": {},
   "outputs": [
    {
     "data": {
      "text/plain": [
       "0.6752038442859699"
      ]
     },
     "execution_count": 64,
     "metadata": {},
     "output_type": "execute_result"
    }
   ],
   "source": [
    "accuracy_score(y_test, y_pred)"
   ]
  },
  {
   "cell_type": "code",
   "execution_count": 65,
   "id": "harmful-advancement",
   "metadata": {},
   "outputs": [
    {
     "data": {
      "text/plain": [
       "array([[ 2.70409691e-06,  2.66938050e-05,  4.54900015e-05,\n",
       "         0.00000000e+00, -8.72345355e-06,  1.69447742e-12,\n",
       "        -7.09072040e-06, -4.28402066e-05,  8.47894657e-05,\n",
       "        -4.91568594e-05, -1.05522965e-05, -1.29973262e-05,\n",
       "        -2.04377448e-05, -3.31876449e-05, -1.09519591e-02,\n",
       "        -7.43134487e-06,  0.00000000e+00, -2.54145809e-11,\n",
       "        -3.26346525e-11, -2.25556104e-05, -7.57537592e-06,\n",
       "         5.92577538e-05, -6.31326682e-06, -1.10191528e-04,\n",
       "         1.47473649e-03,  0.00000000e+00, -2.76076359e-06,\n",
       "         0.00000000e+00,  0.00000000e+00, -3.37263089e-05,\n",
       "        -2.92879166e-11, -8.93158939e-06, -9.32820907e-05,\n",
       "        -3.72999610e-05, -1.78906057e-05, -1.55591443e-04,\n",
       "        -3.08418687e-03, -6.49018466e-05,  0.00000000e+00,\n",
       "         6.40645504e-04, -1.97285495e-05, -1.19868505e-04,\n",
       "         2.93149563e-06, -1.46748275e-04, -2.64590770e-05,\n",
       "         0.00000000e+00, -3.76861431e-06, -5.77915903e-06,\n",
       "         3.68606443e-05, -2.76993644e-05,  0.00000000e+00,\n",
       "         7.38306968e-04, -6.57940495e-11, -2.55165930e-05,\n",
       "        -2.59777246e-05, -1.21291212e-05, -6.32359858e-05,\n",
       "        -1.17968501e-08, -1.33458327e-05,  1.66154710e-04,\n",
       "         3.77443587e-04,  3.08154616e-04, -2.55370047e-11,\n",
       "         3.13025752e-05, -7.35773462e-11, -4.49132173e-05,\n",
       "        -2.59768955e-11,  1.57856910e-04,  1.51735008e-11,\n",
       "        -1.87982848e-04, -3.88519351e-06, -4.60501598e-05,\n",
       "        -4.16710816e-06, -7.36740613e-05,  0.00000000e+00,\n",
       "         1.07304114e-10, -2.04628895e-05, -6.02072363e-06,\n",
       "        -6.29287276e-05,  0.00000000e+00,  0.00000000e+00,\n",
       "         0.00000000e+00, -5.96230638e-13, -2.17384772e-05,\n",
       "        -1.07435423e-05,  0.00000000e+00, -9.07274332e-03,\n",
       "        -1.24427985e-04, -1.71768705e-05,  0.00000000e+00,\n",
       "        -7.96286423e-05, -7.24381962e-05,  3.12095041e-05,\n",
       "         6.86405528e-07, -8.60079444e-06,  2.97712053e-05,\n",
       "         0.00000000e+00,  0.00000000e+00, -1.60491490e-04,\n",
       "         9.42885239e-06,  0.00000000e+00, -1.11621398e-10,\n",
       "        -5.87985862e-06, -5.18325187e-04, -3.45426445e-04,\n",
       "        -2.68307238e-02, -2.46712438e-02,  0.00000000e+00,\n",
       "        -1.06150186e-05,  0.00000000e+00,  0.00000000e+00,\n",
       "         5.37558101e-04, -3.62797944e-11,  4.24787318e-04,\n",
       "         0.00000000e+00, -8.94010835e-06,  0.00000000e+00,\n",
       "        -9.16336138e-05, -4.36714031e-06, -4.09175967e-04,\n",
       "         0.00000000e+00, -9.37894327e-05, -1.77165544e-05,\n",
       "         0.00000000e+00, -4.86205206e-05, -6.21436718e-06,\n",
       "         3.12077563e-05,  0.00000000e+00,  1.10530736e-03,\n",
       "        -6.23558839e-12, -1.24836280e-06,  0.00000000e+00,\n",
       "        -2.18389459e-05, -9.12629493e-06, -4.93171227e-05,\n",
       "         4.33516492e-05, -4.61145289e-05,  0.00000000e+00,\n",
       "        -5.07095494e-06, -1.79293674e-05,  0.00000000e+00,\n",
       "         1.01204974e-03, -3.21600112e-05,  5.41307734e-04,\n",
       "         9.55023668e-04, -7.72052331e-05,  5.21412000e-12,\n",
       "         0.00000000e+00, -3.47664407e-05,  3.05628469e-04,\n",
       "        -9.86557180e-05,  7.07070615e-06, -1.42715148e-05,\n",
       "         0.00000000e+00, -2.03788527e-06,  0.00000000e+00,\n",
       "        -9.00811118e-05,  0.00000000e+00,  6.67786171e-05,\n",
       "         1.54000528e-03,  0.00000000e+00,  7.46406502e-05,\n",
       "         0.00000000e+00,  8.28871721e-05,  0.00000000e+00,\n",
       "        -2.07072806e-06, -7.50950878e-05,  3.50453888e-05,\n",
       "         0.00000000e+00, -6.56820187e-05,  0.00000000e+00,\n",
       "         7.76598026e-06,  0.00000000e+00, -6.38290240e-05,\n",
       "         1.14791226e-03, -7.10747220e-05,  2.01704212e-04,\n",
       "        -5.92784856e-07,  0.00000000e+00, -4.33030654e-05,\n",
       "         1.83878998e-05,  0.00000000e+00,  2.00966279e-05,\n",
       "        -1.11649587e-04,  0.00000000e+00,  1.67354892e-10,\n",
       "         3.11919678e-09,  1.38205037e-04,  0.00000000e+00,\n",
       "         0.00000000e+00,  6.20665245e-05,  4.60425053e-05,\n",
       "        -2.10993797e-05, -1.59950689e-05, -5.55120293e-12,\n",
       "         1.14370988e-04,  0.00000000e+00,  2.03125124e-05,\n",
       "         0.00000000e+00,  0.00000000e+00, -2.43844313e-05,\n",
       "        -3.28292335e-05, -1.33683176e-07, -2.19489640e-05,\n",
       "         1.39930460e-04, -7.72960149e-10,  0.00000000e+00,\n",
       "         1.21358108e-04, -8.78846166e-09,  0.00000000e+00,\n",
       "         3.83567629e-05,  2.94262410e-05,  0.00000000e+00,\n",
       "        -3.03519673e-05, -1.74629744e-11, -1.15187445e-06,\n",
       "        -2.45687335e-05, -4.37153793e-05,  3.75143194e-04,\n",
       "         0.00000000e+00, -7.91996758e-05,  1.44855077e-05,\n",
       "         1.48741988e-11,  0.00000000e+00, -2.58916936e-05,\n",
       "         1.18086089e-06, -8.67814225e-06, -2.27906825e-06,\n",
       "        -1.83320014e-09,  1.23409874e-06, -8.74742632e-11,\n",
       "        -9.39632782e-12, -7.33649675e-05, -3.98566438e-06,\n",
       "         0.00000000e+00, -3.90865021e-07, -1.58317388e-04,\n",
       "         0.00000000e+00,  1.20542131e-05,  1.35716641e-04,\n",
       "         5.92160206e-06,  0.00000000e+00, -1.46524423e-05,\n",
       "         5.45394554e-06,  0.00000000e+00,  0.00000000e+00,\n",
       "        -1.91683707e-06, -4.30934121e-06,  8.70071858e-04,\n",
       "        -2.04942020e-11, -4.59964353e-06,  1.06588683e-03,\n",
       "         2.09938271e-10,  3.54100545e-05, -3.05174084e-04,\n",
       "         0.00000000e+00,  7.52266711e-05,  2.66147868e-04,\n",
       "         5.28503940e-04,  1.00034684e-04,  0.00000000e+00,\n",
       "         0.00000000e+00,  0.00000000e+00,  0.00000000e+00,\n",
       "        -6.38918140e-06, -2.11725395e-04,  0.00000000e+00,\n",
       "         1.66104189e-05,  1.90564474e-04,  0.00000000e+00,\n",
       "         5.04395078e-05, -1.01920726e-06, -4.78425816e-06,\n",
       "         0.00000000e+00,  0.00000000e+00,  0.00000000e+00,\n",
       "         0.00000000e+00,  0.00000000e+00,  9.75913284e-06,\n",
       "         0.00000000e+00,  0.00000000e+00,  3.88179102e-06,\n",
       "        -5.84127363e-05, -5.71422117e-06,  0.00000000e+00,\n",
       "        -1.01933336e-06, -1.30197241e-06,  0.00000000e+00,\n",
       "         0.00000000e+00,  0.00000000e+00,  0.00000000e+00,\n",
       "         0.00000000e+00,  0.00000000e+00, -7.03291040e-06,\n",
       "         0.00000000e+00,  1.96980198e-03,  7.55033704e-04,\n",
       "         2.37345643e-05,  0.00000000e+00, -5.80563122e-05,\n",
       "        -2.34254160e-05,  0.00000000e+00,  6.81496300e-04,\n",
       "        -5.13838846e-06,  3.17747157e-05,  0.00000000e+00,\n",
       "        -7.95106831e-05,  1.31597839e-05, -2.87381603e-04,\n",
       "         6.95825041e-06,  0.00000000e+00,  4.88609400e-04,\n",
       "         0.00000000e+00,  0.00000000e+00,  0.00000000e+00,\n",
       "         0.00000000e+00,  0.00000000e+00,  0.00000000e+00,\n",
       "        -1.03394536e-05,  3.55488708e-04,  0.00000000e+00,\n",
       "         0.00000000e+00,  1.54799870e-05,  9.26164521e-06,\n",
       "        -1.16249800e-05,  7.25169411e-04,  2.68762617e-05,\n",
       "         0.00000000e+00,  2.11581554e-03,  0.00000000e+00,\n",
       "        -1.20776897e-07,  0.00000000e+00,  0.00000000e+00,\n",
       "        -3.75149645e-04, -4.81387115e-05, -1.33209927e-05,\n",
       "        -9.78616898e-05,  0.00000000e+00,  5.75819153e-05,\n",
       "         0.00000000e+00,  2.01460663e-04, -6.11275350e-12,\n",
       "         1.48095380e-11,  0.00000000e+00,  2.81541253e-09,\n",
       "         2.76651033e-05,  0.00000000e+00,  0.00000000e+00,\n",
       "         0.00000000e+00,  0.00000000e+00, -8.95106334e-05,\n",
       "        -1.58078020e-11,  0.00000000e+00,  0.00000000e+00,\n",
       "         0.00000000e+00, -1.27917113e-05,  1.24012546e-04,\n",
       "         9.86269898e-12, -2.60109971e-05, -1.74610466e-06,\n",
       "         1.91268751e-05,  0.00000000e+00, -8.57557951e-06,\n",
       "        -2.27528429e-05,  2.31906408e-05,  0.00000000e+00,\n",
       "        -9.61849936e-05,  3.12793593e-06,  0.00000000e+00,\n",
       "        -1.37238739e-11,  0.00000000e+00,  0.00000000e+00,\n",
       "         0.00000000e+00, -6.32470307e-06,  0.00000000e+00,\n",
       "        -2.58149103e-07,  0.00000000e+00,  0.00000000e+00,\n",
       "        -2.40891729e-11,  0.00000000e+00,  0.00000000e+00,\n",
       "         0.00000000e+00, -6.30736010e-06, -1.96978573e-06,\n",
       "         1.91601227e-05, -7.74819014e-06,  0.00000000e+00,\n",
       "        -2.23546515e-05,  0.00000000e+00,  0.00000000e+00,\n",
       "         0.00000000e+00,  0.00000000e+00,  0.00000000e+00,\n",
       "         0.00000000e+00,  0.00000000e+00,  0.00000000e+00,\n",
       "        -7.33167560e-06]])"
      ]
     },
     "execution_count": 65,
     "metadata": {},
     "output_type": "execute_result"
    }
   ],
   "source": [
    "lasso.coef_"
   ]
  },
  {
   "cell_type": "code",
   "execution_count": 66,
   "id": "incident-slave",
   "metadata": {},
   "outputs": [
    {
     "data": {
      "text/plain": [
       "array([-0.00198416])"
      ]
     },
     "execution_count": 66,
     "metadata": {},
     "output_type": "execute_result"
    }
   ],
   "source": [
    "lasso.intercept_"
   ]
  },
  {
   "cell_type": "code",
   "execution_count": 67,
   "id": "animal-greenhouse",
   "metadata": {},
   "outputs": [
    {
     "data": {
      "text/plain": [
       "array([[0.49977842, 0.50022158],\n",
       "       [0.50031626, 0.49968374],\n",
       "       [0.50036986, 0.49963014],\n",
       "       ...,\n",
       "       [0.37050596, 0.62949404],\n",
       "       [0.36833388, 0.63166612],\n",
       "       [0.3680582 , 0.6319418 ]])"
      ]
     },
     "execution_count": 67,
     "metadata": {},
     "output_type": "execute_result"
    }
   ],
   "source": [
    "lasso.predict_proba(X_test)"
   ]
  },
  {
   "cell_type": "code",
   "execution_count": 68,
   "id": "super-vietnamese",
   "metadata": {},
   "outputs": [
    {
     "data": {
      "text/plain": [
       "array([[26020, 12484],\n",
       "       [  223,   396]], dtype=int64)"
      ]
     },
     "execution_count": 68,
     "metadata": {},
     "output_type": "execute_result"
    }
   ],
   "source": [
    "confusion_matrix(y_test, y_pred)"
   ]
  },
  {
   "cell_type": "code",
   "execution_count": 69,
   "id": "bizarre-ordinary",
   "metadata": {},
   "outputs": [
    {
     "name": "stderr",
     "output_type": "stream",
     "text": [
      "D:\\NSS\\big_g_express-big_shot\\cm.py:12: MatplotlibDeprecationWarning: The 's' parameter of annotate() has been renamed 'text' since Matplotlib 3.3; support for the old name will be dropped two minor releases later.\n",
      "  plt.annotate(s = labels[0], xy = (0.5, 2.05), va = 'bottom', ha = 'center', fontsize = fontsize)\n",
      "D:\\NSS\\big_g_express-big_shot\\cm.py:13: MatplotlibDeprecationWarning: The 's' parameter of annotate() has been renamed 'text' since Matplotlib 3.3; support for the old name will be dropped two minor releases later.\n",
      "  plt.annotate(s = labels[1], xy = (1.5, 2.05), va = 'bottom', ha = 'center', fontsize = fontsize)\n",
      "D:\\NSS\\big_g_express-big_shot\\cm.py:14: MatplotlibDeprecationWarning: The 's' parameter of annotate() has been renamed 'text' since Matplotlib 3.3; support for the old name will be dropped two minor releases later.\n",
      "  plt.annotate(s = labels[0], xy = (-0.05, 1.5), va = 'center', ha = 'right', fontsize = fontsize, rotation = 90)\n",
      "D:\\NSS\\big_g_express-big_shot\\cm.py:15: MatplotlibDeprecationWarning: The 's' parameter of annotate() has been renamed 'text' since Matplotlib 3.3; support for the old name will be dropped two minor releases later.\n",
      "  plt.annotate(s = labels[1], xy = (-0.05, 0.5), va = 'center', ha = 'right', fontsize = fontsize, rotation = 90)\n",
      "D:\\NSS\\big_g_express-big_shot\\cm.py:17: MatplotlibDeprecationWarning: The 's' parameter of annotate() has been renamed 'text' since Matplotlib 3.3; support for the old name will be dropped two minor releases later.\n",
      "  plt.annotate(s = 'Predicted', xy = (1, 2.25), va = 'bottom', ha = 'center', fontsize = fontsize + 2, fontweight = 'bold')\n",
      "D:\\NSS\\big_g_express-big_shot\\cm.py:18: MatplotlibDeprecationWarning: The 's' parameter of annotate() has been renamed 'text' since Matplotlib 3.3; support for the old name will be dropped two minor releases later.\n",
      "  plt.annotate(s = 'Actual', xy = (-0.25, 1), va = 'center', ha = 'right', fontsize = fontsize + 2, fontweight = 'bold', rotation = 90)\n",
      "D:\\NSS\\big_g_express-big_shot\\cm.py:24: MatplotlibDeprecationWarning: The 's' parameter of annotate() has been renamed 'text' since Matplotlib 3.3; support for the old name will be dropped two minor releases later.\n",
      "  plt.annotate(s = cm[j][i], xy = (0.5 + i, 1.5 - j), fontsize = fontsize + 4, ha = 'center', va = 'center')\n",
      "D:\\NSS\\big_g_express-big_shot\\cm.py:37: MatplotlibDeprecationWarning: The 's' parameter of annotate() has been renamed 'text' since Matplotlib 3.3; support for the old name will be dropped two minor releases later.\n",
      "  xy = (1, -0.1), ha = 'center', va = 'top', fontsize = fontsize + 2)\n"
     ]
    },
    {
     "data": {
      "image/png": "[encoded data removed]",
      "text/plain": [
       "<Figure size 432x432 with 1 Axes>"
      ]
     },
     "metadata": {
      "needs_background": "light"
     },
     "output_type": "display_data"
    }
   ],
   "source": [
    "plot_confusion_matrix(y_test, y_pred, labels = ['0', '1'], metric = 'accuracy')"
   ]
  },
  {
   "cell_type": "code",
   "execution_count": 70,
   "id": "outstanding-immigration",
   "metadata": {},
   "outputs": [
    {
     "data": {
      "text/plain": [
       "0.6752038442859699"
      ]
     },
     "execution_count": 70,
     "metadata": {},
     "output_type": "execute_result"
    }
   ],
   "source": [
    "f1_score(y_test, y_pred, average = 'micro')"
   ]
  },
  {
   "cell_type": "code",
   "execution_count": 71,
   "id": "stunning-bracket",
   "metadata": {},
   "outputs": [
    {
     "name": "stdout",
     "output_type": "stream",
     "text": [
      "              precision    recall  f1-score   support\n",
      "\n",
      "       False       0.99      0.68      0.80     38504\n",
      "        True       0.03      0.64      0.06       619\n",
      "\n",
      "    accuracy                           0.68     39123\n",
      "   macro avg       0.51      0.66      0.43     39123\n",
      "weighted avg       0.98      0.68      0.79     39123\n",
      "\n"
     ]
    }
   ],
   "source": [
    "print(classification_report(y_test, y_pred))"
   ]
  },
  {
   "cell_type": "code",
   "execution_count": null,
   "id": "material-chest",
   "metadata": {},
   "outputs": [],
   "source": []
  },
  {
   "cell_type": "code",
   "execution_count": null,
   "id": "rural-warren",
   "metadata": {},
   "outputs": [],
   "source": []
  },
  {
   "cell_type": "code",
   "execution_count": null,
   "id": "confused-switzerland",
   "metadata": {},
   "outputs": [],
   "source": []
  },
  {
   "cell_type": "code",
   "execution_count": null,
   "id": "pursuant-sterling",
   "metadata": {},
   "outputs": [],
   "source": []
  },
  {
   "cell_type": "code",
   "execution_count": null,
   "id": "romantic-comedy",
   "metadata": {},
   "outputs": [],
   "source": []
  },
  {
   "cell_type": "code",
   "execution_count": null,
   "id": "sixth-morgan",
   "metadata": {},
   "outputs": [],
   "source": []
  },
  {
   "cell_type": "code",
   "execution_count": null,
   "id": "occupied-competition",
   "metadata": {},
   "outputs": [],
   "source": []
  },
  {
   "cell_type": "code",
   "execution_count": null,
   "id": "concrete-cycling",
   "metadata": {},
   "outputs": [],
   "source": []
  },
  {
   "cell_type": "code",
   "execution_count": null,
   "id": "technological-faith",
   "metadata": {},
   "outputs": [],
   "source": []
  },
  {
   "cell_type": "markdown",
   "id": "cleared-thirty",
   "metadata": {},
   "source": [
    "# GridSearchCV on Lasso Penalty"
   ]
  },
  {
   "cell_type": "code",
   "execution_count": 15,
   "id": "inside-interview",
   "metadata": {},
   "outputs": [],
   "source": [
    "model = LogisticRegression(penalty = 'l1', \n",
    "                       solver = 'saga',\n",
    "                       max_iter = 7500, \n",
    "                       fit_intercept = True)"
   ]
  },
  {
   "cell_type": "code",
   "execution_count": 16,
   "id": "incoming-travel",
   "metadata": {},
   "outputs": [],
   "source": [
    "#grid = dict()\n",
    "#grid['C'] = arange(0.05, 0.25, 0.05)\n",
    "\n",
    "f1 = make_scorer(f1_score, pos_label = 1)"
   ]
  },
  {
   "cell_type": "code",
   "execution_count": 17,
   "id": "international-plane",
   "metadata": {},
   "outputs": [],
   "source": [
    "param_grid = {\n",
    "    'C' : [0.05, 0.1, 0.15, 0.20, 0.25, 0.30, 0.35, 0.40],\n",
    "    'class_weight' : [{0:1, 1:1}, \n",
    "                      {0:1, 1:2},\n",
    "                      {0:1, 1:5},\n",
    "                      {0:1, 1:10},\n",
    "                      {0:1, 1:25},\n",
    "                      {0:1, 1:50}]\n",
    "              }"
   ]
  },
  {
   "cell_type": "code",
   "execution_count": 18,
   "id": "bronze-disclaimer",
   "metadata": {},
   "outputs": [],
   "source": [
    "search = GridSearchCV(estimator = model, \n",
    "                 param_grid = param_grid, \n",
    "                 scoring = f1, \n",
    "                 cv = 3)"
   ]
  },
  {
   "cell_type": "code",
   "execution_count": null,
   "id": "constitutional-background",
   "metadata": {
    "scrolled": false
   },
   "outputs": [],
   "source": [
    "with tf.device('/gpu:0'):\n",
    "    results = search.fit(X_train, y_train)"
   ]
  },
  {
   "cell_type": "code",
   "execution_count": 58,
   "id": "referenced-stopping",
   "metadata": {},
   "outputs": [
    {
     "data": {
      "text/plain": [
       "GridSearchCV(cv=5,\n",
       "             estimator=LogisticRegression(class_weight='balanced',\n",
       "                                          max_iter=5000, penalty='l1',\n",
       "                                          solver='saga'),\n",
       "             param_grid={'C': array([0.  , 0.05, 0.1 , 0.15, 0.2 , 0.25])},\n",
       "             scoring=<function f1_score at 0x000001B59A9C05E8>)"
      ]
     },
     "execution_count": 58,
     "metadata": {},
     "output_type": "execute_result"
    }
   ],
   "source": [
    "results"
   ]
  },
  {
   "cell_type": "code",
   "execution_count": 59,
   "id": "postal-still",
   "metadata": {},
   "outputs": [
    {
     "name": "stdout",
     "output_type": "stream",
     "text": [
      "nan\n"
     ]
    }
   ],
   "source": [
    "print(results.best_score_)"
   ]
  },
  {
   "cell_type": "code",
   "execution_count": 60,
   "id": "expanded-generic",
   "metadata": {},
   "outputs": [
    {
     "name": "stdout",
     "output_type": "stream",
     "text": [
      "{'C': 0.0}\n"
     ]
    }
   ],
   "source": [
    "print(results.best_params_)"
   ]
  },
  {
   "cell_type": "code",
   "execution_count": null,
   "id": "assisted-height",
   "metadata": {},
   "outputs": [],
   "source": []
  },
  {
   "cell_type": "code",
   "execution_count": null,
   "id": "enabling-array",
   "metadata": {},
   "outputs": [],
   "source": []
  },
  {
   "cell_type": "code",
   "execution_count": null,
   "id": "coordinate-production",
   "metadata": {},
   "outputs": [],
   "source": []
  },
  {
   "cell_type": "code",
   "execution_count": null,
   "id": "specialized-family",
   "metadata": {},
   "outputs": [],
   "source": []
  },
  {
   "cell_type": "code",
   "execution_count": null,
   "id": "engaging-diagnosis",
   "metadata": {},
   "outputs": [],
   "source": [
    "#TimeSeriesSplit"
   ]
  },
  {
   "cell_type": "code",
   "execution_count": null,
   "id": "sensitive-probability",
   "metadata": {},
   "outputs": [],
   "source": []
  },
  {
   "cell_type": "code",
   "execution_count": null,
   "id": "collective-repository",
   "metadata": {},
   "outputs": [],
   "source": []
  }
 ],
 "metadata": {
  "kernelspec": {
   "display_name": "Python 3",
   "language": "python",
   "name": "python3"
  },
  "language_info": {
   "codemirror_mode": {
    "name": "ipython",
    "version": 3
   },
   "file_extension": ".py",
   "mimetype": "text/x-python",
   "name": "python",
   "nbconvert_exporter": "python",
   "pygments_lexer": "ipython3",
   "version": "3.7.10"
  }
 },
 "nbformat": 4,
 "nbformat_minor": 5
}
